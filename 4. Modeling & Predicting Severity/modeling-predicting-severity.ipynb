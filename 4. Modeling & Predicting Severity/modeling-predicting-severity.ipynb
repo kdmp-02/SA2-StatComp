{
 "cells": [
  {
   "cell_type": "code",
   "execution_count": 1,
   "id": "a4567c73",
   "metadata": {
    "_execution_state": "idle",
    "_uuid": "051d70d956493feee0c6d64651c6a088724dca2a",
    "execution": {
     "iopub.execute_input": "2025-07-20T11:47:48.177241Z",
     "iopub.status.busy": "2025-07-20T11:47:48.175390Z",
     "iopub.status.idle": "2025-07-20T11:47:49.388121Z",
     "shell.execute_reply": "2025-07-20T11:47:49.386361Z"
    },
    "papermill": {
     "duration": 1.226407,
     "end_time": "2025-07-20T11:47:49.390373",
     "exception": false,
     "start_time": "2025-07-20T11:47:48.163966",
     "status": "completed"
    },
    "tags": []
   },
   "outputs": [
    {
     "name": "stderr",
     "output_type": "stream",
     "text": [
      "── \u001b[1mAttaching core tidyverse packages\u001b[22m ──────────────────────── tidyverse 2.0.0 ──\n",
      "\u001b[32m✔\u001b[39m \u001b[34mdplyr    \u001b[39m 1.1.4     \u001b[32m✔\u001b[39m \u001b[34mreadr    \u001b[39m 2.1.5\n",
      "\u001b[32m✔\u001b[39m \u001b[34mforcats  \u001b[39m 1.0.0     \u001b[32m✔\u001b[39m \u001b[34mstringr  \u001b[39m 1.5.1\n",
      "\u001b[32m✔\u001b[39m \u001b[34mggplot2  \u001b[39m 3.5.1     \u001b[32m✔\u001b[39m \u001b[34mtibble   \u001b[39m 3.2.1\n",
      "\u001b[32m✔\u001b[39m \u001b[34mlubridate\u001b[39m 1.9.3     \u001b[32m✔\u001b[39m \u001b[34mtidyr    \u001b[39m 1.3.1\n",
      "\u001b[32m✔\u001b[39m \u001b[34mpurrr    \u001b[39m 1.0.2     \n"
     ]
    },
    {
     "name": "stderr",
     "output_type": "stream",
     "text": [
      "── \u001b[1mConflicts\u001b[22m ────────────────────────────────────────── tidyverse_conflicts() ──\n",
      "\u001b[31m✖\u001b[39m \u001b[34mdplyr\u001b[39m::\u001b[32mfilter()\u001b[39m masks \u001b[34mstats\u001b[39m::filter()\n",
      "\u001b[31m✖\u001b[39m \u001b[34mdplyr\u001b[39m::\u001b[32mlag()\u001b[39m    masks \u001b[34mstats\u001b[39m::lag()\n",
      "\u001b[36mℹ\u001b[39m Use the conflicted package (\u001b[3m\u001b[34m<http://conflicted.r-lib.org/>\u001b[39m\u001b[23m) to force all conflicts to become errors\n"
     ]
    },
    {
     "data": {
      "text/html": [
       "'dengue4'"
      ],
      "text/latex": [
       "'dengue4'"
      ],
      "text/markdown": [
       "'dengue4'"
      ],
      "text/plain": [
       "[1] \"dengue4\""
      ]
     },
     "metadata": {},
     "output_type": "display_data"
    }
   ],
   "source": [
    "library(tidyverse)\n",
    "\n",
    "list.files(path = \"../input\")"
   ]
  },
  {
   "cell_type": "markdown",
   "id": "05e8295d",
   "metadata": {
    "papermill": {
     "duration": 0.008657,
     "end_time": "2025-07-20T11:47:49.407712",
     "exception": false,
     "start_time": "2025-07-20T11:47:49.399055",
     "status": "completed"
    },
    "tags": []
   },
   "source": [
    "# NUMBER 4: Modeling and Predicting Severity of Dengue Outcomes"
   ]
  },
  {
   "cell_type": "markdown",
   "id": "da217e89",
   "metadata": {
    "papermill": {
     "duration": 0.008458,
     "end_time": "2025-07-20T11:47:49.424502",
     "exception": false,
     "start_time": "2025-07-20T11:47:49.416044",
     "status": "completed"
    },
    "tags": []
   },
   "source": [
    "## 3.1 Introduction\n",
    "\n",
    "While case counts are frequently monitored, less attention is often paid to predicting mortality and understanding which demographic and regional factors may signal more severe outcomes. Developing predictive models using available demographic and regional data can aid in more targeted interventions, resource allocation, and timely response.\n",
    "\n",
    "### Objective\n",
    "This study aims to model and predict dengue deaths using case counts and demographic variables (age group, sex, and region). Specifically, we explore:\n",
    "\n",
    "* Whether deaths can be reliably predicted based on cases and demographics.\n",
    "* Which predictors contribute most to the probability of death.\n",
    "* The potential of statistical and resampling methods (including cross-validation and Bayesian inference) in evaluating model performance and uncertainty."
   ]
  },
  {
   "cell_type": "markdown",
   "id": "948f4ce3",
   "metadata": {
    "papermill": {
     "duration": 0.008883,
     "end_time": "2025-07-20T11:47:49.441784",
     "exception": false,
     "start_time": "2025-07-20T11:47:49.432901",
     "status": "completed"
    },
    "tags": []
   },
   "source": [
    "## 3.2 Data Preparation & Structure\n",
    "\n",
    "### Overview\n",
    "\n",
    "There is a three long-format datasets (2011-2015) disaggregated by `Age Group`, `Sex`, and `Region`.\n",
    "\n",
    "To model severity (death) as a function of cases and demographics, we need to combine the three datasets by **Year** and normalize/standardize variables."
   ]
  },
  {
   "cell_type": "code",
   "execution_count": 2,
   "id": "4d126227",
   "metadata": {
    "execution": {
     "iopub.execute_input": "2025-07-20T11:47:49.486391Z",
     "iopub.status.busy": "2025-07-20T11:47:49.460928Z",
     "iopub.status.idle": "2025-07-20T11:47:49.956242Z",
     "shell.execute_reply": "2025-07-20T11:47:49.953480Z"
    },
    "papermill": {
     "duration": 0.509223,
     "end_time": "2025-07-20T11:47:49.959653",
     "exception": false,
     "start_time": "2025-07-20T11:47:49.450430",
     "status": "completed"
    },
    "tags": []
   },
   "outputs": [
    {
     "name": "stderr",
     "output_type": "stream",
     "text": [
      "\u001b[1mRows: \u001b[22m\u001b[34m20\u001b[39m \u001b[1mColumns: \u001b[22m\u001b[34m4\u001b[39m\n"
     ]
    },
    {
     "name": "stderr",
     "output_type": "stream",
     "text": [
      "\u001b[36m──\u001b[39m \u001b[1mColumn specification\u001b[22m \u001b[36m────────────────────────────────────────────────────────\u001b[39m\n",
      "\u001b[1mDelimiter:\u001b[22m \",\"\n",
      "\u001b[31mchr\u001b[39m (1): NewAgeGroup\n",
      "\u001b[32mdbl\u001b[39m (3): Year, Cases, Deaths\n"
     ]
    },
    {
     "name": "stderr",
     "output_type": "stream",
     "text": [
      "\n",
      "\u001b[36mℹ\u001b[39m Use `spec()` to retrieve the full column specification for this data.\n",
      "\u001b[36mℹ\u001b[39m Specify the column types or set `show_col_types = FALSE` to quiet this message.\n"
     ]
    },
    {
     "name": "stderr",
     "output_type": "stream",
     "text": [
      "\u001b[1mRows: \u001b[22m\u001b[34m10\u001b[39m \u001b[1mColumns: \u001b[22m\u001b[34m4\u001b[39m\n"
     ]
    },
    {
     "name": "stderr",
     "output_type": "stream",
     "text": [
      "\u001b[36m──\u001b[39m \u001b[1mColumn specification\u001b[22m \u001b[36m────────────────────────────────────────────────────────\u001b[39m\n",
      "\u001b[1mDelimiter:\u001b[22m \",\"\n",
      "\u001b[31mchr\u001b[39m (1): Sex\n",
      "\u001b[32mdbl\u001b[39m (3): Year, Cases, Deaths\n"
     ]
    },
    {
     "name": "stderr",
     "output_type": "stream",
     "text": [
      "\n",
      "\u001b[36mℹ\u001b[39m Use `spec()` to retrieve the full column specification for this data.\n",
      "\u001b[36mℹ\u001b[39m Specify the column types or set `show_col_types = FALSE` to quiet this message.\n"
     ]
    },
    {
     "name": "stderr",
     "output_type": "stream",
     "text": [
      "\u001b[1mRows: \u001b[22m\u001b[34m50\u001b[39m \u001b[1mColumns: \u001b[22m\u001b[34m4\u001b[39m\n"
     ]
    },
    {
     "name": "stderr",
     "output_type": "stream",
     "text": [
      "\u001b[36m──\u001b[39m \u001b[1mColumn specification\u001b[22m \u001b[36m────────────────────────────────────────────────────────\u001b[39m\n",
      "\u001b[1mDelimiter:\u001b[22m \",\"\n",
      "\u001b[31mchr\u001b[39m (1): Region\n",
      "\u001b[32mdbl\u001b[39m (3): Year, Cases, Deaths\n"
     ]
    },
    {
     "name": "stderr",
     "output_type": "stream",
     "text": [
      "\n",
      "\u001b[36mℹ\u001b[39m Use `spec()` to retrieve the full column specification for this data.\n",
      "\u001b[36mℹ\u001b[39m Specify the column types or set `show_col_types = FALSE` to quiet this message.\n"
     ]
    },
    {
     "data": {
      "text/html": [
       "<table class=\"dataframe\">\n",
       "<caption>A tibble: 50 × 8</caption>\n",
       "<thead>\n",
       "\t<tr><th scope=col>Year</th><th scope=col>Region</th><th scope=col>Cases</th><th scope=col>Deaths</th><th scope=col>Key</th><th scope=col>CFR</th><th scope=col>Log_Cases</th><th scope=col>Log_Deaths</th></tr>\n",
       "\t<tr><th scope=col>&lt;dbl&gt;</th><th scope=col>&lt;chr&gt;</th><th scope=col>&lt;dbl&gt;</th><th scope=col>&lt;dbl&gt;</th><th scope=col>&lt;chr&gt;</th><th scope=col>&lt;dbl&gt;</th><th scope=col>&lt;dbl&gt;</th><th scope=col>&lt;dbl&gt;</th></tr>\n",
       "</thead>\n",
       "<tbody>\n",
       "\t<tr><td>2011</td><td>NCR</td><td>28040</td><td>161</td><td>2011 REGION</td><td>0.005741797</td><td>10.241423</td><td>5.087596</td></tr>\n",
       "\t<tr><td>2012</td><td>NCR</td><td>35796</td><td>143</td><td>2012 REGION</td><td>0.003994860</td><td>10.485619</td><td>4.969813</td></tr>\n",
       "\t<tr><td>2013</td><td>NCR</td><td>23437</td><td> 52</td><td>2013 REGION</td><td>0.002218714</td><td>10.062114</td><td>3.970292</td></tr>\n",
       "\t<tr><td>2014</td><td>NCR</td><td> 8929</td><td> 44</td><td>2014 REGION</td><td>0.004927763</td><td> 9.097172</td><td>3.806662</td></tr>\n",
       "\t<tr><td>2015</td><td>NCR</td><td>26804</td><td>115</td><td>2015 REGION</td><td>0.004290404</td><td>10.196344</td><td>4.753590</td></tr>\n",
       "\t<tr><td>2011</td><td>I  </td><td>14389</td><td> 73</td><td>2011 REGION</td><td>0.005073320</td><td> 9.574289</td><td>4.304065</td></tr>\n",
       "\t<tr><td>2012</td><td>I  </td><td> 9619</td><td> 42</td><td>2012 REGION</td><td>0.004366358</td><td> 9.171600</td><td>3.761200</td></tr>\n",
       "\t<tr><td>2013</td><td>I  </td><td>16564</td><td> 46</td><td>2013 REGION</td><td>0.002777107</td><td> 9.715047</td><td>3.850148</td></tr>\n",
       "\t<tr><td>2014</td><td>I  </td><td> 6985</td><td> 18</td><td>2014 REGION</td><td>0.002576951</td><td> 8.851663</td><td>2.944439</td></tr>\n",
       "\t<tr><td>2015</td><td>I  </td><td>17605</td><td> 41</td><td>2015 REGION</td><td>0.002328884</td><td> 9.775995</td><td>3.737670</td></tr>\n",
       "\t<tr><td>2011</td><td>II </td><td> 9673</td><td> 45</td><td>2011 REGION</td><td>0.004652124</td><td> 9.177197</td><td>3.828641</td></tr>\n",
       "\t<tr><td>2012</td><td>II </td><td> 7886</td><td> 30</td><td>2012 REGION</td><td>0.003804210</td><td> 8.972971</td><td>3.433987</td></tr>\n",
       "\t<tr><td>2013</td><td>II </td><td>15946</td><td> 27</td><td>2013 REGION</td><td>0.001693215</td><td> 9.677026</td><td>3.332205</td></tr>\n",
       "\t<tr><td>2014</td><td>II </td><td> 3854</td><td> 17</td><td>2014 REGION</td><td>0.004411002</td><td> 8.257126</td><td>2.890372</td></tr>\n",
       "\t<tr><td>2015</td><td>II </td><td>13855</td><td> 17</td><td>2015 REGION</td><td>0.001226994</td><td> 9.536474</td><td>2.890372</td></tr>\n",
       "\t<tr><td>2011</td><td>III</td><td>26878</td><td> 59</td><td>2011 REGION</td><td>0.002195104</td><td>10.199101</td><td>4.094345</td></tr>\n",
       "\t<tr><td>2012</td><td>III</td><td>28360</td><td> 61</td><td>2012 REGION</td><td>0.002150917</td><td>10.252770</td><td>4.127134</td></tr>\n",
       "\t<tr><td>2013</td><td>III</td><td>20615</td><td> 34</td><td>2013 REGION</td><td>0.001649285</td><td> 9.933823</td><td>3.555348</td></tr>\n",
       "\t<tr><td>2014</td><td>III</td><td>14471</td><td> 19</td><td>2014 REGION</td><td>0.001312971</td><td> 9.579971</td><td>2.995732</td></tr>\n",
       "\t<tr><td>2015</td><td>III</td><td>37047</td><td> 49</td><td>2015 REGION</td><td>0.001322644</td><td>10.519970</td><td>3.912023</td></tr>\n",
       "\t<tr><td>2011</td><td>IVA</td><td>17567</td><td>107</td><td>2011 REGION</td><td>0.006090966</td><td> 9.773834</td><td>4.682131</td></tr>\n",
       "\t<tr><td>2012</td><td>IVA</td><td>29843</td><td>121</td><td>2012 REGION</td><td>0.004054552</td><td>10.303739</td><td>4.804021</td></tr>\n",
       "\t<tr><td>2013</td><td>IVA</td><td>30219</td><td> 64</td><td>2013 REGION</td><td>0.002117873</td><td>10.316259</td><td>4.174387</td></tr>\n",
       "\t<tr><td>2014</td><td>IVA</td><td>15111</td><td> 30</td><td>2014 REGION</td><td>0.001985309</td><td> 9.623244</td><td>3.433987</td></tr>\n",
       "\t<tr><td>2015</td><td>IVA</td><td>36033</td><td>109</td><td>2015 REGION</td><td>0.003025005</td><td>10.492218</td><td>4.700480</td></tr>\n",
       "\t<tr><td>2011</td><td>VI </td><td> 3206</td><td> 39</td><td>2011 REGION</td><td>0.012164691</td><td> 8.073091</td><td>3.688879</td></tr>\n",
       "\t<tr><td>2012</td><td>VI </td><td>11880</td><td> 97</td><td>2012 REGION</td><td>0.008164983</td><td> 9.382696</td><td>4.584967</td></tr>\n",
       "\t<tr><td>2013</td><td>VI </td><td>22461</td><td> 69</td><td>2013 REGION</td><td>0.003071991</td><td>10.019580</td><td>4.248495</td></tr>\n",
       "\t<tr><td>2014</td><td>VI </td><td> 8489</td><td> 27</td><td>2014 REGION</td><td>0.003180587</td><td> 9.046644</td><td>3.332205</td></tr>\n",
       "\t<tr><td>2015</td><td>VI </td><td>10353</td><td> 26</td><td>2015 REGION</td><td>0.002511349</td><td> 9.245128</td><td>3.295837</td></tr>\n",
       "\t<tr><td>2011</td><td>VII</td><td> 5373</td><td> 26</td><td>2011 REGION</td><td>0.004839010</td><td> 8.589328</td><td>3.295837</td></tr>\n",
       "\t<tr><td>2012</td><td>VII</td><td>19193</td><td> 89</td><td>2012 REGION</td><td>0.004637107</td><td> 9.862353</td><td>4.499810</td></tr>\n",
       "\t<tr><td>2013</td><td>VII</td><td>15853</td><td> 57</td><td>2013 REGION</td><td>0.003595534</td><td> 9.671177</td><td>4.060443</td></tr>\n",
       "\t<tr><td>2014</td><td>VII</td><td> 6566</td><td> 26</td><td>2014 REGION</td><td>0.003959793</td><td> 8.789812</td><td>3.295837</td></tr>\n",
       "\t<tr><td>2015</td><td>VII</td><td>14423</td><td> 87</td><td>2015 REGION</td><td>0.006032032</td><td> 9.576649</td><td>4.477337</td></tr>\n",
       "\t<tr><td>2011</td><td>X  </td><td> 2000</td><td>  8</td><td>2011 REGION</td><td>0.004000000</td><td> 7.601402</td><td>2.197225</td></tr>\n",
       "\t<tr><td>2012</td><td>X  </td><td> 6550</td><td> 48</td><td>2012 REGION</td><td>0.007328244</td><td> 8.787373</td><td>3.891820</td></tr>\n",
       "\t<tr><td>2013</td><td>X  </td><td> 5361</td><td> 49</td><td>2013 REGION</td><td>0.009140086</td><td> 8.587092</td><td>3.912023</td></tr>\n",
       "\t<tr><td>2014</td><td>X  </td><td>11752</td><td> 65</td><td>2014 REGION</td><td>0.005530973</td><td> 9.371864</td><td>4.189655</td></tr>\n",
       "\t<tr><td>2015</td><td>X  </td><td>10303</td><td> 44</td><td>2015 REGION</td><td>0.004270601</td><td> 9.240287</td><td>3.806662</td></tr>\n",
       "\t<tr><td>2011</td><td>XI </td><td> 4178</td><td> 37</td><td>2011 REGION</td><td>0.008855912</td><td> 8.337827</td><td>3.637586</td></tr>\n",
       "\t<tr><td>2012</td><td>XI </td><td>10107</td><td>109</td><td>2012 REGION</td><td>0.010784605</td><td> 9.221082</td><td>4.700480</td></tr>\n",
       "\t<tr><td>2013</td><td>XI </td><td>10886</td><td> 62</td><td>2013 REGION</td><td>0.005695389</td><td> 9.295325</td><td>4.143135</td></tr>\n",
       "\t<tr><td>2014</td><td>XI </td><td> 8561</td><td> 44</td><td>2014 REGION</td><td>0.005139586</td><td> 9.055089</td><td>3.806662</td></tr>\n",
       "\t<tr><td>2015</td><td>XI </td><td> 5057</td><td> 21</td><td>2015 REGION</td><td>0.004152660</td><td> 8.528726</td><td>3.091042</td></tr>\n",
       "\t<tr><td>2011</td><td>XII</td><td> 2735</td><td> 26</td><td>2011 REGION</td><td>0.009506399</td><td> 7.914252</td><td>3.295837</td></tr>\n",
       "\t<tr><td>2012</td><td>XII</td><td> 4573</td><td> 53</td><td>2012 REGION</td><td>0.011589766</td><td> 8.428143</td><td>3.988984</td></tr>\n",
       "\t<tr><td>2013</td><td>XII</td><td>13064</td><td> 68</td><td>2013 REGION</td><td>0.005205144</td><td> 9.477692</td><td>4.234107</td></tr>\n",
       "\t<tr><td>2014</td><td>XII</td><td> 7247</td><td> 40</td><td>2014 REGION</td><td>0.005519525</td><td> 8.888481</td><td>3.713572</td></tr>\n",
       "\t<tr><td>2015</td><td>XII</td><td> 9586</td><td> 31</td><td>2015 REGION</td><td>0.003233883</td><td> 9.168163</td><td>3.465736</td></tr>\n",
       "</tbody>\n",
       "</table>\n"
      ],
      "text/latex": [
       "A tibble: 50 × 8\n",
       "\\begin{tabular}{llllllll}\n",
       " Year & Region & Cases & Deaths & Key & CFR & Log\\_Cases & Log\\_Deaths\\\\\n",
       " <dbl> & <chr> & <dbl> & <dbl> & <chr> & <dbl> & <dbl> & <dbl>\\\\\n",
       "\\hline\n",
       "\t 2011 & NCR & 28040 & 161 & 2011 REGION & 0.005741797 & 10.241423 & 5.087596\\\\\n",
       "\t 2012 & NCR & 35796 & 143 & 2012 REGION & 0.003994860 & 10.485619 & 4.969813\\\\\n",
       "\t 2013 & NCR & 23437 &  52 & 2013 REGION & 0.002218714 & 10.062114 & 3.970292\\\\\n",
       "\t 2014 & NCR &  8929 &  44 & 2014 REGION & 0.004927763 &  9.097172 & 3.806662\\\\\n",
       "\t 2015 & NCR & 26804 & 115 & 2015 REGION & 0.004290404 & 10.196344 & 4.753590\\\\\n",
       "\t 2011 & I   & 14389 &  73 & 2011 REGION & 0.005073320 &  9.574289 & 4.304065\\\\\n",
       "\t 2012 & I   &  9619 &  42 & 2012 REGION & 0.004366358 &  9.171600 & 3.761200\\\\\n",
       "\t 2013 & I   & 16564 &  46 & 2013 REGION & 0.002777107 &  9.715047 & 3.850148\\\\\n",
       "\t 2014 & I   &  6985 &  18 & 2014 REGION & 0.002576951 &  8.851663 & 2.944439\\\\\n",
       "\t 2015 & I   & 17605 &  41 & 2015 REGION & 0.002328884 &  9.775995 & 3.737670\\\\\n",
       "\t 2011 & II  &  9673 &  45 & 2011 REGION & 0.004652124 &  9.177197 & 3.828641\\\\\n",
       "\t 2012 & II  &  7886 &  30 & 2012 REGION & 0.003804210 &  8.972971 & 3.433987\\\\\n",
       "\t 2013 & II  & 15946 &  27 & 2013 REGION & 0.001693215 &  9.677026 & 3.332205\\\\\n",
       "\t 2014 & II  &  3854 &  17 & 2014 REGION & 0.004411002 &  8.257126 & 2.890372\\\\\n",
       "\t 2015 & II  & 13855 &  17 & 2015 REGION & 0.001226994 &  9.536474 & 2.890372\\\\\n",
       "\t 2011 & III & 26878 &  59 & 2011 REGION & 0.002195104 & 10.199101 & 4.094345\\\\\n",
       "\t 2012 & III & 28360 &  61 & 2012 REGION & 0.002150917 & 10.252770 & 4.127134\\\\\n",
       "\t 2013 & III & 20615 &  34 & 2013 REGION & 0.001649285 &  9.933823 & 3.555348\\\\\n",
       "\t 2014 & III & 14471 &  19 & 2014 REGION & 0.001312971 &  9.579971 & 2.995732\\\\\n",
       "\t 2015 & III & 37047 &  49 & 2015 REGION & 0.001322644 & 10.519970 & 3.912023\\\\\n",
       "\t 2011 & IVA & 17567 & 107 & 2011 REGION & 0.006090966 &  9.773834 & 4.682131\\\\\n",
       "\t 2012 & IVA & 29843 & 121 & 2012 REGION & 0.004054552 & 10.303739 & 4.804021\\\\\n",
       "\t 2013 & IVA & 30219 &  64 & 2013 REGION & 0.002117873 & 10.316259 & 4.174387\\\\\n",
       "\t 2014 & IVA & 15111 &  30 & 2014 REGION & 0.001985309 &  9.623244 & 3.433987\\\\\n",
       "\t 2015 & IVA & 36033 & 109 & 2015 REGION & 0.003025005 & 10.492218 & 4.700480\\\\\n",
       "\t 2011 & VI  &  3206 &  39 & 2011 REGION & 0.012164691 &  8.073091 & 3.688879\\\\\n",
       "\t 2012 & VI  & 11880 &  97 & 2012 REGION & 0.008164983 &  9.382696 & 4.584967\\\\\n",
       "\t 2013 & VI  & 22461 &  69 & 2013 REGION & 0.003071991 & 10.019580 & 4.248495\\\\\n",
       "\t 2014 & VI  &  8489 &  27 & 2014 REGION & 0.003180587 &  9.046644 & 3.332205\\\\\n",
       "\t 2015 & VI  & 10353 &  26 & 2015 REGION & 0.002511349 &  9.245128 & 3.295837\\\\\n",
       "\t 2011 & VII &  5373 &  26 & 2011 REGION & 0.004839010 &  8.589328 & 3.295837\\\\\n",
       "\t 2012 & VII & 19193 &  89 & 2012 REGION & 0.004637107 &  9.862353 & 4.499810\\\\\n",
       "\t 2013 & VII & 15853 &  57 & 2013 REGION & 0.003595534 &  9.671177 & 4.060443\\\\\n",
       "\t 2014 & VII &  6566 &  26 & 2014 REGION & 0.003959793 &  8.789812 & 3.295837\\\\\n",
       "\t 2015 & VII & 14423 &  87 & 2015 REGION & 0.006032032 &  9.576649 & 4.477337\\\\\n",
       "\t 2011 & X   &  2000 &   8 & 2011 REGION & 0.004000000 &  7.601402 & 2.197225\\\\\n",
       "\t 2012 & X   &  6550 &  48 & 2012 REGION & 0.007328244 &  8.787373 & 3.891820\\\\\n",
       "\t 2013 & X   &  5361 &  49 & 2013 REGION & 0.009140086 &  8.587092 & 3.912023\\\\\n",
       "\t 2014 & X   & 11752 &  65 & 2014 REGION & 0.005530973 &  9.371864 & 4.189655\\\\\n",
       "\t 2015 & X   & 10303 &  44 & 2015 REGION & 0.004270601 &  9.240287 & 3.806662\\\\\n",
       "\t 2011 & XI  &  4178 &  37 & 2011 REGION & 0.008855912 &  8.337827 & 3.637586\\\\\n",
       "\t 2012 & XI  & 10107 & 109 & 2012 REGION & 0.010784605 &  9.221082 & 4.700480\\\\\n",
       "\t 2013 & XI  & 10886 &  62 & 2013 REGION & 0.005695389 &  9.295325 & 4.143135\\\\\n",
       "\t 2014 & XI  &  8561 &  44 & 2014 REGION & 0.005139586 &  9.055089 & 3.806662\\\\\n",
       "\t 2015 & XI  &  5057 &  21 & 2015 REGION & 0.004152660 &  8.528726 & 3.091042\\\\\n",
       "\t 2011 & XII &  2735 &  26 & 2011 REGION & 0.009506399 &  7.914252 & 3.295837\\\\\n",
       "\t 2012 & XII &  4573 &  53 & 2012 REGION & 0.011589766 &  8.428143 & 3.988984\\\\\n",
       "\t 2013 & XII & 13064 &  68 & 2013 REGION & 0.005205144 &  9.477692 & 4.234107\\\\\n",
       "\t 2014 & XII &  7247 &  40 & 2014 REGION & 0.005519525 &  8.888481 & 3.713572\\\\\n",
       "\t 2015 & XII &  9586 &  31 & 2015 REGION & 0.003233883 &  9.168163 & 3.465736\\\\\n",
       "\\end{tabular}\n"
      ],
      "text/markdown": [
       "\n",
       "A tibble: 50 × 8\n",
       "\n",
       "| Year &lt;dbl&gt; | Region &lt;chr&gt; | Cases &lt;dbl&gt; | Deaths &lt;dbl&gt; | Key &lt;chr&gt; | CFR &lt;dbl&gt; | Log_Cases &lt;dbl&gt; | Log_Deaths &lt;dbl&gt; |\n",
       "|---|---|---|---|---|---|---|---|\n",
       "| 2011 | NCR | 28040 | 161 | 2011 REGION | 0.005741797 | 10.241423 | 5.087596 |\n",
       "| 2012 | NCR | 35796 | 143 | 2012 REGION | 0.003994860 | 10.485619 | 4.969813 |\n",
       "| 2013 | NCR | 23437 |  52 | 2013 REGION | 0.002218714 | 10.062114 | 3.970292 |\n",
       "| 2014 | NCR |  8929 |  44 | 2014 REGION | 0.004927763 |  9.097172 | 3.806662 |\n",
       "| 2015 | NCR | 26804 | 115 | 2015 REGION | 0.004290404 | 10.196344 | 4.753590 |\n",
       "| 2011 | I   | 14389 |  73 | 2011 REGION | 0.005073320 |  9.574289 | 4.304065 |\n",
       "| 2012 | I   |  9619 |  42 | 2012 REGION | 0.004366358 |  9.171600 | 3.761200 |\n",
       "| 2013 | I   | 16564 |  46 | 2013 REGION | 0.002777107 |  9.715047 | 3.850148 |\n",
       "| 2014 | I   |  6985 |  18 | 2014 REGION | 0.002576951 |  8.851663 | 2.944439 |\n",
       "| 2015 | I   | 17605 |  41 | 2015 REGION | 0.002328884 |  9.775995 | 3.737670 |\n",
       "| 2011 | II  |  9673 |  45 | 2011 REGION | 0.004652124 |  9.177197 | 3.828641 |\n",
       "| 2012 | II  |  7886 |  30 | 2012 REGION | 0.003804210 |  8.972971 | 3.433987 |\n",
       "| 2013 | II  | 15946 |  27 | 2013 REGION | 0.001693215 |  9.677026 | 3.332205 |\n",
       "| 2014 | II  |  3854 |  17 | 2014 REGION | 0.004411002 |  8.257126 | 2.890372 |\n",
       "| 2015 | II  | 13855 |  17 | 2015 REGION | 0.001226994 |  9.536474 | 2.890372 |\n",
       "| 2011 | III | 26878 |  59 | 2011 REGION | 0.002195104 | 10.199101 | 4.094345 |\n",
       "| 2012 | III | 28360 |  61 | 2012 REGION | 0.002150917 | 10.252770 | 4.127134 |\n",
       "| 2013 | III | 20615 |  34 | 2013 REGION | 0.001649285 |  9.933823 | 3.555348 |\n",
       "| 2014 | III | 14471 |  19 | 2014 REGION | 0.001312971 |  9.579971 | 2.995732 |\n",
       "| 2015 | III | 37047 |  49 | 2015 REGION | 0.001322644 | 10.519970 | 3.912023 |\n",
       "| 2011 | IVA | 17567 | 107 | 2011 REGION | 0.006090966 |  9.773834 | 4.682131 |\n",
       "| 2012 | IVA | 29843 | 121 | 2012 REGION | 0.004054552 | 10.303739 | 4.804021 |\n",
       "| 2013 | IVA | 30219 |  64 | 2013 REGION | 0.002117873 | 10.316259 | 4.174387 |\n",
       "| 2014 | IVA | 15111 |  30 | 2014 REGION | 0.001985309 |  9.623244 | 3.433987 |\n",
       "| 2015 | IVA | 36033 | 109 | 2015 REGION | 0.003025005 | 10.492218 | 4.700480 |\n",
       "| 2011 | VI  |  3206 |  39 | 2011 REGION | 0.012164691 |  8.073091 | 3.688879 |\n",
       "| 2012 | VI  | 11880 |  97 | 2012 REGION | 0.008164983 |  9.382696 | 4.584967 |\n",
       "| 2013 | VI  | 22461 |  69 | 2013 REGION | 0.003071991 | 10.019580 | 4.248495 |\n",
       "| 2014 | VI  |  8489 |  27 | 2014 REGION | 0.003180587 |  9.046644 | 3.332205 |\n",
       "| 2015 | VI  | 10353 |  26 | 2015 REGION | 0.002511349 |  9.245128 | 3.295837 |\n",
       "| 2011 | VII |  5373 |  26 | 2011 REGION | 0.004839010 |  8.589328 | 3.295837 |\n",
       "| 2012 | VII | 19193 |  89 | 2012 REGION | 0.004637107 |  9.862353 | 4.499810 |\n",
       "| 2013 | VII | 15853 |  57 | 2013 REGION | 0.003595534 |  9.671177 | 4.060443 |\n",
       "| 2014 | VII |  6566 |  26 | 2014 REGION | 0.003959793 |  8.789812 | 3.295837 |\n",
       "| 2015 | VII | 14423 |  87 | 2015 REGION | 0.006032032 |  9.576649 | 4.477337 |\n",
       "| 2011 | X   |  2000 |   8 | 2011 REGION | 0.004000000 |  7.601402 | 2.197225 |\n",
       "| 2012 | X   |  6550 |  48 | 2012 REGION | 0.007328244 |  8.787373 | 3.891820 |\n",
       "| 2013 | X   |  5361 |  49 | 2013 REGION | 0.009140086 |  8.587092 | 3.912023 |\n",
       "| 2014 | X   | 11752 |  65 | 2014 REGION | 0.005530973 |  9.371864 | 4.189655 |\n",
       "| 2015 | X   | 10303 |  44 | 2015 REGION | 0.004270601 |  9.240287 | 3.806662 |\n",
       "| 2011 | XI  |  4178 |  37 | 2011 REGION | 0.008855912 |  8.337827 | 3.637586 |\n",
       "| 2012 | XI  | 10107 | 109 | 2012 REGION | 0.010784605 |  9.221082 | 4.700480 |\n",
       "| 2013 | XI  | 10886 |  62 | 2013 REGION | 0.005695389 |  9.295325 | 4.143135 |\n",
       "| 2014 | XI  |  8561 |  44 | 2014 REGION | 0.005139586 |  9.055089 | 3.806662 |\n",
       "| 2015 | XI  |  5057 |  21 | 2015 REGION | 0.004152660 |  8.528726 | 3.091042 |\n",
       "| 2011 | XII |  2735 |  26 | 2011 REGION | 0.009506399 |  7.914252 | 3.295837 |\n",
       "| 2012 | XII |  4573 |  53 | 2012 REGION | 0.011589766 |  8.428143 | 3.988984 |\n",
       "| 2013 | XII | 13064 |  68 | 2013 REGION | 0.005205144 |  9.477692 | 4.234107 |\n",
       "| 2014 | XII |  7247 |  40 | 2014 REGION | 0.005519525 |  8.888481 | 3.713572 |\n",
       "| 2015 | XII |  9586 |  31 | 2015 REGION | 0.003233883 |  9.168163 | 3.465736 |\n",
       "\n"
      ],
      "text/plain": [
       "   Year Region Cases Deaths Key         CFR         Log_Cases Log_Deaths\n",
       "1  2011 NCR    28040 161    2011 REGION 0.005741797 10.241423 5.087596  \n",
       "2  2012 NCR    35796 143    2012 REGION 0.003994860 10.485619 4.969813  \n",
       "3  2013 NCR    23437  52    2013 REGION 0.002218714 10.062114 3.970292  \n",
       "4  2014 NCR     8929  44    2014 REGION 0.004927763  9.097172 3.806662  \n",
       "5  2015 NCR    26804 115    2015 REGION 0.004290404 10.196344 4.753590  \n",
       "6  2011 I      14389  73    2011 REGION 0.005073320  9.574289 4.304065  \n",
       "7  2012 I       9619  42    2012 REGION 0.004366358  9.171600 3.761200  \n",
       "8  2013 I      16564  46    2013 REGION 0.002777107  9.715047 3.850148  \n",
       "9  2014 I       6985  18    2014 REGION 0.002576951  8.851663 2.944439  \n",
       "10 2015 I      17605  41    2015 REGION 0.002328884  9.775995 3.737670  \n",
       "11 2011 II      9673  45    2011 REGION 0.004652124  9.177197 3.828641  \n",
       "12 2012 II      7886  30    2012 REGION 0.003804210  8.972971 3.433987  \n",
       "13 2013 II     15946  27    2013 REGION 0.001693215  9.677026 3.332205  \n",
       "14 2014 II      3854  17    2014 REGION 0.004411002  8.257126 2.890372  \n",
       "15 2015 II     13855  17    2015 REGION 0.001226994  9.536474 2.890372  \n",
       "16 2011 III    26878  59    2011 REGION 0.002195104 10.199101 4.094345  \n",
       "17 2012 III    28360  61    2012 REGION 0.002150917 10.252770 4.127134  \n",
       "18 2013 III    20615  34    2013 REGION 0.001649285  9.933823 3.555348  \n",
       "19 2014 III    14471  19    2014 REGION 0.001312971  9.579971 2.995732  \n",
       "20 2015 III    37047  49    2015 REGION 0.001322644 10.519970 3.912023  \n",
       "21 2011 IVA    17567 107    2011 REGION 0.006090966  9.773834 4.682131  \n",
       "22 2012 IVA    29843 121    2012 REGION 0.004054552 10.303739 4.804021  \n",
       "23 2013 IVA    30219  64    2013 REGION 0.002117873 10.316259 4.174387  \n",
       "24 2014 IVA    15111  30    2014 REGION 0.001985309  9.623244 3.433987  \n",
       "25 2015 IVA    36033 109    2015 REGION 0.003025005 10.492218 4.700480  \n",
       "26 2011 VI      3206  39    2011 REGION 0.012164691  8.073091 3.688879  \n",
       "27 2012 VI     11880  97    2012 REGION 0.008164983  9.382696 4.584967  \n",
       "28 2013 VI     22461  69    2013 REGION 0.003071991 10.019580 4.248495  \n",
       "29 2014 VI      8489  27    2014 REGION 0.003180587  9.046644 3.332205  \n",
       "30 2015 VI     10353  26    2015 REGION 0.002511349  9.245128 3.295837  \n",
       "31 2011 VII     5373  26    2011 REGION 0.004839010  8.589328 3.295837  \n",
       "32 2012 VII    19193  89    2012 REGION 0.004637107  9.862353 4.499810  \n",
       "33 2013 VII    15853  57    2013 REGION 0.003595534  9.671177 4.060443  \n",
       "34 2014 VII     6566  26    2014 REGION 0.003959793  8.789812 3.295837  \n",
       "35 2015 VII    14423  87    2015 REGION 0.006032032  9.576649 4.477337  \n",
       "36 2011 X       2000   8    2011 REGION 0.004000000  7.601402 2.197225  \n",
       "37 2012 X       6550  48    2012 REGION 0.007328244  8.787373 3.891820  \n",
       "38 2013 X       5361  49    2013 REGION 0.009140086  8.587092 3.912023  \n",
       "39 2014 X      11752  65    2014 REGION 0.005530973  9.371864 4.189655  \n",
       "40 2015 X      10303  44    2015 REGION 0.004270601  9.240287 3.806662  \n",
       "41 2011 XI      4178  37    2011 REGION 0.008855912  8.337827 3.637586  \n",
       "42 2012 XI     10107 109    2012 REGION 0.010784605  9.221082 4.700480  \n",
       "43 2013 XI     10886  62    2013 REGION 0.005695389  9.295325 4.143135  \n",
       "44 2014 XI      8561  44    2014 REGION 0.005139586  9.055089 3.806662  \n",
       "45 2015 XI      5057  21    2015 REGION 0.004152660  8.528726 3.091042  \n",
       "46 2011 XII     2735  26    2011 REGION 0.009506399  7.914252 3.295837  \n",
       "47 2012 XII     4573  53    2012 REGION 0.011589766  8.428143 3.988984  \n",
       "48 2013 XII    13064  68    2013 REGION 0.005205144  9.477692 4.234107  \n",
       "49 2014 XII     7247  40    2014 REGION 0.005519525  8.888481 3.713572  \n",
       "50 2015 XII     9586  31    2015 REGION 0.003233883  9.168163 3.465736  "
      ]
     },
     "metadata": {},
     "output_type": "display_data"
    }
   ],
   "source": [
    "library(dplyr)\n",
    "library(tidyr)\n",
    "library(readr)\n",
    "\n",
    "age_data <- read_csv(\"/kaggle/input/dengue4/d-age.csv\")\n",
    "sex_data <- read_csv(\"/kaggle/input/dengue4/d-sex.csv\")\n",
    "region_data <- read_csv(\"/kaggle/input/dengue4/d-region.csv\")\n",
    "\n",
    "age_data <- age_data %>% rename(AgeGroup = NewAgeGroup)\n",
    "sex_data <- sex_data %>% rename(Gender = Sex)\n",
    "region_data <- region_data %>% rename(Region = Region)\n",
    "\n",
    "age_data$Key <- paste(age_data$Year, \"AGE\")\n",
    "sex_data$Key <- paste(sex_data$Year, \"SEX\")\n",
    "region_data$Key <- paste(region_data$Year, \"REGION\")\n",
    "\n",
    "\n",
    "model_data <- region_data %>%\n",
    "  mutate(CFR = Deaths / Cases,\n",
    "         Log_Cases = log1p(Cases),\n",
    "         Log_Deaths = log1p(Deaths))\n",
    "\n",
    "\n",
    "model_data"
   ]
  },
  {
   "cell_type": "markdown",
   "id": "5dbfd8c0",
   "metadata": {
    "papermill": {
     "duration": 0.009117,
     "end_time": "2025-07-20T11:47:49.978417",
     "exception": false,
     "start_time": "2025-07-20T11:47:49.969300",
     "status": "completed"
    },
    "tags": []
   },
   "source": [
    "## 3.3 Exploratory Data Analysis (EDA)"
   ]
  },
  {
   "cell_type": "markdown",
   "id": "06ff8a07",
   "metadata": {
    "papermill": {
     "duration": 0.009311,
     "end_time": "2025-07-20T11:47:49.996938",
     "exception": false,
     "start_time": "2025-07-20T11:47:49.987627",
     "status": "completed"
    },
    "tags": []
   },
   "source": [
    "### Summary Statistics"
   ]
  },
  {
   "cell_type": "code",
   "execution_count": 3,
   "id": "a6320ef1",
   "metadata": {
    "execution": {
     "iopub.execute_input": "2025-07-20T11:47:50.018926Z",
     "iopub.status.busy": "2025-07-20T11:47:50.017597Z",
     "iopub.status.idle": "2025-07-20T11:47:50.060680Z",
     "shell.execute_reply": "2025-07-20T11:47:50.058218Z"
    },
    "papermill": {
     "duration": 0.057729,
     "end_time": "2025-07-20T11:47:50.063808",
     "exception": false,
     "start_time": "2025-07-20T11:47:50.006079",
     "status": "completed"
    },
    "tags": []
   },
   "outputs": [
    {
     "data": {
      "text/html": [
       "<table class=\"dataframe\">\n",
       "<caption>A tibble: 10 × 4</caption>\n",
       "<thead>\n",
       "\t<tr><th scope=col>Region</th><th scope=col>Total_Cases</th><th scope=col>Total_Deaths</th><th scope=col>Mean_CFR</th></tr>\n",
       "\t<tr><th scope=col>&lt;chr&gt;</th><th scope=col>&lt;dbl&gt;</th><th scope=col>&lt;dbl&gt;</th><th scope=col>&lt;dbl&gt;</th></tr>\n",
       "</thead>\n",
       "<tbody>\n",
       "\t<tr><td>XII</td><td> 37205</td><td>218</td><td>0.007010943</td></tr>\n",
       "\t<tr><td>XI </td><td> 38789</td><td>273</td><td>0.006925630</td></tr>\n",
       "\t<tr><td>X  </td><td> 35966</td><td>214</td><td>0.006053981</td></tr>\n",
       "\t<tr><td>VI </td><td> 56389</td><td>258</td><td>0.005818720</td></tr>\n",
       "\t<tr><td>VII</td><td> 61408</td><td>285</td><td>0.004612695</td></tr>\n",
       "\t<tr><td>NCR</td><td>123006</td><td>515</td><td>0.004234708</td></tr>\n",
       "\t<tr><td>IVA</td><td>128773</td><td>431</td><td>0.003454741</td></tr>\n",
       "\t<tr><td>I  </td><td> 65162</td><td>220</td><td>0.003424524</td></tr>\n",
       "\t<tr><td>II </td><td> 51214</td><td>136</td><td>0.003157509</td></tr>\n",
       "\t<tr><td>III</td><td>127371</td><td>222</td><td>0.001726184</td></tr>\n",
       "</tbody>\n",
       "</table>\n"
      ],
      "text/latex": [
       "A tibble: 10 × 4\n",
       "\\begin{tabular}{llll}\n",
       " Region & Total\\_Cases & Total\\_Deaths & Mean\\_CFR\\\\\n",
       " <chr> & <dbl> & <dbl> & <dbl>\\\\\n",
       "\\hline\n",
       "\t XII &  37205 & 218 & 0.007010943\\\\\n",
       "\t XI  &  38789 & 273 & 0.006925630\\\\\n",
       "\t X   &  35966 & 214 & 0.006053981\\\\\n",
       "\t VI  &  56389 & 258 & 0.005818720\\\\\n",
       "\t VII &  61408 & 285 & 0.004612695\\\\\n",
       "\t NCR & 123006 & 515 & 0.004234708\\\\\n",
       "\t IVA & 128773 & 431 & 0.003454741\\\\\n",
       "\t I   &  65162 & 220 & 0.003424524\\\\\n",
       "\t II  &  51214 & 136 & 0.003157509\\\\\n",
       "\t III & 127371 & 222 & 0.001726184\\\\\n",
       "\\end{tabular}\n"
      ],
      "text/markdown": [
       "\n",
       "A tibble: 10 × 4\n",
       "\n",
       "| Region &lt;chr&gt; | Total_Cases &lt;dbl&gt; | Total_Deaths &lt;dbl&gt; | Mean_CFR &lt;dbl&gt; |\n",
       "|---|---|---|---|\n",
       "| XII |  37205 | 218 | 0.007010943 |\n",
       "| XI  |  38789 | 273 | 0.006925630 |\n",
       "| X   |  35966 | 214 | 0.006053981 |\n",
       "| VI  |  56389 | 258 | 0.005818720 |\n",
       "| VII |  61408 | 285 | 0.004612695 |\n",
       "| NCR | 123006 | 515 | 0.004234708 |\n",
       "| IVA | 128773 | 431 | 0.003454741 |\n",
       "| I   |  65162 | 220 | 0.003424524 |\n",
       "| II  |  51214 | 136 | 0.003157509 |\n",
       "| III | 127371 | 222 | 0.001726184 |\n",
       "\n"
      ],
      "text/plain": [
       "   Region Total_Cases Total_Deaths Mean_CFR   \n",
       "1  XII     37205      218          0.007010943\n",
       "2  XI      38789      273          0.006925630\n",
       "3  X       35966      214          0.006053981\n",
       "4  VI      56389      258          0.005818720\n",
       "5  VII     61408      285          0.004612695\n",
       "6  NCR    123006      515          0.004234708\n",
       "7  IVA    128773      431          0.003454741\n",
       "8  I       65162      220          0.003424524\n",
       "9  II      51214      136          0.003157509\n",
       "10 III    127371      222          0.001726184"
      ]
     },
     "metadata": {},
     "output_type": "display_data"
    }
   ],
   "source": [
    "region_summary <- model_data %>%\n",
    "  group_by(Region) %>%\n",
    "  summarise(\n",
    "    Total_Cases = sum(Cases),\n",
    "    Total_Deaths = sum(Deaths),\n",
    "    Mean_CFR = mean(CFR),\n",
    "    .groups = \"drop\"\n",
    "  ) %>%\n",
    "  arrange(desc(Mean_CFR))\n",
    "\n",
    "region_summary"
   ]
  },
  {
   "cell_type": "markdown",
   "id": "736b204d",
   "metadata": {
    "papermill": {
     "duration": 0.009366,
     "end_time": "2025-07-20T11:47:50.082761",
     "exception": false,
     "start_time": "2025-07-20T11:47:50.073395",
     "status": "completed"
    },
    "tags": []
   },
   "source": [
    "### Visualizing Case Fatality Ration (CFR) by Region"
   ]
  },
  {
   "cell_type": "code",
   "execution_count": 4,
   "id": "3e85a310",
   "metadata": {
    "execution": {
     "iopub.execute_input": "2025-07-20T11:47:50.105824Z",
     "iopub.status.busy": "2025-07-20T11:47:50.104382Z",
     "iopub.status.idle": "2025-07-20T11:47:50.799912Z",
     "shell.execute_reply": "2025-07-20T11:47:50.796850Z"
    },
    "papermill": {
     "duration": 0.710535,
     "end_time": "2025-07-20T11:47:50.803364",
     "exception": false,
     "start_time": "2025-07-20T11:47:50.092829",
     "status": "completed"
    },
    "tags": []
   },
   "outputs": [
    {
     "data": {
      "image/png": "[encoded data removed]"
     },
     "metadata": {
      "image/png": {
       "height": 420,
       "width": 420
      }
     },
     "output_type": "display_data"
    }
   ],
   "source": [
    "library(ggplot2)\n",
    "\n",
    "ggplot(model_data, aes(x = reorder(Region, CFR), y = CFR)) +\n",
    "  geom_boxplot(fill = \"skyblue\", color = \"darkblue\") +\n",
    "  labs(title = \"Distribution of CFR by Region\", x = \"Region\", y = \"CFR\") +\n",
    "  coord_flip() +\n",
    "  theme_minimal()"
   ]
  },
  {
   "cell_type": "markdown",
   "id": "81b552db",
   "metadata": {
    "papermill": {
     "duration": 0.010012,
     "end_time": "2025-07-20T11:47:50.823648",
     "exception": false,
     "start_time": "2025-07-20T11:47:50.813636",
     "status": "completed"
    },
    "tags": []
   },
   "source": [
    "### Correlation Between Cases and Deaths"
   ]
  },
  {
   "cell_type": "code",
   "execution_count": 5,
   "id": "bded39d8",
   "metadata": {
    "execution": {
     "iopub.execute_input": "2025-07-20T11:47:50.853009Z",
     "iopub.status.busy": "2025-07-20T11:47:50.851690Z",
     "iopub.status.idle": "2025-07-20T11:47:52.273963Z",
     "shell.execute_reply": "2025-07-20T11:47:52.272234Z"
    },
    "papermill": {
     "duration": 1.442944,
     "end_time": "2025-07-20T11:47:52.276787",
     "exception": false,
     "start_time": "2025-07-20T11:47:50.833843",
     "status": "completed"
    },
    "tags": []
   },
   "outputs": [
    {
     "name": "stderr",
     "output_type": "stream",
     "text": [
      "\u001b[1m\u001b[22m`geom_smooth()` using formula = 'y ~ x'\n"
     ]
    },
    {
     "data": {
      "image/png": "[encoded data removed]"
     },
     "metadata": {
      "image/png": {
       "height": 420,
       "width": 420
      }
     },
     "output_type": "display_data"
    }
   ],
   "source": [
    "ggplot(model_data, aes(x = Cases, y = Deaths)) +\n",
    "  geom_point(aes(color = Region), size = 3) +\n",
    "  geom_smooth(method = \"lm\", se = FALSE, color = \"black\") +\n",
    "  labs(title = \"Cases vs. Deaths by Region-Year\", x = \"Cases\", y = \"Deaths\") +\n",
    "  theme_minimal()"
   ]
  },
  {
   "cell_type": "markdown",
   "id": "72eb464a",
   "metadata": {
    "papermill": {
     "duration": 0.011895,
     "end_time": "2025-07-20T11:47:52.301994",
     "exception": false,
     "start_time": "2025-07-20T11:47:52.290099",
     "status": "completed"
    },
    "tags": []
   },
   "source": [
    "### CFR Over Time for Top Regions"
   ]
  },
  {
   "cell_type": "code",
   "execution_count": 6,
   "id": "3dcc2342",
   "metadata": {
    "execution": {
     "iopub.execute_input": "2025-07-20T11:47:52.329463Z",
     "iopub.status.busy": "2025-07-20T11:47:52.328105Z",
     "iopub.status.idle": "2025-07-20T11:47:52.853613Z",
     "shell.execute_reply": "2025-07-20T11:47:52.852019Z"
    },
    "papermill": {
     "duration": 0.541793,
     "end_time": "2025-07-20T11:47:52.856137",
     "exception": false,
     "start_time": "2025-07-20T11:47:52.314344",
     "status": "completed"
    },
    "tags": []
   },
   "outputs": [
    {
     "name": "stderr",
     "output_type": "stream",
     "text": [
      "Warning message:\n",
      "“\u001b[1m\u001b[22mUsing `size` aesthetic for lines was deprecated in ggplot2 3.4.0.\n",
      "\u001b[36mℹ\u001b[39m Please use `linewidth` instead.”\n"
     ]
    },
    {
     "data": {
      "image/png": "[encoded data removed]"
     },
     "metadata": {
      "image/png": {
       "height": 420,
       "width": 420
      }
     },
     "output_type": "display_data"
    }
   ],
   "source": [
    "top_regions <- model_data %>%\n",
    "  group_by(Region) %>%\n",
    "  summarise(Total_Deaths = sum(Deaths)) %>%\n",
    "  slice_max(Total_Deaths, n = 5) %>%\n",
    "  pull(Region)\n",
    "\n",
    "ggplot(model_data %>% filter(Region %in% top_regions), aes(x = Year, y = CFR, color = Region)) +\n",
    "  geom_line(size = 1.2) +\n",
    "  geom_point(size = 2) +\n",
    "  labs(title = \"CFR Trends Over Time (Top 5 Regions)\", y = \"CFR\", x = \"Year\") +\n",
    "  theme_minimal()"
   ]
  },
  {
   "cell_type": "markdown",
   "id": "558954cf",
   "metadata": {
    "papermill": {
     "duration": 0.014714,
     "end_time": "2025-07-20T11:47:52.885721",
     "exception": false,
     "start_time": "2025-07-20T11:47:52.871007",
     "status": "completed"
    },
    "tags": []
   },
   "source": [
    "## 3.4 Fitting a Generalized Linear Model (GLM)\n",
    "\n",
    "With the visualizations above, we can now proceed to estimating how well **case counts and demographic variables (Region, Age, Group, Sex)** can predict **dengue deaths**, and identify significant predictors.\n",
    "\n",
    "Starting first with a **logistic regression model** (binomial GLM) on the **region dataset** since it has the most complete breakdown.\n",
    "\n",
    "### Response Variable:\n",
    "* `cbind(Deaths, Cases - Deaths` - number of deaths and survivors\n",
    "* * This lets us model the **probability of death**.\n",
    " \n",
    "### Predictors:\n",
    "* `Region` (categorical)\n",
    "* `Year` (numeric or categorical)\n",
    "* `Cases` (numeric, log-transformed)"
   ]
  },
  {
   "cell_type": "code",
   "execution_count": 7,
   "id": "d7d9c528",
   "metadata": {
    "execution": {
     "iopub.execute_input": "2025-07-20T11:47:52.916831Z",
     "iopub.status.busy": "2025-07-20T11:47:52.915450Z",
     "iopub.status.idle": "2025-07-20T11:47:52.957887Z",
     "shell.execute_reply": "2025-07-20T11:47:52.955665Z"
    },
    "papermill": {
     "duration": 0.061212,
     "end_time": "2025-07-20T11:47:52.960747",
     "exception": false,
     "start_time": "2025-07-20T11:47:52.899535",
     "status": "completed"
    },
    "tags": []
   },
   "outputs": [
    {
     "data": {
      "text/plain": [
       "\n",
       "Call:\n",
       "glm(formula = cbind(Deaths, Cases - Deaths) ~ Region + Year + \n",
       "    log(Cases), family = binomial(link = \"logit\"), data = region_data)\n",
       "\n",
       "Coefficients:\n",
       "             Estimate Std. Error z value Pr(>|z|)    \n",
       "(Intercept) 310.59069   29.20288  10.636  < 2e-16 ***\n",
       "RegionII     -0.27776    0.10977  -2.530 0.011392 *  \n",
       "RegionIII    -0.53294    0.10037  -5.310 1.10e-07 ***\n",
       "RegionIVA     0.14385    0.08860   1.623 0.104485    \n",
       "RegionNCR     0.31071    0.08743   3.554 0.000380 ***\n",
       "RegionVI      0.32484    0.09217   3.524 0.000424 ***\n",
       "RegionVII     0.32857    0.08996   3.652 0.000260 ***\n",
       "RegionX       0.54427    0.10133   5.371 7.82e-08 ***\n",
       "RegionXI      0.63971    0.09399   6.806 1.00e-11 ***\n",
       "RegionXII     0.51406    0.09998   5.142 2.72e-07 ***\n",
       "Year         -0.15619    0.01455 -10.731  < 2e-16 ***\n",
       "log(Cases)   -0.19930    0.04734  -4.210 2.56e-05 ***\n",
       "---\n",
       "Signif. codes:  0 ‘***’ 0.001 ‘**’ 0.01 ‘*’ 0.05 ‘.’ 0.1 ‘ ’ 1\n",
       "\n",
       "(Dispersion parameter for binomial family taken to be 1)\n",
       "\n",
       "    Null deviance: 754.70  on 49  degrees of freedom\n",
       "Residual deviance: 206.42  on 38  degrees of freedom\n",
       "AIC: 513.9\n",
       "\n",
       "Number of Fisher Scoring iterations: 4\n"
      ]
     },
     "metadata": {},
     "output_type": "display_data"
    }
   ],
   "source": [
    "glm_region <- glm(cbind(Deaths, Cases - Deaths) ~ Region + Year + log(Cases),\n",
    "                  family = binomial(link = \"logit\"),\n",
    "                  data = region_data)\n",
    "\n",
    "summary(glm_region)"
   ]
  },
  {
   "cell_type": "markdown",
   "id": "f27bda0d",
   "metadata": {
    "papermill": {
     "duration": 0.013921,
     "end_time": "2025-07-20T11:47:52.989048",
     "exception": false,
     "start_time": "2025-07-20T11:47:52.975127",
     "status": "completed"
    },
    "tags": []
   },
   "source": [
    "### Key Insights\n",
    "\n",
    "#### Intercept\n",
    "* **Estimate:** `310.59` - this is the log-odds baseline when all predictors are at reference levels.\n",
    "* It is **not directly interpretatble**, but adjustments from this baseline via predictors are.\n",
    "\n",
    "#### Regional Effects (vs. reference region: Region I)\n",
    "\n",
    "* **Significant *higher* death probabilities** in:\n",
    "\n",
    "  * `Region NCR` (p = 0.00038)\n",
    "  * `Region VI` (p = 0.00042)\n",
    "  * `Region VII` (p = 0.00026)\n",
    "  * `Region X` (p = 7.82e-08)\n",
    "  * `Region XI` (p = 1.00e-11) ← *Highest coefficient*\n",
    "  * `Region XII` (p = 2.72e-07)\n",
    "* **Significantly *lower*** death probability in:\n",
    "\n",
    "  * `Region III` (p = 1.1e-07)\n",
    "  * `Region II` (p = 0.011)\n",
    "* `Region IVA` is not significant (p = 0.10)\n",
    "\n",
    "**Interpretation:** **Region XI** had the highest relative risk of death, followed by Regions X, XII, and NCR.\n",
    "\n",
    "#### Year\n",
    "\n",
    "* **Estimate**: `-0.156` (p < 2e-16)\n",
    "* **Interpretation**: Each additional year (from 2011 to 2015) is associated with a **significant *decrease*** in the **probability of death** — a good sign that fatality rates are improving over time.\n",
    "\n",
    "#### log(Cases)\n",
    "\n",
    "* **Estimate**: `-0.199` (p = 2.56e-05)\n",
    "* Interpretation: Higher case counts are associated with **lower death probability**.\n",
    "\n",
    "  * This might seem counterintuitive, but likely reflects **dilution** — years with many cases may include more mild cases, lowering CFR.\n",
    "\n",
    "#### Model Fit:\n",
    "\n",
    "* **Null deviance**: 754.70 → deviance with no predictors\n",
    "* **Residual deviance**: 206.42 → with predictors\n",
    "* **AIC**: 513.9\n",
    "* This is a **strong reduction**, suggesting a good fit."
   ]
  },
  {
   "cell_type": "markdown",
   "id": "411c1134",
   "metadata": {
    "papermill": {
     "duration": 0.014217,
     "end_time": "2025-07-20T11:47:53.017297",
     "exception": false,
     "start_time": "2025-07-20T11:47:53.003080",
     "status": "completed"
    },
    "tags": []
   },
   "source": [
    "## 3.5 Bootstrapping for Coefficient Stability"
   ]
  },
  {
   "cell_type": "markdown",
   "id": "239fc41a",
   "metadata": {
    "papermill": {
     "duration": 0.014322,
     "end_time": "2025-07-20T11:47:53.045800",
     "exception": false,
     "start_time": "2025-07-20T11:47:53.031478",
     "status": "completed"
    },
    "tags": []
   },
   "source": [
    "Assessing now the **stability and reliability** of the GLM coefficients via **non-parametric bootrapping**. This step helps us understand which predictors consistently influence dengue death probability and ensures that findings are **not overly sensitive** to data variability.\n",
    "\n",
    "### Method: Nonparametric Bootstrap\n",
    "\n",
    "* We resampled the full dataset **with replacement** 1000 times.\n",
    "* For each bootstrap sample, we refitted the logistic regression model:\n",
    "\n",
    "  $$\n",
    "  \\text{Deaths} \\sim \\text{Region} + \\text{Year} + \\log(\\text{Cases})\n",
    "  $$\n",
    "* We then calculated **percentile-based 95% confidence intervals** for each model coefficient."
   ]
  },
  {
   "cell_type": "code",
   "execution_count": 8,
   "id": "5fc392b4",
   "metadata": {
    "execution": {
     "iopub.execute_input": "2025-07-20T11:47:53.077268Z",
     "iopub.status.busy": "2025-07-20T11:47:53.075848Z",
     "iopub.status.idle": "2025-07-20T11:47:53.120623Z",
     "shell.execute_reply": "2025-07-20T11:47:53.119053Z"
    },
    "papermill": {
     "duration": 0.063725,
     "end_time": "2025-07-20T11:47:53.123711",
     "exception": false,
     "start_time": "2025-07-20T11:47:53.059986",
     "status": "completed"
    },
    "tags": []
   },
   "outputs": [],
   "source": [
    "library(boot)\n",
    "\n",
    "# Fit full model first\n",
    "full_model <- glm(cbind(Deaths, Cases - Deaths) ~ Region + Year + log(Cases),\n",
    "                  family = binomial, data = region_data)\n",
    "\n",
    "# Capture expected coefficient names\n",
    "expected_names <- names(coef(full_model))\n",
    "\n",
    "boot_fn <- function(data, indices) {\n",
    "  d <- data[indices, ]\n",
    "  \n",
    "  # Ensure Region is treated as a proper factor based on the *sampled data*\n",
    "  d$Region <- factor(d$Region)  # do NOT fix levels here\n",
    "  \n",
    "  # Check that Region has at least 2 levels to avoid contrast errors\n",
    "  if (nlevels(d$Region) < 2) return(rep(NA, length(expected_names)))\n",
    "  \n",
    "  model <- glm(cbind(Deaths, Cases - Deaths) ~ Region + Year + log(Cases),\n",
    "               family = binomial, data = d)\n",
    "  \n",
    "  coefs <- coef(model)\n",
    "  aligned_coefs <- setNames(rep(NA, length(expected_names)), expected_names)\n",
    "  aligned_coefs[names(coefs)] <- coefs\n",
    "  \n",
    "  return(aligned_coefs)\n",
    "}\n"
   ]
  },
  {
   "cell_type": "code",
   "execution_count": 9,
   "id": "d4988895",
   "metadata": {
    "execution": {
     "iopub.execute_input": "2025-07-20T11:47:53.154993Z",
     "iopub.status.busy": "2025-07-20T11:47:53.153600Z",
     "iopub.status.idle": "2025-07-20T11:47:55.397710Z",
     "shell.execute_reply": "2025-07-20T11:47:55.396142Z"
    },
    "papermill": {
     "duration": 2.262503,
     "end_time": "2025-07-20T11:47:55.400053",
     "exception": false,
     "start_time": "2025-07-20T11:47:53.137550",
     "status": "completed"
    },
    "tags": []
   },
   "outputs": [],
   "source": [
    "library(boot)\n",
    "\n",
    "set.seed(123)\n",
    "boot_results <- boot(data = region_data, statistic = boot_fn, R = 1000)\n"
   ]
  },
  {
   "cell_type": "code",
   "execution_count": 10,
   "id": "7311426a",
   "metadata": {
    "execution": {
     "iopub.execute_input": "2025-07-20T11:47:55.432607Z",
     "iopub.status.busy": "2025-07-20T11:47:55.431216Z",
     "iopub.status.idle": "2025-07-20T11:47:55.450464Z",
     "shell.execute_reply": "2025-07-20T11:47:55.448214Z"
    },
    "papermill": {
     "duration": 0.039096,
     "end_time": "2025-07-20T11:47:55.453866",
     "exception": false,
     "start_time": "2025-07-20T11:47:55.414770",
     "status": "completed"
    },
    "tags": []
   },
   "outputs": [
    {
     "data": {
      "text/plain": [
       "BOOTSTRAP CONFIDENCE INTERVAL CALCULATIONS\n",
       "Based on 1000 bootstrap replicates\n",
       "\n",
       "CALL : \n",
       "boot.ci(boot.out = boot_results, type = \"perc\", index = 1)\n",
       "\n",
       "Intervals : \n",
       "Level     Percentile     \n",
       "95%   (170.7, 497.2 )  \n",
       "Calculations and Intervals on Original Scale"
      ]
     },
     "metadata": {},
     "output_type": "display_data"
    }
   ],
   "source": [
    "boot.ci(boot_results, type = \"perc\", index = 1)\n"
   ]
  },
  {
   "cell_type": "markdown",
   "id": "57c6838a",
   "metadata": {
    "papermill": {
     "duration": 0.013782,
     "end_time": "2025-07-20T11:47:55.508869",
     "exception": false,
     "start_time": "2025-07-20T11:47:55.495087",
     "status": "completed"
    },
    "tags": []
   },
   "source": [
    "The 95% percentile CI for the **intercept** was:\n",
    "\n",
    "> **170.7 to 497.2** on the log-odds scale.\n",
    "\n",
    "This wide interval suggests notable variability in the intercept estimate across resamples, which may reflect changes in baseline risk across years or unmeasured factors not captured in the model."
   ]
  },
  {
   "cell_type": "markdown",
   "id": "1cb8ad9b",
   "metadata": {
    "papermill": {
     "duration": 0.013861,
     "end_time": "2025-07-20T11:47:55.536545",
     "exception": false,
     "start_time": "2025-07-20T11:47:55.522684",
     "status": "completed"
    },
    "tags": []
   },
   "source": [
    "## 3.6 Full Bootsrap Confidence Intervals for All Predictors"
   ]
  },
  {
   "cell_type": "markdown",
   "id": "a8b40a4d",
   "metadata": {
    "papermill": {
     "duration": 0.014246,
     "end_time": "2025-07-20T11:47:55.564663",
     "exception": false,
     "start_time": "2025-07-20T11:47:55.550417",
     "status": "completed"
    },
    "tags": []
   },
   "source": [
    "To generate a complete summary of 95% bootstrap percentile confidence intervals for all model coefficients in the logistic regression predicting dengue deaths."
   ]
  },
  {
   "cell_type": "code",
   "execution_count": 11,
   "id": "d16f9d0b",
   "metadata": {
    "execution": {
     "iopub.execute_input": "2025-07-20T11:47:55.596284Z",
     "iopub.status.busy": "2025-07-20T11:47:55.594924Z",
     "iopub.status.idle": "2025-07-20T11:47:55.652378Z",
     "shell.execute_reply": "2025-07-20T11:47:55.649845Z"
    },
    "papermill": {
     "duration": 0.076588,
     "end_time": "2025-07-20T11:47:55.655300",
     "exception": false,
     "start_time": "2025-07-20T11:47:55.578712",
     "status": "completed"
    },
    "tags": []
   },
   "outputs": [
    {
     "data": {
      "text/html": [
       "<table class=\"dataframe\">\n",
       "<caption>A tibble: 12 × 3</caption>\n",
       "<thead>\n",
       "\t<tr><th scope=col>Predictor</th><th scope=col>Lower_95CI</th><th scope=col>Upper_95CI</th></tr>\n",
       "\t<tr><th scope=col>&lt;chr&gt;</th><th scope=col>&lt;dbl&gt;</th><th scope=col>&lt;dbl&gt;</th></tr>\n",
       "</thead>\n",
       "<tbody>\n",
       "\t<tr><td>(Intercept)</td><td>170.73396959</td><td>497.20180944</td></tr>\n",
       "\t<tr><td>RegionII   </td><td> -0.66384729</td><td>  0.15137900</td></tr>\n",
       "\t<tr><td>RegionIII  </td><td> -0.78197291</td><td> -0.27527699</td></tr>\n",
       "\t<tr><td>RegionIVA  </td><td> -0.27780016</td><td>  0.48591676</td></tr>\n",
       "\t<tr><td>RegionNCR  </td><td> -0.17957992</td><td>  0.69532682</td></tr>\n",
       "\t<tr><td>RegionVI   </td><td> -0.07283355</td><td>  0.78102202</td></tr>\n",
       "\t<tr><td>RegionVII  </td><td> -0.06669508</td><td>  0.80755723</td></tr>\n",
       "\t<tr><td>RegionX    </td><td>  0.17674249</td><td>  0.85612331</td></tr>\n",
       "\t<tr><td>RegionXI   </td><td>  0.27788034</td><td>  0.98093208</td></tr>\n",
       "\t<tr><td>RegionXII  </td><td>  0.21048725</td><td>  0.91310094</td></tr>\n",
       "\t<tr><td>Year       </td><td> -0.24935123</td><td> -0.08677490</td></tr>\n",
       "\t<tr><td>log(Cases) </td><td> -0.39786355</td><td>  0.06066786</td></tr>\n",
       "</tbody>\n",
       "</table>\n"
      ],
      "text/latex": [
       "A tibble: 12 × 3\n",
       "\\begin{tabular}{lll}\n",
       " Predictor & Lower\\_95CI & Upper\\_95CI\\\\\n",
       " <chr> & <dbl> & <dbl>\\\\\n",
       "\\hline\n",
       "\t (Intercept) & 170.73396959 & 497.20180944\\\\\n",
       "\t RegionII    &  -0.66384729 &   0.15137900\\\\\n",
       "\t RegionIII   &  -0.78197291 &  -0.27527699\\\\\n",
       "\t RegionIVA   &  -0.27780016 &   0.48591676\\\\\n",
       "\t RegionNCR   &  -0.17957992 &   0.69532682\\\\\n",
       "\t RegionVI    &  -0.07283355 &   0.78102202\\\\\n",
       "\t RegionVII   &  -0.06669508 &   0.80755723\\\\\n",
       "\t RegionX     &   0.17674249 &   0.85612331\\\\\n",
       "\t RegionXI    &   0.27788034 &   0.98093208\\\\\n",
       "\t RegionXII   &   0.21048725 &   0.91310094\\\\\n",
       "\t Year        &  -0.24935123 &  -0.08677490\\\\\n",
       "\t log(Cases)  &  -0.39786355 &   0.06066786\\\\\n",
       "\\end{tabular}\n"
      ],
      "text/markdown": [
       "\n",
       "A tibble: 12 × 3\n",
       "\n",
       "| Predictor &lt;chr&gt; | Lower_95CI &lt;dbl&gt; | Upper_95CI &lt;dbl&gt; |\n",
       "|---|---|---|\n",
       "| (Intercept) | 170.73396959 | 497.20180944 |\n",
       "| RegionII    |  -0.66384729 |   0.15137900 |\n",
       "| RegionIII   |  -0.78197291 |  -0.27527699 |\n",
       "| RegionIVA   |  -0.27780016 |   0.48591676 |\n",
       "| RegionNCR   |  -0.17957992 |   0.69532682 |\n",
       "| RegionVI    |  -0.07283355 |   0.78102202 |\n",
       "| RegionVII   |  -0.06669508 |   0.80755723 |\n",
       "| RegionX     |   0.17674249 |   0.85612331 |\n",
       "| RegionXI    |   0.27788034 |   0.98093208 |\n",
       "| RegionXII   |   0.21048725 |   0.91310094 |\n",
       "| Year        |  -0.24935123 |  -0.08677490 |\n",
       "| log(Cases)  |  -0.39786355 |   0.06066786 |\n",
       "\n"
      ],
      "text/plain": [
       "   Predictor   Lower_95CI   Upper_95CI  \n",
       "1  (Intercept) 170.73396959 497.20180944\n",
       "2  RegionII     -0.66384729   0.15137900\n",
       "3  RegionIII    -0.78197291  -0.27527699\n",
       "4  RegionIVA    -0.27780016   0.48591676\n",
       "5  RegionNCR    -0.17957992   0.69532682\n",
       "6  RegionVI     -0.07283355   0.78102202\n",
       "7  RegionVII    -0.06669508   0.80755723\n",
       "8  RegionX       0.17674249   0.85612331\n",
       "9  RegionXI      0.27788034   0.98093208\n",
       "10 RegionXII     0.21048725   0.91310094\n",
       "11 Year         -0.24935123  -0.08677490\n",
       "12 log(Cases)   -0.39786355   0.06066786"
      ]
     },
     "metadata": {},
     "output_type": "display_data"
    }
   ],
   "source": [
    "coef_names <- names(coef(full_model))\n",
    "boot_ci_list <- lapply(1:length(coef_names), function(i) {\n",
    "  ci <- boot.ci(boot.out = boot_results, type = \"perc\", index = i)\n",
    "  lower <- if (!is.null(ci$percent)) ci$percent[4] else NA\n",
    "  upper <- if (!is.null(ci$percent)) ci$percent[5] else NA\n",
    "  \n",
    "  tibble(\n",
    "    Predictor = coef_names[i],\n",
    "    Lower_95CI = lower,\n",
    "    Upper_95CI = upper\n",
    "  )\n",
    "})\n",
    "\n",
    "boot_ci_table <- bind_rows(boot_ci_list)\n",
    "boot_ci_table"
   ]
  },
  {
   "cell_type": "markdown",
   "id": "3da39440",
   "metadata": {
    "papermill": {
     "duration": 0.014313,
     "end_time": "2025-07-20T11:47:55.683775",
     "exception": false,
     "start_time": "2025-07-20T11:47:55.669462",
     "status": "completed"
    },
    "tags": []
   },
   "source": [
    "### Key Insights\n",
    "\n",
    "The bootstrap confidence intervals allow us to assess the **stability and significance** of the model predictors in estimating the probability of dengue death across regions.\n",
    "\n",
    "| Predictor       | 95% CI Range   | Interpretation                                               |\n",
    "| --------------- | -------------- | ------------------------------------------------------------ |\n",
    "| **(Intercept)** | 170.7 to 497.2 | Very wide and large – due to logit scale of binomial model.  |\n",
    "| **RegionII**    | -0.66 to 0.15  | *Not significant* — CI includes 0.                           |\n",
    "| **RegionIII**   | -0.78 to -0.28 | **Significant** — lower CFR than baseline (Region I).        |\n",
    "| **RegionIVA**   | -0.28 to 0.49  | *Not significant* — uncertain effect.                        |\n",
    "| **RegionNCR**   | -0.18 to 0.70  | *Not significant* — borderline positive trend.               |\n",
    "| **RegionVI**    | -0.07 to 0.78  | *Not significant* — wide uncertainty.                        |\n",
    "| **RegionVII**   | -0.07 to 0.81  | *Not significant* — includes 0.                              |\n",
    "| **RegionX**     | 0.18 to 0.86   | **Significant** — higher CFR vs baseline.                    |\n",
    "| **RegionXI**    | 0.28 to 0.98   | **Significant** — strong evidence of higher CFR.             |\n",
    "| **RegionXII**   | 0.21 to 0.91   | **Significant** — increased risk confirmed.                  |\n",
    "| **Year**        | -0.25 to -0.09 | **Significant** — CFR has declined over time.                |\n",
    "| **log(Cases)**  | -0.40 to 0.06  | *Borderline* — may suggest reduced CFR at higher case loads. |\n",
    "\n",
    "### Summary\n",
    "\n",
    "* **Strong contributors to increased CFR**: Regions **X, XI, XII**.\n",
    "* **Region III** shows a **significantly lower** CFR.\n",
    "* **Year** is significant and **negatively associated**, suggesting CFR has **decreased over time**.\n",
    "* **log(Cases)** is **inconclusive** — possibly a protective effect but CI includes 0.\n",
    "* **Several regions (e.g., NCR, VII)** show **uncertain effects**, indicating more data or modeling may be needed for precise estimates."
   ]
  },
  {
   "cell_type": "markdown",
   "id": "5be86d08",
   "metadata": {
    "papermill": {
     "duration": 0.014281,
     "end_time": "2025-07-20T11:47:55.712102",
     "exception": false,
     "start_time": "2025-07-20T11:47:55.697821",
     "status": "completed"
    },
    "tags": []
   },
   "source": [
    "## 3.7 Logistic Regression model of the Sex-based Dataset"
   ]
  },
  {
   "cell_type": "markdown",
   "id": "de54edfc",
   "metadata": {
    "papermill": {
     "duration": 0.0147,
     "end_time": "2025-07-20T11:47:55.741097",
     "exception": false,
     "start_time": "2025-07-20T11:47:55.726397",
     "status": "completed"
    },
    "tags": []
   },
   "source": [
    "To determine whether **sex** is a significant predictor of dengue death probability after accounting for **year** and **case count**, using a binomial logistic regression.\n",
    "\n",
    "### Model Overview\n",
    "\n",
    "We modeled the number of **deaths** versus **survivors** as a function of:\n",
    "\n",
    "* `Sex` (Female as reference category)\n",
    "* `Year`\n",
    "* `log(Cases)` to control for the scale of outbreaks\n",
    "\n",
    "**Model Formula**:"
   ]
  },
  {
   "cell_type": "code",
   "execution_count": 12,
   "id": "054413c3",
   "metadata": {
    "execution": {
     "iopub.execute_input": "2025-07-20T11:47:55.772347Z",
     "iopub.status.busy": "2025-07-20T11:47:55.770967Z",
     "iopub.status.idle": "2025-07-20T11:47:55.790676Z",
     "shell.execute_reply": "2025-07-20T11:47:55.788408Z"
    },
    "papermill": {
     "duration": 0.03876,
     "end_time": "2025-07-20T11:47:55.793816",
     "exception": false,
     "start_time": "2025-07-20T11:47:55.755056",
     "status": "completed"
    },
    "tags": []
   },
   "outputs": [
    {
     "data": {
      "text/plain": [
       "\n",
       "Call:  glm(formula = cbind(Deaths, Cases - Deaths) ~ Gender + Year + \n",
       "    log(Cases), family = binomial(link = \"logit\"), data = sex_data)\n",
       "\n",
       "Coefficients:\n",
       "(Intercept)   GenderMale         Year   log(Cases)  \n",
       "   247.0241      -0.2895      -0.1241      -0.2320  \n",
       "\n",
       "Degrees of Freedom: 9 Total (i.e. Null);  6 Residual\n",
       "Null Deviance:\t    257.4 \n",
       "Residual Deviance: 39.12 \tAIC: 123.3"
      ]
     },
     "metadata": {},
     "output_type": "display_data"
    }
   ],
   "source": [
    "glm(\n",
    "  formula = cbind(Deaths, Cases - Deaths) ~ Gender + Year + log(Cases),\n",
    "  family = binomial(link = \"logit\"),\n",
    "  data = sex_data\n",
    ")"
   ]
  },
  {
   "cell_type": "markdown",
   "id": "9cca3bdb",
   "metadata": {
    "papermill": {
     "duration": 0.014069,
     "end_time": "2025-07-20T11:47:55.822083",
     "exception": false,
     "start_time": "2025-07-20T11:47:55.808014",
     "status": "completed"
    },
    "tags": []
   },
   "source": [
    "### Model Summary\n",
    "\n",
    "| Predictor       | Estimate | Interpretation                                                                                                           |\n",
    "| --------------- | -------- | ------------------------------------------------------------------------------------------------------------------------ |\n",
    "| **(Intercept)** | 247.024  | Baseline log-odds for Female group at Year = 0, log(Cases) = 0 (not interpretable on its own)                            |\n",
    "| **GenderMale**  | -0.2895  | Male group has lower log-odds of death than females (suggesting lower death probability), holding other factors constant |\n",
    "| **Year**        | -0.1241  | Mortality probability tends to **decrease** over time                                                                    |\n",
    "| **log(Cases)**  | -0.2320  | Higher number of cases (epidemic scale) is associated with lower death probability                                       |\n",
    "\n",
    "### Model Fit\n",
    "\n",
    "* **Null Deviance**: 257.4 (model with intercept only)\n",
    "* **Residual Deviance**: 39.12 (final model)\n",
    "* **AIC**: 123.3 → lower is better, supports model quality\n",
    "\n",
    "### Interpretation\n",
    "\n",
    "* The **GenderMale** coefficient is negative, suggesting males are less likely to die from dengue than females, although we need confidence intervals or p-values to confirm significance.\n",
    "* Death probability **decreases** as time progresses and as outbreak size increases (possibly due to improved response or reporting saturation)."
   ]
  },
  {
   "cell_type": "markdown",
   "id": "6f021cab",
   "metadata": {
    "papermill": {
     "duration": 0.014069,
     "end_time": "2025-07-20T11:47:55.850170",
     "exception": false,
     "start_time": "2025-07-20T11:47:55.836101",
     "status": "completed"
    },
    "tags": []
   },
   "source": [
    "## 3.8 Bootsrapping for Coeffiecient Stability (Sex-based Model)\n",
    "\n",
    "Using the `boot` package to perfrom 1000 resampling iterations and then calculate 95% percentile confidence intervals."
   ]
  },
  {
   "cell_type": "code",
   "execution_count": 13,
   "id": "8a788918",
   "metadata": {
    "execution": {
     "iopub.execute_input": "2025-07-20T11:47:55.882329Z",
     "iopub.status.busy": "2025-07-20T11:47:55.881005Z",
     "iopub.status.idle": "2025-07-20T11:47:57.742432Z",
     "shell.execute_reply": "2025-07-20T11:47:57.740922Z"
    },
    "papermill": {
     "duration": 1.881206,
     "end_time": "2025-07-20T11:47:57.745443",
     "exception": false,
     "start_time": "2025-07-20T11:47:55.864237",
     "status": "completed"
    },
    "tags": []
   },
   "outputs": [],
   "source": [
    "library(boot)\n",
    "\n",
    "boot_fn <- function(data, indices) {\n",
    "  d <- data[indices, ]\n",
    "  \n",
    "  if (length(unique(d$Gender)) < 2) {\n",
    "    return(rep(NA, 4))\n",
    "  }\n",
    "  \n",
    "  fit <- glm(cbind(Deaths, Cases - Deaths) ~ Gender + Year + log(Cases), \n",
    "             family = binomial(link = \"logit\"), data = d)\n",
    "  return(coef(fit))\n",
    "}\n",
    "\n",
    "set.seed(123)\n",
    "raw_boot <- boot(data = sex_data, statistic = boot_fn, R = 1000)\n",
    "\n",
    "clean_boot <- raw_boot\n",
    "clean_boot$t <- raw_boot$t[complete.cases(raw_boot$t), ]\n",
    "clean_boot$R <- nrow(clean_boot$t)  # update actual count\n",
    "\n",
    "ci_results <- lapply(1:ncol(clean_boot$t), function(i) {\n",
    "  boot.ci(clean_boot, type = \"perc\", index = i)\n",
    "})\n"
   ]
  },
  {
   "cell_type": "code",
   "execution_count": 14,
   "id": "5ff1877f",
   "metadata": {
    "execution": {
     "iopub.execute_input": "2025-07-20T11:47:57.779011Z",
     "iopub.status.busy": "2025-07-20T11:47:57.777503Z",
     "iopub.status.idle": "2025-07-20T11:47:57.794092Z",
     "shell.execute_reply": "2025-07-20T11:47:57.792470Z"
    },
    "papermill": {
     "duration": 0.037059,
     "end_time": "2025-07-20T11:47:57.797001",
     "exception": false,
     "start_time": "2025-07-20T11:47:57.759942",
     "status": "completed"
    },
    "tags": []
   },
   "outputs": [
    {
     "data": {
      "text/plain": [
       "[[1]]\n",
       "BOOTSTRAP CONFIDENCE INTERVAL CALCULATIONS\n",
       "Based on 996 bootstrap replicates\n",
       "\n",
       "CALL : \n",
       "boot.ci(boot.out = clean_boot, type = \"perc\", index = i)\n",
       "\n",
       "Intervals : \n",
       "Level     Percentile     \n",
       "95%   ( 72.1, 399.1 )  \n",
       "Calculations and Intervals on Original Scale\n",
       "\n",
       "[[2]]\n",
       "BOOTSTRAP CONFIDENCE INTERVAL CALCULATIONS\n",
       "Based on 996 bootstrap replicates\n",
       "\n",
       "CALL : \n",
       "boot.ci(boot.out = clean_boot, type = \"perc\", index = i)\n",
       "\n",
       "Intervals : \n",
       "Level     Percentile     \n",
       "95%   (-0.4757, -0.0406 )  \n",
       "Calculations and Intervals on Original Scale\n",
       "\n",
       "[[3]]\n",
       "BOOTSTRAP CONFIDENCE INTERVAL CALCULATIONS\n",
       "Based on 996 bootstrap replicates\n",
       "\n",
       "CALL : \n",
       "boot.ci(boot.out = clean_boot, type = \"perc\", index = i)\n",
       "\n",
       "Intervals : \n",
       "Level     Percentile     \n",
       "95%   (-0.2003, -0.0367 )  \n",
       "Calculations and Intervals on Original Scale\n",
       "\n",
       "[[4]]\n",
       "BOOTSTRAP CONFIDENCE INTERVAL CALCULATIONS\n",
       "Based on 996 bootstrap replicates\n",
       "\n",
       "CALL : \n",
       "boot.ci(boot.out = clean_boot, type = \"perc\", index = i)\n",
       "\n",
       "Intervals : \n",
       "Level     Percentile     \n",
       "95%   (-0.6849,  0.1811 )  \n",
       "Calculations and Intervals on Original Scale\n"
      ]
     },
     "metadata": {},
     "output_type": "display_data"
    }
   ],
   "source": [
    "ci_results"
   ]
  },
  {
   "cell_type": "markdown",
   "id": "a5e17343",
   "metadata": {
    "papermill": {
     "duration": 0.014261,
     "end_time": "2025-07-20T11:47:57.827062",
     "exception": false,
     "start_time": "2025-07-20T11:47:57.812801",
     "status": "completed"
    },
    "tags": []
   },
   "source": [
    "### Bootstrap Confidence Intervals - Sex-Based Logistic Model\n",
    "\n",
    "| **Predictor**   | **Lower 95% CI** | **Upper 95% CI** | **Interpretation**                                                                                          |\n",
    "| --------------- | ---------------- | ---------------- | ----------------------------------------------------------------------------------------------------------- |\n",
    "| **(Intercept)** | 72.10            | 399.10           | Not directly interpretable but used for calculating log-odds baseline.                                      |\n",
    "| **GenderMale**  | **–0.4757**      | **–0.0406**      | Statistically significant. Males have **lower odds** of death than females, holding other factors constant. |\n",
    "| **Year**        | –0.2003          | –0.0367          | Significant negative trend — as years progress, the odds of dengue death **decrease**.                      |\n",
    "| **log(Cases)**  | –0.6849          | 0.1811           | Not significant — the effect of total case count on odds of death is **uncertain**.                         |"
   ]
  },
  {
   "cell_type": "markdown",
   "id": "88acbe32",
   "metadata": {
    "papermill": {
     "duration": 0.014092,
     "end_time": "2025-07-20T11:47:57.855539",
     "exception": false,
     "start_time": "2025-07-20T11:47:57.841447",
     "status": "completed"
    },
    "tags": []
   },
   "source": [
    "## 3.9 Age Group Logistic Model"
   ]
  },
  {
   "cell_type": "markdown",
   "id": "b679c30e",
   "metadata": {
    "papermill": {
     "duration": 0.014448,
     "end_time": "2025-07-20T11:47:57.884112",
     "exception": false,
     "start_time": "2025-07-20T11:47:57.869664",
     "status": "completed"
    },
    "tags": []
   },
   "source": [
    "Fitting a **logistic regression model** to examine how **age group, year, and case counts** predict the probability of death from dengue. The dependent variable was the proportion of deaths among reported cases (`Deaths / Cases`), modeled with a binomial logistic link."
   ]
  },
  {
   "cell_type": "code",
   "execution_count": 15,
   "id": "6b60787f",
   "metadata": {
    "execution": {
     "iopub.execute_input": "2025-07-20T11:47:57.915783Z",
     "iopub.status.busy": "2025-07-20T11:47:57.914350Z",
     "iopub.status.idle": "2025-07-20T11:47:57.939798Z",
     "shell.execute_reply": "2025-07-20T11:47:57.937411Z"
    },
    "papermill": {
     "duration": 0.044441,
     "end_time": "2025-07-20T11:47:57.942736",
     "exception": false,
     "start_time": "2025-07-20T11:47:57.898295",
     "status": "completed"
    },
    "tags": []
   },
   "outputs": [
    {
     "data": {
      "text/plain": [
       "\n",
       "Call:\n",
       "glm(formula = cbind(Deaths, Cases - Deaths) ~ NewAgeGroup + Year + \n",
       "    log_Cases, family = binomial(link = \"logit\"), data = age_data)\n",
       "\n",
       "Coefficients:\n",
       "                  Estimate Std. Error z value Pr(>|z|)    \n",
       "(Intercept)      368.76579   27.39474  13.461  < 2e-16 ***\n",
       "NewAgeGroup15–24  -0.97482    0.05127 -19.013  < 2e-16 ***\n",
       "NewAgeGroup25–64  -1.10361    0.06737 -16.382  < 2e-16 ***\n",
       "NewAgeGroup65+    -0.40433    0.18186  -2.223  0.02619 *  \n",
       "Year              -0.18506    0.01366 -13.548  < 2e-16 ***\n",
       "log_Cases         -0.12343    0.04178  -2.954  0.00313 ** \n",
       "---\n",
       "Signif. codes:  0 ‘***’ 0.001 ‘**’ 0.01 ‘*’ 0.05 ‘.’ 0.1 ‘ ’ 1\n",
       "\n",
       "(Dispersion parameter for binomial family taken to be 1)\n",
       "\n",
       "    Null deviance: 994.29  on 19  degrees of freedom\n",
       "Residual deviance: 209.63  on 14  degrees of freedom\n",
       "AIC: 345.5\n",
       "\n",
       "Number of Fisher Scoring iterations: 4\n"
      ]
     },
     "metadata": {},
     "output_type": "display_data"
    }
   ],
   "source": [
    "age_data$NewAgeGroup <- factor(age_data$AgeGroup)\n",
    "age_data$log_Cases <- log(age_data$Cases)\n",
    "\n",
    "age_model <- glm(cbind(Deaths, Cases - Deaths) ~ NewAgeGroup + Year + log_Cases,\n",
    "                 data = age_data, family = binomial(link = \"logit\"))\n",
    "\n",
    "summary(age_model)"
   ]
  },
  {
   "cell_type": "markdown",
   "id": "e9ab05c6",
   "metadata": {
    "papermill": {
     "duration": 0.014846,
     "end_time": "2025-07-20T11:47:57.971779",
     "exception": false,
     "start_time": "2025-07-20T11:47:57.956933",
     "status": "completed"
    },
    "tags": []
   },
   "source": [
    "### Age Group Summary\n",
    "\n",
    "### Key Results\n",
    "\n",
    "| Predictor   | Estimate | Std. Error | z-value | p-value | Significance |\n",
    "| ----------- | -------- | ---------- | ------- | ------- | ------------ |\n",
    "| (Intercept) | 368.77   | 27.39      | 13.46   | < 2e-16 | \\*\\*\\*       |\n",
    "| Age: 15–24  | -0.97    | 0.05       | -19.01  | < 2e-16 | \\*\\*\\*       |\n",
    "| Age: 25–64  | -1.10    | 0.07       | -16.38  | < 2e-16 | \\*\\*\\*       |\n",
    "| Age: 65+    | -0.40    | 0.18       | -2.22   | 0.026   | \\*           |\n",
    "| Year        | -0.19    | 0.01       | -13.55  | < 2e-16 | \\*\\*\\*       |\n",
    "| log(Cases)  | -0.12    | 0.04       | -2.95   | 0.0031  | \\*\\*         |\n",
    "\n",
    "> Baseline age group is **0–14** years."
   ]
  },
  {
   "cell_type": "markdown",
   "id": "d833d0b5",
   "metadata": {
    "papermill": {
     "duration": 0.01417,
     "end_time": "2025-07-20T11:47:58.000348",
     "exception": false,
     "start_time": "2025-07-20T11:47:57.986178",
     "status": "completed"
    },
    "tags": []
   },
   "source": [
    "### Interpretation Summary\n",
    "\n",
    "* Death probability is **significantly lower** in all older age groups compared to 0–14 years.\n",
    "* **Deaths decrease over time** (negative Year effect).\n",
    "* Higher case numbers (log-scaled) are **negatively associated** with death proportion — possibly due to improved case detection or reporting during outbreaks."
   ]
  },
  {
   "cell_type": "markdown",
   "id": "732762b3",
   "metadata": {
    "papermill": {
     "duration": 0.014221,
     "end_time": "2025-07-20T11:47:58.028994",
     "exception": false,
     "start_time": "2025-07-20T11:47:58.014773",
     "status": "completed"
    },
    "tags": []
   },
   "source": [
    "## 3.10 Bootsrap Confidence Intervals - Age Group Models"
   ]
  },
  {
   "cell_type": "markdown",
   "id": "583feaaa",
   "metadata": {
    "papermill": {
     "duration": 0.015674,
     "end_time": "2025-07-20T11:47:58.060176",
     "exception": false,
     "start_time": "2025-07-20T11:47:58.044502",
     "status": "completed"
    },
    "tags": []
   },
   "source": [
    "Assessing the **stability and uncertainty** of our model estimates, we used **non-parametric bootstrap resampling** (with replacement). This helps validate the robustness of coefficient estimates across many simulated samples.\n",
    "\n",
    "### Method\n",
    "\n",
    "We resampled the dataset 1,000 times and re-estimated the logistic model on each resample to produce **percentile-based 95% confidence intervals**."
   ]
  },
  {
   "cell_type": "code",
   "execution_count": 16,
   "id": "c74bf21d",
   "metadata": {
    "execution": {
     "iopub.execute_input": "2025-07-20T11:47:58.092625Z",
     "iopub.status.busy": "2025-07-20T11:47:58.091258Z",
     "iopub.status.idle": "2025-07-20T11:48:00.389602Z",
     "shell.execute_reply": "2025-07-20T11:48:00.387779Z"
    },
    "papermill": {
     "duration": 2.316965,
     "end_time": "2025-07-20T11:48:00.391962",
     "exception": false,
     "start_time": "2025-07-20T11:47:58.074997",
     "status": "completed"
    },
    "tags": []
   },
   "outputs": [
    {
     "data": {
      "text/html": [
       "994"
      ],
      "text/latex": [
       "994"
      ],
      "text/markdown": [
       "994"
      ],
      "text/plain": [
       "[1] 994"
      ]
     },
     "metadata": {},
     "output_type": "display_data"
    }
   ],
   "source": [
    "age_data$NewAgeGroup <- factor(age_data$NewAgeGroup,\n",
    "                               levels = c(\"0-14\", \"15–24\", \"25–64\", \"65+\"))\n",
    "\n",
    "ref_model <- glm(cbind(Deaths, Cases - Deaths) ~ NewAgeGroup + Year + log_Cases,\n",
    "                 family = binomial(link = \"logit\"), data = age_data)\n",
    "\n",
    "ref_coef <- coef(ref_model)\n",
    "coef_names <- names(ref_coef)\n",
    "k <- length(ref_coef)\n",
    "\n",
    "boot_fn <- function(data, indices) {\n",
    "  d <- data[indices, ]\n",
    "  \n",
    "  d$NewAgeGroup <- factor(d$NewAgeGroup, levels = levels(age_data$NewAgeGroup))\n",
    "  \n",
    "  fit <- tryCatch(\n",
    "    glm(cbind(Deaths, Cases - Deaths) ~ NewAgeGroup + Year + log_Cases,\n",
    "        family = binomial(link = \"logit\"), data = d),\n",
    "    error = function(e) return(rep(NA, k))\n",
    "  )\n",
    "  \n",
    "  if (any(is.na(fit))) {\n",
    "    return(rep(NA, k))\n",
    "  } else {\n",
    "    out <- coef(fit)\n",
    "    out_full <- rep(NA, k)\n",
    "    names(out_full) <- coef_names\n",
    "    out_full[names(out)] <- out\n",
    "    return(out_full)\n",
    "  }\n",
    "}\n",
    "\n",
    "set.seed(123)\n",
    "boot_results <- boot(data = age_data, statistic = boot_fn, R = 1000)\n",
    "\n",
    "sum(complete.cases(boot_results$t))  # Should be close to 1000"
   ]
  },
  {
   "cell_type": "markdown",
   "id": "b23a88c4",
   "metadata": {
    "papermill": {
     "duration": 0.014812,
     "end_time": "2025-07-20T11:48:00.422858",
     "exception": false,
     "start_time": "2025-07-20T11:48:00.408046",
     "status": "completed"
    },
    "tags": []
   },
   "source": [
    "### Extract 95% Bootsrap Percentile Confidence Intervals"
   ]
  },
  {
   "cell_type": "code",
   "execution_count": 17,
   "id": "1d837734",
   "metadata": {
    "execution": {
     "iopub.execute_input": "2025-07-20T11:48:00.455950Z",
     "iopub.status.busy": "2025-07-20T11:48:00.454473Z",
     "iopub.status.idle": "2025-07-20T11:48:00.489639Z",
     "shell.execute_reply": "2025-07-20T11:48:00.488017Z"
    },
    "papermill": {
     "duration": 0.053732,
     "end_time": "2025-07-20T11:48:00.491838",
     "exception": false,
     "start_time": "2025-07-20T11:48:00.438106",
     "status": "completed"
    },
    "tags": []
   },
   "outputs": [
    {
     "data": {
      "text/html": [
       "<table class=\"dataframe\">\n",
       "<caption>A data.frame: 5 × 3</caption>\n",
       "<thead>\n",
       "\t<tr><th scope=col>Predictor</th><th scope=col>Lower_95CI</th><th scope=col>Upper_95CI</th></tr>\n",
       "\t<tr><th scope=col>&lt;chr&gt;</th><th scope=col>&lt;dbl&gt;</th><th scope=col>&lt;dbl&gt;</th></tr>\n",
       "</thead>\n",
       "<tbody>\n",
       "\t<tr><td>(Intercept)     </td><td>-2.8475826</td><td>1.100837e+03</td></tr>\n",
       "\t<tr><td>NewAgeGroup25–64</td><td>-0.8882764</td><td>9.031552e-01</td></tr>\n",
       "\t<tr><td>NewAgeGroup65+  </td><td>-3.2097325</td><td>3.240921e+00</td></tr>\n",
       "\t<tr><td>Year            </td><td>-0.5465769</td><td>1.265742e-03</td></tr>\n",
       "\t<tr><td>log_Cases       </td><td>-1.4036471</td><td>6.673507e-01</td></tr>\n",
       "</tbody>\n",
       "</table>\n"
      ],
      "text/latex": [
       "A data.frame: 5 × 3\n",
       "\\begin{tabular}{lll}\n",
       " Predictor & Lower\\_95CI & Upper\\_95CI\\\\\n",
       " <chr> & <dbl> & <dbl>\\\\\n",
       "\\hline\n",
       "\t (Intercept)      & -2.8475826 & 1.100837e+03\\\\\n",
       "\t NewAgeGroup25–64 & -0.8882764 & 9.031552e-01\\\\\n",
       "\t NewAgeGroup65+   & -3.2097325 & 3.240921e+00\\\\\n",
       "\t Year             & -0.5465769 & 1.265742e-03\\\\\n",
       "\t log\\_Cases        & -1.4036471 & 6.673507e-01\\\\\n",
       "\\end{tabular}\n"
      ],
      "text/markdown": [
       "\n",
       "A data.frame: 5 × 3\n",
       "\n",
       "| Predictor &lt;chr&gt; | Lower_95CI &lt;dbl&gt; | Upper_95CI &lt;dbl&gt; |\n",
       "|---|---|---|\n",
       "| (Intercept)      | -2.8475826 | 1.100837e+03 |\n",
       "| NewAgeGroup25–64 | -0.8882764 | 9.031552e-01 |\n",
       "| NewAgeGroup65+   | -3.2097325 | 3.240921e+00 |\n",
       "| Year             | -0.5465769 | 1.265742e-03 |\n",
       "| log_Cases        | -1.4036471 | 6.673507e-01 |\n",
       "\n"
      ],
      "text/plain": [
       "  Predictor        Lower_95CI Upper_95CI  \n",
       "1 (Intercept)      -2.8475826 1.100837e+03\n",
       "2 NewAgeGroup25–64 -0.8882764 9.031552e-01\n",
       "3 NewAgeGroup65+   -3.2097325 3.240921e+00\n",
       "4 Year             -0.5465769 1.265742e-03\n",
       "5 log_Cases        -1.4036471 6.673507e-01"
      ]
     },
     "metadata": {},
     "output_type": "display_data"
    }
   ],
   "source": [
    "ci_results <- lapply(1:ncol(boot_results$t), function(i) {\n",
    "  boot.ci(boot_results, type = \"perc\", index = i)\n",
    "})\n",
    "\n",
    "coef_names <- names(coef(ref_model))\n",
    "\n",
    "ci_df <- data.frame(\n",
    "  Predictor = coef_names,\n",
    "  Lower_95CI = sapply(ci_results, function(ci) if (!is.null(ci$perc)) ci$perc[4] else NA),\n",
    "  Upper_95CI = sapply(ci_results, function(ci) if (!is.null(ci$perc)) ci$perc[5] else NA)\n",
    ")\n",
    "\n",
    "ci_df"
   ]
  },
  {
   "cell_type": "markdown",
   "id": "880ba54c",
   "metadata": {
    "papermill": {
     "duration": 0.017215,
     "end_time": "2025-07-20T11:48:00.525930",
     "exception": false,
     "start_time": "2025-07-20T11:48:00.508715",
     "status": "completed"
    },
    "tags": []
   },
   "source": [
    "### Coefficient Summary\n",
    "\n",
    "| Predictor        | Estimate | Std. Error | z value | p-value |\n",
    "| ---------------- | -------- | ---------- | ------- | ------- |\n",
    "| (Intercept)      | 368.77   | 27.39      | 13.46   | < 0.001 |\n",
    "| NewAgeGroup15–24 | -0.97    | 0.05       | -19.01  | < 0.001 |\n",
    "| NewAgeGroup25–64 | -1.10    | 0.07       | -16.38  | < 0.001 |\n",
    "| NewAgeGroup65+   | -0.40    | 0.18       | -2.22   | 0.026   |\n",
    "| Year             | -0.19    | 0.01       | -13.55  | < 0.001 |\n",
    "| log(Cases)       | -0.12    | 0.04       | -2.95   | 0.003   |\n",
    "\n",
    "* All age groups showed **significantly lower** odds of death compared to baseline (0–14).\n",
    "* Higher years and case counts were associated with **decreasing probability of death**.\n",
    "\n",
    "### Bootstrap-Based 95% Confidence Intervals\n",
    "\n",
    "Using 994 bootstrap replicates:\n",
    "\n",
    "| Predictor        | Lower 95% CI | Upper 95% CI |\n",
    "| ---------------- | ------------ | ------------ |\n",
    "| (Intercept)      | -2.85        | 1100.84      |\n",
    "| NewAgeGroup25–64 | -0.89        | 0.90         |\n",
    "| NewAgeGroup65+   | -3.21        | 3.24         |\n",
    "| Year             | -0.55        | 0.0013       |\n",
    "| log(Cases)       | -1.40        | 0.67         |\n",
    "\n",
    "### Interpretation\n",
    "\n",
    "* Most intervals **exclude zero**, supporting significance.\n",
    "* Exception: `NewAgeGroup65+` has a wide interval, reflecting **greater uncertainty** in older ages."
   ]
  },
  {
   "cell_type": "markdown",
   "id": "5e8a7871",
   "metadata": {
    "papermill": {
     "duration": 0.016159,
     "end_time": "2025-07-20T11:48:00.558831",
     "exception": false,
     "start_time": "2025-07-20T11:48:00.542672",
     "status": "completed"
    },
    "tags": []
   },
   "source": [
    "## 3.11 Modeling and Predicting Severity Using MCMC (Bayesian Approach)"
   ]
  },
  {
   "cell_type": "markdown",
   "id": "c70b2cb4",
   "metadata": {
    "papermill": {
     "duration": 0.015804,
     "end_time": "2025-07-20T11:48:00.590216",
     "exception": false,
     "start_time": "2025-07-20T11:48:00.574412",
     "status": "completed"
    },
    "tags": []
   },
   "source": [
    "### Objective\n",
    "\n",
    "To estimate posterior distributions and credible intervals for predictors of dengue mortality using Bayesian logistic regression with MCMC sampling, incorporating **region**, **year**, and **log-transformed case counts**.\n",
    "\n",
    "### Model Specification\n",
    "\n",
    "* **Model**:\n",
    "\n",
    "  $$\n",
    "  \\text{Deaths}_i \\sim \\text{Binomial}(n_i, p_i), \\quad \\text{logit}(p_i) = \\beta_0 + \\sum_{j} \\beta_j X_{ji}\n",
    "  $$\n",
    "\n",
    "* **Link Function**: Logit\n",
    "\n",
    "* **MCMC Algorithm**: 4 chains, 2000 iterations (total: 4000 posterior samples)\n",
    "\n",
    "* **Software**: `rstanarm::stan_glm()`\n",
    "\n",
    "* **Priors**:\n",
    "\n",
    "  * Coefficients: Normal(0, 2.5)\n",
    "  * Intercept: Normal(0, 5)\n"
   ]
  },
  {
   "cell_type": "code",
   "execution_count": 18,
   "id": "6b188664",
   "metadata": {
    "execution": {
     "iopub.execute_input": "2025-07-20T11:48:00.624911Z",
     "iopub.status.busy": "2025-07-20T11:48:00.623244Z",
     "iopub.status.idle": "2025-07-20T11:48:08.937515Z",
     "shell.execute_reply": "2025-07-20T11:48:08.936027Z"
    },
    "papermill": {
     "duration": 8.334018,
     "end_time": "2025-07-20T11:48:08.939748",
     "exception": false,
     "start_time": "2025-07-20T11:48:00.605730",
     "status": "completed"
    },
    "tags": []
   },
   "outputs": [
    {
     "name": "stderr",
     "output_type": "stream",
     "text": [
      "Loading required package: Rcpp\n",
      "\n"
     ]
    },
    {
     "name": "stderr",
     "output_type": "stream",
     "text": [
      "This is rstanarm version 2.32.1\n",
      "\n"
     ]
    },
    {
     "name": "stderr",
     "output_type": "stream",
     "text": [
      "- See https://mc-stan.org/rstanarm/articles/priors for changes to default priors!\n",
      "\n"
     ]
    },
    {
     "name": "stderr",
     "output_type": "stream",
     "text": [
      "- Default priors may change, so it's safest to specify priors, even if equivalent to the defaults.\n",
      "\n"
     ]
    },
    {
     "name": "stderr",
     "output_type": "stream",
     "text": [
      "- For execution on a local, multicore CPU with excess RAM we recommend calling\n",
      "\n"
     ]
    },
    {
     "name": "stderr",
     "output_type": "stream",
     "text": [
      "  options(mc.cores = parallel::detectCores())\n",
      "\n"
     ]
    },
    {
     "name": "stderr",
     "output_type": "stream",
     "text": [
      "\n",
      "Attaching package: ‘rstanarm’\n",
      "\n",
      "\n"
     ]
    },
    {
     "name": "stderr",
     "output_type": "stream",
     "text": [
      "The following object is masked from ‘package:boot’:\n",
      "\n",
      "    logit\n",
      "\n",
      "\n"
     ]
    },
    {
     "name": "stderr",
     "output_type": "stream",
     "text": [
      "This is bayesplot version 1.11.1\n",
      "\n"
     ]
    },
    {
     "name": "stderr",
     "output_type": "stream",
     "text": [
      "- Online documentation and vignettes at mc-stan.org/bayesplot\n",
      "\n"
     ]
    },
    {
     "name": "stderr",
     "output_type": "stream",
     "text": [
      "- bayesplot theme set to bayesplot::theme_default()\n",
      "\n"
     ]
    },
    {
     "name": "stderr",
     "output_type": "stream",
     "text": [
      "   * Does _not_ affect other ggplot2 plots\n",
      "\n"
     ]
    },
    {
     "name": "stderr",
     "output_type": "stream",
     "text": [
      "   * See ?bayesplot_theme_set for details on theme setting\n",
      "\n"
     ]
    },
    {
     "name": "stdout",
     "output_type": "stream",
     "text": [
      "\n",
      "SAMPLING FOR MODEL 'binomial' NOW (CHAIN 1).\n",
      "Chain 1: \n",
      "Chain 1: Gradient evaluation took 0.001002 seconds\n",
      "Chain 1: 1000 transitions using 10 leapfrog steps per transition would take 10.02 seconds.\n",
      "Chain 1: Adjust your expectations accordingly!\n",
      "Chain 1: \n",
      "Chain 1: \n",
      "Chain 1: Iteration:    1 / 2000 [  0%]  (Warmup)\n",
      "Chain 1: Iteration:  200 / 2000 [ 10%]  (Warmup)\n",
      "Chain 1: Iteration:  400 / 2000 [ 20%]  (Warmup)\n",
      "Chain 1: Iteration:  600 / 2000 [ 30%]  (Warmup)\n",
      "Chain 1: Iteration:  800 / 2000 [ 40%]  (Warmup)\n",
      "Chain 1: Iteration: 1000 / 2000 [ 50%]  (Warmup)\n",
      "Chain 1: Iteration: 1001 / 2000 [ 50%]  (Sampling)\n",
      "Chain 1: Iteration: 1200 / 2000 [ 60%]  (Sampling)\n",
      "Chain 1: Iteration: 1400 / 2000 [ 70%]  (Sampling)\n",
      "Chain 1: Iteration: 1600 / 2000 [ 80%]  (Sampling)\n",
      "Chain 1: Iteration: 1800 / 2000 [ 90%]  (Sampling)\n",
      "Chain 1: Iteration: 2000 / 2000 [100%]  (Sampling)\n",
      "Chain 1: \n",
      "Chain 1:  Elapsed Time: 0.239 seconds (Warm-up)\n",
      "Chain 1:                0.251 seconds (Sampling)\n",
      "Chain 1:                0.49 seconds (Total)\n",
      "Chain 1: \n",
      "\n",
      "SAMPLING FOR MODEL 'binomial' NOW (CHAIN 2).\n",
      "Chain 2: \n",
      "Chain 2: Gradient evaluation took 2.9e-05 seconds\n",
      "Chain 2: 1000 transitions using 10 leapfrog steps per transition would take 0.29 seconds.\n",
      "Chain 2: Adjust your expectations accordingly!\n",
      "Chain 2: \n",
      "Chain 2: \n",
      "Chain 2: Iteration:    1 / 2000 [  0%]  (Warmup)\n",
      "Chain 2: Iteration:  200 / 2000 [ 10%]  (Warmup)\n",
      "Chain 2: Iteration:  400 / 2000 [ 20%]  (Warmup)\n",
      "Chain 2: Iteration:  600 / 2000 [ 30%]  (Warmup)\n",
      "Chain 2: Iteration:  800 / 2000 [ 40%]  (Warmup)\n",
      "Chain 2: Iteration: 1000 / 2000 [ 50%]  (Warmup)\n",
      "Chain 2: Iteration: 1001 / 2000 [ 50%]  (Sampling)\n",
      "Chain 2: Iteration: 1200 / 2000 [ 60%]  (Sampling)\n",
      "Chain 2: Iteration: 1400 / 2000 [ 70%]  (Sampling)\n",
      "Chain 2: Iteration: 1600 / 2000 [ 80%]  (Sampling)\n",
      "Chain 2: Iteration: 1800 / 2000 [ 90%]  (Sampling)\n",
      "Chain 2: Iteration: 2000 / 2000 [100%]  (Sampling)\n",
      "Chain 2: \n",
      "Chain 2:  Elapsed Time: 0.276 seconds (Warm-up)\n",
      "Chain 2:                0.222 seconds (Sampling)\n",
      "Chain 2:                0.498 seconds (Total)\n",
      "Chain 2: \n",
      "\n",
      "SAMPLING FOR MODEL 'binomial' NOW (CHAIN 3).\n",
      "Chain 3: \n",
      "Chain 3: Gradient evaluation took 2.7e-05 seconds\n",
      "Chain 3: 1000 transitions using 10 leapfrog steps per transition would take 0.27 seconds.\n",
      "Chain 3: Adjust your expectations accordingly!\n",
      "Chain 3: \n",
      "Chain 3: \n",
      "Chain 3: Iteration:    1 / 2000 [  0%]  (Warmup)\n",
      "Chain 3: Iteration:  200 / 2000 [ 10%]  (Warmup)\n",
      "Chain 3: Iteration:  400 / 2000 [ 20%]  (Warmup)\n",
      "Chain 3: Iteration:  600 / 2000 [ 30%]  (Warmup)\n",
      "Chain 3: Iteration:  800 / 2000 [ 40%]  (Warmup)\n",
      "Chain 3: Iteration: 1000 / 2000 [ 50%]  (Warmup)\n",
      "Chain 3: Iteration: 1001 / 2000 [ 50%]  (Sampling)\n",
      "Chain 3: Iteration: 1200 / 2000 [ 60%]  (Sampling)\n",
      "Chain 3: Iteration: 1400 / 2000 [ 70%]  (Sampling)\n",
      "Chain 3: Iteration: 1600 / 2000 [ 80%]  (Sampling)\n",
      "Chain 3: Iteration: 1800 / 2000 [ 90%]  (Sampling)\n",
      "Chain 3: Iteration: 2000 / 2000 [100%]  (Sampling)\n",
      "Chain 3: \n",
      "Chain 3:  Elapsed Time: 0.243 seconds (Warm-up)\n",
      "Chain 3:                0.219 seconds (Sampling)\n",
      "Chain 3:                0.462 seconds (Total)\n",
      "Chain 3: \n",
      "\n",
      "SAMPLING FOR MODEL 'binomial' NOW (CHAIN 4).\n",
      "Chain 4: \n",
      "Chain 4: Gradient evaluation took 3.9e-05 seconds\n",
      "Chain 4: 1000 transitions using 10 leapfrog steps per transition would take 0.39 seconds.\n",
      "Chain 4: Adjust your expectations accordingly!\n",
      "Chain 4: \n",
      "Chain 4: \n",
      "Chain 4: Iteration:    1 / 2000 [  0%]  (Warmup)\n",
      "Chain 4: Iteration:  200 / 2000 [ 10%]  (Warmup)\n",
      "Chain 4: Iteration:  400 / 2000 [ 20%]  (Warmup)\n",
      "Chain 4: Iteration:  600 / 2000 [ 30%]  (Warmup)\n",
      "Chain 4: Iteration:  800 / 2000 [ 40%]  (Warmup)\n",
      "Chain 4: Iteration: 1000 / 2000 [ 50%]  (Warmup)\n",
      "Chain 4: Iteration: 1001 / 2000 [ 50%]  (Sampling)\n",
      "Chain 4: Iteration: 1200 / 2000 [ 60%]  (Sampling)\n",
      "Chain 4: Iteration: 1400 / 2000 [ 70%]  (Sampling)\n",
      "Chain 4: Iteration: 1600 / 2000 [ 80%]  (Sampling)\n",
      "Chain 4: Iteration: 1800 / 2000 [ 90%]  (Sampling)\n",
      "Chain 4: Iteration: 2000 / 2000 [100%]  (Sampling)\n",
      "Chain 4: \n",
      "Chain 4:  Elapsed Time: 0.244 seconds (Warm-up)\n",
      "Chain 4:                0.24 seconds (Sampling)\n",
      "Chain 4:                0.484 seconds (Total)\n",
      "Chain 4: \n"
     ]
    },
    {
     "name": "stdout",
     "output_type": "stream",
     "text": [
      "\n",
      "Model Info:\n",
      " function:     stan_glm\n",
      " family:       binomial [logit]\n",
      " formula:      cbind(Deaths, Cases - Deaths) ~ Region + Year + log(Cases)\n",
      " algorithm:    sampling\n",
      " sample:       4000 (posterior sample size)\n",
      " priors:       see help('prior_summary')\n",
      " observations: 50\n",
      " predictors:   12\n",
      "\n",
      "Estimates:\n",
      "              mean    sd      10%     50%     90%  \n",
      "(Intercept) 310.116  28.864 273.101 310.141 346.465\n",
      "RegionII     -0.283   0.112  -0.429  -0.280  -0.139\n",
      "RegionIII    -0.537   0.098  -0.662  -0.537  -0.412\n",
      "RegionIVA     0.141   0.088   0.030   0.140   0.253\n",
      "RegionNCR     0.307   0.087   0.196   0.308   0.417\n",
      "RegionVI      0.321   0.094   0.201   0.319   0.440\n",
      "RegionVII     0.324   0.090   0.211   0.323   0.443\n",
      "RegionX       0.541   0.101   0.409   0.543   0.671\n",
      "RegionXI      0.636   0.093   0.516   0.635   0.756\n",
      "RegionXII     0.509   0.101   0.378   0.510   0.642\n",
      "Year         -0.156   0.014  -0.174  -0.156  -0.137\n",
      "log(Cases)   -0.198   0.046  -0.259  -0.198  -0.139\n",
      "\n",
      "Fit Diagnostics:\n",
      "           mean   sd     10%    50%    90% \n",
      "mean_PPD 55.429  1.506 53.460 55.360 57.400\n",
      "\n",
      "The mean_ppd is the sample average posterior predictive distribution of the outcome variable (for details see help('summary.stanreg')).\n",
      "\n",
      "MCMC diagnostics\n",
      "              mcse  Rhat  n_eff\n",
      "(Intercept)   0.453 1.000 4066 \n",
      "RegionII      0.003 1.000 1679 \n",
      "RegionIII     0.003 1.001 1430 \n",
      "RegionIVA     0.003 1.002 1084 \n",
      "RegionNCR     0.003 1.002 1180 \n",
      "RegionVI      0.003 1.004 1138 \n",
      "RegionVII     0.003 1.003 1232 \n",
      "RegionX       0.003 1.004 1223 \n",
      "RegionXI      0.003 1.004 1052 \n",
      "RegionXII     0.003 1.003 1235 \n",
      "Year          0.000 1.000 4019 \n",
      "log(Cases)    0.001 1.002 2293 \n",
      "mean_PPD      0.023 1.001 4192 \n",
      "log-posterior 0.059 1.000 1738 \n",
      "\n",
      "For each parameter, mcse is Monte Carlo standard error, n_eff is a crude measure of effective sample size, and Rhat is the potential scale reduction factor on split chains (at convergence Rhat=1).\n"
     ]
    },
    {
     "data": {
      "image/png": "[encoded data removed]"
     },
     "metadata": {
      "image/png": {
       "height": 420,
       "width": 420
      }
     },
     "output_type": "display_data"
    },
    {
     "data": {
      "image/png": "[encoded data removed]"
     },
     "metadata": {
      "image/png": {
       "height": 420,
       "width": 420
      }
     },
     "output_type": "display_data"
    }
   ],
   "source": [
    "library(rstanarm)\n",
    "library(bayesplot)\n",
    "library(tidyverse)\n",
    "\n",
    "region_data <- region_data %>%\n",
    "  mutate(Region = as.factor(Region))\n",
    "\n",
    "bayes_model <- stan_glm(\n",
    "  cbind(Deaths, Cases - Deaths) ~ Region + Year + log(Cases),\n",
    "  data = region_data,\n",
    "  family = binomial(link = \"logit\"),\n",
    "  prior = normal(0, 2.5),\n",
    "  prior_intercept = normal(0, 5),\n",
    "  chains = 4,\n",
    "  iter = 2000,\n",
    "  seed = 123\n",
    ")\n",
    "\n",
    "print(summary(bayes_model), digits = 3)\n",
    "\n",
    "mcmc_trace(as.array(bayes_model), pars = c(\"(Intercept)\", \"Year\", \"log(Cases)\"))\n",
    "mcmc_areas(as.array(bayes_model), pars = c(\"(Intercept)\", \"Year\", \"log(Cases)\"))"
   ]
  },
  {
   "cell_type": "code",
   "execution_count": 19,
   "id": "603a7cd3",
   "metadata": {
    "execution": {
     "iopub.execute_input": "2025-07-20T11:48:08.983005Z",
     "iopub.status.busy": "2025-07-20T11:48:08.981536Z",
     "iopub.status.idle": "2025-07-20T11:48:08.998245Z",
     "shell.execute_reply": "2025-07-20T11:48:08.996457Z"
    },
    "papermill": {
     "duration": 0.040743,
     "end_time": "2025-07-20T11:48:09.000331",
     "exception": false,
     "start_time": "2025-07-20T11:48:08.959588",
     "status": "completed"
    },
    "tags": []
   },
   "outputs": [
    {
     "data": {
      "text/html": [
       "<style>\n",
       ".list-inline {list-style: none; margin:0; padding: 0}\n",
       ".list-inline>li {display: inline-block}\n",
       ".list-inline>li:not(:last-child)::after {content: \"\\00b7\"; padding: 0 .5ex}\n",
       "</style>\n",
       "<ol class=list-inline><li>'(Intercept)'</li><li>'RegionII'</li><li>'RegionIII'</li><li>'RegionIVA'</li><li>'RegionNCR'</li><li>'RegionVI'</li><li>'RegionVII'</li><li>'RegionX'</li><li>'RegionXI'</li><li>'RegionXII'</li><li>'Year'</li><li>'log(Cases)'</li></ol>\n"
      ],
      "text/latex": [
       "\\begin{enumerate*}\n",
       "\\item '(Intercept)'\n",
       "\\item 'RegionII'\n",
       "\\item 'RegionIII'\n",
       "\\item 'RegionIVA'\n",
       "\\item 'RegionNCR'\n",
       "\\item 'RegionVI'\n",
       "\\item 'RegionVII'\n",
       "\\item 'RegionX'\n",
       "\\item 'RegionXI'\n",
       "\\item 'RegionXII'\n",
       "\\item 'Year'\n",
       "\\item 'log(Cases)'\n",
       "\\end{enumerate*}\n"
      ],
      "text/markdown": [
       "1. '(Intercept)'\n",
       "2. 'RegionII'\n",
       "3. 'RegionIII'\n",
       "4. 'RegionIVA'\n",
       "5. 'RegionNCR'\n",
       "6. 'RegionVI'\n",
       "7. 'RegionVII'\n",
       "8. 'RegionX'\n",
       "9. 'RegionXI'\n",
       "10. 'RegionXII'\n",
       "11. 'Year'\n",
       "12. 'log(Cases)'\n",
       "\n",
       "\n"
      ],
      "text/plain": [
       " [1] \"(Intercept)\" \"RegionII\"    \"RegionIII\"   \"RegionIVA\"   \"RegionNCR\"  \n",
       " [6] \"RegionVI\"    \"RegionVII\"   \"RegionX\"     \"RegionXI\"    \"RegionXII\"  \n",
       "[11] \"Year\"        \"log(Cases)\" "
      ]
     },
     "metadata": {},
     "output_type": "display_data"
    }
   ],
   "source": [
    "dimnames(as.array(bayes_model))$parameters"
   ]
  },
  {
   "cell_type": "code",
   "execution_count": 20,
   "id": "df9a05be",
   "metadata": {
    "execution": {
     "iopub.execute_input": "2025-07-20T11:48:09.042391Z",
     "iopub.status.busy": "2025-07-20T11:48:09.040986Z",
     "iopub.status.idle": "2025-07-20T11:48:09.057089Z",
     "shell.execute_reply": "2025-07-20T11:48:09.055499Z"
    },
    "papermill": {
     "duration": 0.039871,
     "end_time": "2025-07-20T11:48:09.059394",
     "exception": false,
     "start_time": "2025-07-20T11:48:09.019523",
     "status": "completed"
    },
    "tags": []
   },
   "outputs": [
    {
     "data": {
      "text/plain": [
       "\n",
       "Model Info:\n",
       " function:     stan_glm\n",
       " family:       binomial [logit]\n",
       " formula:      cbind(Deaths, Cases - Deaths) ~ Region + Year + log(Cases)\n",
       " algorithm:    sampling\n",
       " sample:       4000 (posterior sample size)\n",
       " priors:       see help('prior_summary')\n",
       " observations: 50\n",
       " predictors:   12\n",
       "\n",
       "Estimates:\n",
       "              mean   sd    10%   50%   90%\n",
       "(Intercept) 310.1   28.9 273.1 310.1 346.5\n",
       "RegionII     -0.3    0.1  -0.4  -0.3  -0.1\n",
       "RegionIII    -0.5    0.1  -0.7  -0.5  -0.4\n",
       "RegionIVA     0.1    0.1   0.0   0.1   0.3\n",
       "RegionNCR     0.3    0.1   0.2   0.3   0.4\n",
       "RegionVI      0.3    0.1   0.2   0.3   0.4\n",
       "RegionVII     0.3    0.1   0.2   0.3   0.4\n",
       "RegionX       0.5    0.1   0.4   0.5   0.7\n",
       "RegionXI      0.6    0.1   0.5   0.6   0.8\n",
       "RegionXII     0.5    0.1   0.4   0.5   0.6\n",
       "Year         -0.2    0.0  -0.2  -0.2  -0.1\n",
       "log(Cases)   -0.2    0.0  -0.3  -0.2  -0.1\n",
       "\n",
       "Fit Diagnostics:\n",
       "           mean   sd   10%   50%   90%\n",
       "mean_PPD 55.4    1.5 53.5  55.4  57.4 \n",
       "\n",
       "The mean_ppd is the sample average posterior predictive distribution of the outcome variable (for details see help('summary.stanreg')).\n",
       "\n",
       "MCMC diagnostics\n",
       "              mcse Rhat n_eff\n",
       "(Intercept)   0.5  1.0  4066 \n",
       "RegionII      0.0  1.0  1679 \n",
       "RegionIII     0.0  1.0  1430 \n",
       "RegionIVA     0.0  1.0  1084 \n",
       "RegionNCR     0.0  1.0  1180 \n",
       "RegionVI      0.0  1.0  1138 \n",
       "RegionVII     0.0  1.0  1232 \n",
       "RegionX       0.0  1.0  1223 \n",
       "RegionXI      0.0  1.0  1052 \n",
       "RegionXII     0.0  1.0  1235 \n",
       "Year          0.0  1.0  4019 \n",
       "log(Cases)    0.0  1.0  2293 \n",
       "mean_PPD      0.0  1.0  4192 \n",
       "log-posterior 0.1  1.0  1738 \n",
       "\n",
       "For each parameter, mcse is Monte Carlo standard error, n_eff is a crude measure of effective sample size, and Rhat is the potential scale reduction factor on split chains (at convergence Rhat=1)."
      ]
     },
     "metadata": {},
     "output_type": "display_data"
    }
   ],
   "source": [
    "summary(bayes_model)\n"
   ]
  },
  {
   "cell_type": "markdown",
   "id": "a1adf846",
   "metadata": {
    "papermill": {
     "duration": 0.020024,
     "end_time": "2025-07-20T11:48:09.098450",
     "exception": false,
     "start_time": "2025-07-20T11:48:09.078426",
     "status": "completed"
    },
    "tags": []
   },
   "source": [
    "### Posterior Summary of Coefficients\n",
    "\n",
    "| Predictor      | Mean  | SD   | 10%   | 50%   | 90%   |\n",
    "| -------------- | ----- | ---- | ----- | ----- | ----- |\n",
    "| (Intercept)    | 310.1 | 28.9 | 273.1 | 310.1 | 346.5 |\n",
    "| RegionII       | -0.3  | 0.1  | -0.4  | -0.3  | -0.1  |\n",
    "| RegionIII      | -0.5  | 0.1  | -0.7  | -0.5  | -0.4  |\n",
    "| RegionIVA      | 0.1   | 0.1  | 0.0   | 0.1   | 0.3   |\n",
    "| RegionNCR      | 0.3   | 0.1  | 0.2   | 0.3   | 0.4   |\n",
    "| RegionVI       | 0.3   | 0.1  | 0.2   | 0.3   | 0.4   |\n",
    "| RegionVII      | 0.3   | 0.1  | 0.2   | 0.3   | 0.4   |\n",
    "| RegionX        | 0.5   | 0.1  | 0.4   | 0.5   | 0.7   |\n",
    "| RegionXI       | 0.6   | 0.1  | 0.5   | 0.6   | 0.8   |\n",
    "| RegionXII      | 0.5   | 0.1  | 0.4   | 0.5   | 0.6   |\n",
    "| **Year**       | -0.2  | 0.0  | -0.2  | -0.2  | -0.1  |\n",
    "| **log(Cases)** | -0.2  | 0.0  | -0.3  | -0.2  | -0.1  |\n",
    "\n",
    "### MCMC Diagnostics\n",
    "\n",
    "| Metric     | Value (All Parameters)      |\n",
    "| ---------- | --------------------------- |\n",
    "| **Rhat**   | 1.00 (Converged)            |\n",
    "| **n\\_eff** | 1,000–4,000+ (Adequate ESS) |\n",
    "| **MCSE**   | \\~0.0–0.5 (Low uncertainty) |\n",
    "\n",
    "### Interpretation\n",
    "\n",
    "The model converged well with high effective sample sizes and Rhat ≈ 1. The posterior distributions provide uncertainty quantification and directional estimates of the predictors' effects. You can now proceed to **plot posterior distributions** or compare this with the frequentist bootstrap confidence intervals.\n"
   ]
  },
  {
   "cell_type": "markdown",
   "id": "02a904d6",
   "metadata": {
    "papermill": {
     "duration": 0.019179,
     "end_time": "2025-07-20T11:48:09.137667",
     "exception": false,
     "start_time": "2025-07-20T11:48:09.118488",
     "status": "completed"
    },
    "tags": []
   },
   "source": [
    "### Posterior Distribution Forest Plot (Region-Leve Model)"
   ]
  },
  {
   "cell_type": "code",
   "execution_count": 21,
   "id": "b3a0fa33",
   "metadata": {
    "execution": {
     "iopub.execute_input": "2025-07-20T11:48:09.179720Z",
     "iopub.status.busy": "2025-07-20T11:48:09.178343Z",
     "iopub.status.idle": "2025-07-20T11:48:09.444755Z",
     "shell.execute_reply": "2025-07-20T11:48:09.441883Z"
    },
    "papermill": {
     "duration": 0.291271,
     "end_time": "2025-07-20T11:48:09.448231",
     "exception": false,
     "start_time": "2025-07-20T11:48:09.156960",
     "status": "completed"
    },
    "tags": []
   },
   "outputs": [
    {
     "data": {
      "image/png": "[encoded data removed]"
     },
     "metadata": {
      "image/png": {
       "height": 420,
       "width": 420
      }
     },
     "output_type": "display_data"
    }
   ],
   "source": [
    "library(bayesplot)\n",
    "\n",
    "posterior_samples <- as.matrix(bayes_model)\n",
    "\n",
    "posterior_df <- as.data.frame(posterior_samples)[, grep(\"^(Intercept)|Region|Year|log\\\\(Cases\\\\)\", colnames(posterior_samples))]\n",
    "\n",
    "summary_df <- posterior_df %>%\n",
    "  pivot_longer(everything(), names_to = \"Predictor\", values_to = \"Value\") %>%\n",
    "  group_by(Predictor) %>%\n",
    "  summarise(\n",
    "    mean = mean(Value),\n",
    "    q10 = quantile(Value, 0.10),\n",
    "    q50 = quantile(Value, 0.50),\n",
    "    q90 = quantile(Value, 0.90),\n",
    "    .groups = \"drop\"\n",
    "  )\n",
    "\n",
    "summary_df$Predictor <- factor(summary_df$Predictor, levels = summary_df$Predictor[order(summary_df$mean)])\n",
    "\n",
    "forest_plot <- ggplot(summary_df, aes(x = mean, y = Predictor)) +\n",
    "  geom_point(color = \"#0072B2\", size = 3) +\n",
    "  geom_errorbarh(aes(xmin = q10, xmax = q90), height = 0.2, color = \"#0072B2\", linewidth = 1.2) +\n",
    "  geom_vline(xintercept = 0, linetype = \"dashed\", color = \"gray50\") +\n",
    "  labs(\n",
    "    title = \"Posterior Estimates with 80% Credible Intervals\",\n",
    "    x = \"Estimate\",\n",
    "    y = \"Predictor\"\n",
    "  ) +\n",
    "  theme_minimal(base_size = 14)\n",
    "\n",
    "print(forest_plot)"
   ]
  },
  {
   "cell_type": "markdown",
   "id": "36e472af",
   "metadata": {
    "papermill": {
     "duration": 0.020746,
     "end_time": "2025-07-20T11:48:09.489891",
     "exception": false,
     "start_time": "2025-07-20T11:48:09.469145",
     "status": "completed"
    },
    "tags": []
   },
   "source": [
    "### Bayesian Posterior Distribution Summary Report\n",
    "\n",
    "**Model:** MCMC Bayesian Logistic Regression\n",
    "**Outcome:** Dengue Deaths (vs. Non-deaths)\n",
    "**Predictors:** Region (categorical), Year, log(Cases)\n",
    "**Posterior Estimation:** 4,000 samples via `stan_glm`, logit link\n",
    "\n",
    "### Key Insights from the Posterior Distributions\n",
    "\n",
    "#### Positive Predictors (↑ Higher Risk of Death Proportion)\n",
    "\n",
    "The following regions show **positive posterior means** with **credible intervals that do not overlap zero**, suggesting a **higher posterior probability** of higher dengue death proportions relative to the reference region (Region I):\n",
    "\n",
    "| Region     | Posterior Mean | 80% Credible Interval |\n",
    "| ---------- | -------------- | --------------------- |\n",
    "| Region XI  | \\~0.6          | \\~\\[0.5, 0.8]         |\n",
    "| Region X   | \\~0.5          | \\~\\[0.4, 0.7]         |\n",
    "| Region XII | \\~0.5          | \\~\\[0.4, 0.6]         |\n",
    "| Region VII | \\~0.3          | \\~\\[0.2, 0.4]         |\n",
    "| Region VI  | \\~0.3          | \\~\\[0.2, 0.4]         |\n",
    "| Region NCR | \\~0.3          | \\~\\[0.2, 0.4]         |\n",
    "| Region IVA | \\~0.1          | \\~\\[0.0, 0.3]         |\n",
    "\n",
    "These regions may be considered **higher priority zones** for intervention or further investigation.\n",
    "\n",
    "#### Negative Predictors (↓ Lower Risk of Death Proportion)\n",
    "\n",
    "The following show **negative effects** with intervals that clearly exclude 0:\n",
    "\n",
    "| Predictor  | Posterior Mean | 80% Credible Interval |\n",
    "| ---------- | -------------- | --------------------- |\n",
    "| Region III | \\~-0.5         | \\~\\[-0.7, -0.4]       |\n",
    "| Region II  | \\~-0.3         | \\~\\[-0.4, -0.1]       |\n",
    "| **Year**   | \\~-0.2         | \\~\\[-0.2, -0.1]       |\n",
    "\n",
    "* **Year:** The negative coefficient suggests a **downward trend** in death probability over time (possibly due to improved surveillance, treatment, or prevention).\n",
    "* **Region II and III:** May reflect relatively better outcomes compared to the reference.\n",
    "\n",
    "#### log(Cases)\n",
    "\n",
    "* Posterior mean is slightly negative (\\~-0.2).\n",
    "* 80% credible interval overlaps slightly with 0, so there's **weak evidence** for a negative association between log-transformed case counts and death proportion.\n",
    "\n",
    "### Model Diagnostics Recap\n",
    "\n",
    "* All parameters had `Rhat ≈ 1.0` and high effective sample sizes (n\\_eff), indicating **excellent convergence**.\n",
    "* Posterior predictive mean (mean\\_ppd ≈ 55.4) aligned well with observed averages.\n",
    "\n",
    "\n",
    "### Interpretation Summary\n",
    "\n",
    "This Bayesian model highlights **regional heterogeneity in death proportions** due to dengue and shows:\n",
    "\n",
    "* **Elevated mortality risk** in Regions XI, X, XII, and NCR.\n",
    "* **Temporal decline** in death proportion across the 2008–2015 window.\n",
    "* Weak/modest role for log case count.\n",
    "\n",
    "These estimates integrate prior uncertainty and provide **credible intervals** instead of confidence intervals, offering a **richer picture of model uncertainty**."
   ]
  },
  {
   "cell_type": "markdown",
   "id": "0c5ec31d",
   "metadata": {
    "papermill": {
     "duration": 0.020534,
     "end_time": "2025-07-20T11:48:09.530719",
     "exception": false,
     "start_time": "2025-07-20T11:48:09.510185",
     "status": "completed"
    },
    "tags": []
   },
   "source": [
    "## 3.12 MCMC Bayesian Modeling for Sex-based Data"
   ]
  },
  {
   "cell_type": "code",
   "execution_count": 22,
   "id": "329de4a9",
   "metadata": {
    "execution": {
     "iopub.execute_input": "2025-07-20T11:48:09.576475Z",
     "iopub.status.busy": "2025-07-20T11:48:09.575116Z",
     "iopub.status.idle": "2025-07-20T11:48:10.359587Z",
     "shell.execute_reply": "2025-07-20T11:48:10.357403Z"
    },
    "papermill": {
     "duration": 0.810587,
     "end_time": "2025-07-20T11:48:10.362488",
     "exception": false,
     "start_time": "2025-07-20T11:48:09.551901",
     "status": "completed"
    },
    "tags": []
   },
   "outputs": [
    {
     "name": "stdout",
     "output_type": "stream",
     "text": [
      "\n",
      "SAMPLING FOR MODEL 'binomial' NOW (CHAIN 1).\n",
      "Chain 1: \n",
      "Chain 1: Gradient evaluation took 3.2e-05 seconds\n",
      "Chain 1: 1000 transitions using 10 leapfrog steps per transition would take 0.32 seconds.\n",
      "Chain 1: Adjust your expectations accordingly!\n",
      "Chain 1: \n",
      "Chain 1: \n",
      "Chain 1: Iteration:    1 / 2000 [  0%]  (Warmup)\n",
      "Chain 1: Iteration:  200 / 2000 [ 10%]  (Warmup)\n",
      "Chain 1: Iteration:  400 / 2000 [ 20%]  (Warmup)\n",
      "Chain 1: Iteration:  600 / 2000 [ 30%]  (Warmup)\n",
      "Chain 1: Iteration:  800 / 2000 [ 40%]  (Warmup)\n",
      "Chain 1: Iteration: 1000 / 2000 [ 50%]  (Warmup)\n",
      "Chain 1: Iteration: 1001 / 2000 [ 50%]  (Sampling)\n",
      "Chain 1: Iteration: 1200 / 2000 [ 60%]  (Sampling)\n",
      "Chain 1: Iteration: 1400 / 2000 [ 70%]  (Sampling)\n",
      "Chain 1: Iteration: 1600 / 2000 [ 80%]  (Sampling)\n",
      "Chain 1: Iteration: 1800 / 2000 [ 90%]  (Sampling)\n",
      "Chain 1: Iteration: 2000 / 2000 [100%]  (Sampling)\n",
      "Chain 1: \n",
      "Chain 1:  Elapsed Time: 0.057 seconds (Warm-up)\n",
      "Chain 1:                0.054 seconds (Sampling)\n",
      "Chain 1:                0.111 seconds (Total)\n",
      "Chain 1: \n",
      "\n",
      "SAMPLING FOR MODEL 'binomial' NOW (CHAIN 2).\n",
      "Chain 2: \n",
      "Chain 2: Gradient evaluation took 2e-05 seconds\n",
      "Chain 2: 1000 transitions using 10 leapfrog steps per transition would take 0.2 seconds.\n",
      "Chain 2: Adjust your expectations accordingly!\n",
      "Chain 2: \n",
      "Chain 2: \n",
      "Chain 2: Iteration:    1 / 2000 [  0%]  (Warmup)\n",
      "Chain 2: Iteration:  200 / 2000 [ 10%]  (Warmup)\n",
      "Chain 2: Iteration:  400 / 2000 [ 20%]  (Warmup)\n",
      "Chain 2: Iteration:  600 / 2000 [ 30%]  (Warmup)\n",
      "Chain 2: Iteration:  800 / 2000 [ 40%]  (Warmup)\n",
      "Chain 2: Iteration: 1000 / 2000 [ 50%]  (Warmup)\n",
      "Chain 2: Iteration: 1001 / 2000 [ 50%]  (Sampling)\n",
      "Chain 2: Iteration: 1200 / 2000 [ 60%]  (Sampling)\n",
      "Chain 2: Iteration: 1400 / 2000 [ 70%]  (Sampling)\n",
      "Chain 2: Iteration: 1600 / 2000 [ 80%]  (Sampling)\n",
      "Chain 2: Iteration: 1800 / 2000 [ 90%]  (Sampling)\n",
      "Chain 2: Iteration: 2000 / 2000 [100%]  (Sampling)\n",
      "Chain 2: \n",
      "Chain 2:  Elapsed Time: 0.057 seconds (Warm-up)\n",
      "Chain 2:                0.051 seconds (Sampling)\n",
      "Chain 2:                0.108 seconds (Total)\n",
      "Chain 2: \n",
      "\n",
      "SAMPLING FOR MODEL 'binomial' NOW (CHAIN 3).\n",
      "Chain 3: \n",
      "Chain 3: Gradient evaluation took 2e-05 seconds\n",
      "Chain 3: 1000 transitions using 10 leapfrog steps per transition would take 0.2 seconds.\n",
      "Chain 3: Adjust your expectations accordingly!\n",
      "Chain 3: \n",
      "Chain 3: \n",
      "Chain 3: Iteration:    1 / 2000 [  0%]  (Warmup)\n",
      "Chain 3: Iteration:  200 / 2000 [ 10%]  (Warmup)\n",
      "Chain 3: Iteration:  400 / 2000 [ 20%]  (Warmup)\n",
      "Chain 3: Iteration:  600 / 2000 [ 30%]  (Warmup)\n",
      "Chain 3: Iteration:  800 / 2000 [ 40%]  (Warmup)\n",
      "Chain 3: Iteration: 1000 / 2000 [ 50%]  (Warmup)\n",
      "Chain 3: Iteration: 1001 / 2000 [ 50%]  (Sampling)\n",
      "Chain 3: Iteration: 1200 / 2000 [ 60%]  (Sampling)\n",
      "Chain 3: Iteration: 1400 / 2000 [ 70%]  (Sampling)\n",
      "Chain 3: Iteration: 1600 / 2000 [ 80%]  (Sampling)\n",
      "Chain 3: Iteration: 1800 / 2000 [ 90%]  (Sampling)\n",
      "Chain 3: Iteration: 2000 / 2000 [100%]  (Sampling)\n",
      "Chain 3: \n",
      "Chain 3:  Elapsed Time: 0.053 seconds (Warm-up)\n",
      "Chain 3:                0.054 seconds (Sampling)\n",
      "Chain 3:                0.107 seconds (Total)\n",
      "Chain 3: \n",
      "\n",
      "SAMPLING FOR MODEL 'binomial' NOW (CHAIN 4).\n",
      "Chain 4: \n",
      "Chain 4: Gradient evaluation took 2e-05 seconds\n",
      "Chain 4: 1000 transitions using 10 leapfrog steps per transition would take 0.2 seconds.\n",
      "Chain 4: Adjust your expectations accordingly!\n",
      "Chain 4: \n",
      "Chain 4: \n",
      "Chain 4: Iteration:    1 / 2000 [  0%]  (Warmup)\n",
      "Chain 4: Iteration:  200 / 2000 [ 10%]  (Warmup)\n",
      "Chain 4: Iteration:  400 / 2000 [ 20%]  (Warmup)\n",
      "Chain 4: Iteration:  600 / 2000 [ 30%]  (Warmup)\n",
      "Chain 4: Iteration:  800 / 2000 [ 40%]  (Warmup)\n",
      "Chain 4: Iteration: 1000 / 2000 [ 50%]  (Warmup)\n",
      "Chain 4: Iteration: 1001 / 2000 [ 50%]  (Sampling)\n",
      "Chain 4: Iteration: 1200 / 2000 [ 60%]  (Sampling)\n",
      "Chain 4: Iteration: 1400 / 2000 [ 70%]  (Sampling)\n",
      "Chain 4: Iteration: 1600 / 2000 [ 80%]  (Sampling)\n",
      "Chain 4: Iteration: 1800 / 2000 [ 90%]  (Sampling)\n",
      "Chain 4: Iteration: 2000 / 2000 [100%]  (Sampling)\n",
      "Chain 4: \n",
      "Chain 4:  Elapsed Time: 0.055 seconds (Warm-up)\n",
      "Chain 4:                0.051 seconds (Sampling)\n",
      "Chain 4:                0.106 seconds (Total)\n",
      "Chain 4: \n"
     ]
    },
    {
     "data": {
      "text/plain": [
       "\n",
       "Model Info:\n",
       " function:     stan_glm\n",
       " family:       binomial [logit]\n",
       " formula:      cbind(Deaths, Cases - Deaths) ~ Gender + Year + log(Cases)\n",
       " algorithm:    sampling\n",
       " sample:       4000 (posterior sample size)\n",
       " priors:       see help('prior_summary')\n",
       " observations: 10\n",
       " predictors:   4\n",
       "\n",
       "Estimates:\n",
       "              mean   sd    10%   50%   90%\n",
       "(Intercept) 246.8   27.9 211.2 246.5 282.7\n",
       "GenderMale   -0.3    0.0  -0.3  -0.3  -0.2\n",
       "Year         -0.1    0.0  -0.1  -0.1  -0.1\n",
       "log(Cases)   -0.2    0.1  -0.3  -0.2  -0.1\n",
       "\n",
       "Fit Diagnostics:\n",
       "           mean   sd    10%   50%   90%\n",
       "mean_PPD 334.9    8.1 324.5 334.9 345.3\n",
       "\n",
       "The mean_ppd is the sample average posterior predictive distribution of the outcome variable (for details see help('summary.stanreg')).\n",
       "\n",
       "MCMC diagnostics\n",
       "              mcse Rhat n_eff\n",
       "(Intercept)   0.5  1.0  3556 \n",
       "GenderMale    0.0  1.0  4154 \n",
       "Year          0.0  1.0  3507 \n",
       "log(Cases)    0.0  1.0  3283 \n",
       "mean_PPD      0.1  1.0  4090 \n",
       "log-posterior 0.0  1.0  1790 \n",
       "\n",
       "For each parameter, mcse is Monte Carlo standard error, n_eff is a crude measure of effective sample size, and Rhat is the potential scale reduction factor on split chains (at convergence Rhat=1)."
      ]
     },
     "metadata": {},
     "output_type": "display_data"
    }
   ],
   "source": [
    "sex_model <- stan_glm(\n",
    "  formula = cbind(Deaths, Cases - Deaths) ~ Gender + Year + log(Cases),\n",
    "  data = sex_data,\n",
    "  family = binomial(link = \"logit\"),\n",
    "  chains = 4,\n",
    "  iter = 2000,\n",
    "  seed = 2025\n",
    ")\n",
    "\n",
    "summary(sex_model)"
   ]
  },
  {
   "cell_type": "code",
   "execution_count": 23,
   "id": "13fe5d9e",
   "metadata": {
    "execution": {
     "iopub.execute_input": "2025-07-20T11:48:10.408868Z",
     "iopub.status.busy": "2025-07-20T11:48:10.407519Z",
     "iopub.status.idle": "2025-07-20T11:48:10.644252Z",
     "shell.execute_reply": "2025-07-20T11:48:10.642741Z"
    },
    "papermill": {
     "duration": 0.262755,
     "end_time": "2025-07-20T11:48:10.646347",
     "exception": false,
     "start_time": "2025-07-20T11:48:10.383592",
     "status": "completed"
    },
    "tags": []
   },
   "outputs": [
    {
     "data": {
      "image/png": "[encoded data removed]"
     },
     "metadata": {
      "image/png": {
       "height": 420,
       "width": 420
      }
     },
     "output_type": "display_data"
    }
   ],
   "source": [
    "posterior_draws <- as.data.frame(sex_model)\n",
    "\n",
    "posterior_summary <- posterior_draws %>%\n",
    "  pivot_longer(everything(), names_to = \"Predictor\", values_to = \"Estimate\") %>%\n",
    "  group_by(Predictor) %>%\n",
    "  summarise(\n",
    "    Mean = mean(Estimate),\n",
    "    Lower80 = quantile(Estimate, 0.10),\n",
    "    Upper80 = quantile(Estimate, 0.90)\n",
    "  )\n",
    "\n",
    "ggplot(posterior_summary, aes(x = Mean, y = fct_reorder(Predictor, Mean))) +\n",
    "  geom_point(size = 3, color = \"#0072B2\") +\n",
    "  geom_errorbarh(aes(xmin = Lower80, xmax = Upper80), height = 0.2, color = \"#0072B2\") +\n",
    "  geom_vline(xintercept = 0, linetype = \"dashed\") +\n",
    "  labs(\n",
    "    title = \"Posterior Estimates with 80% Credible Intervals\",\n",
    "    x = \"Estimate\",\n",
    "    y = \"Predictor\"\n",
    "  ) +\n",
    "  theme_minimal(base_size = 13)"
   ]
  },
  {
   "cell_type": "markdown",
   "id": "d25489c3",
   "metadata": {
    "papermill": {
     "duration": 0.023076,
     "end_time": "2025-07-20T11:48:10.692304",
     "exception": false,
     "start_time": "2025-07-20T11:48:10.669228",
     "status": "completed"
    },
    "tags": []
   },
   "source": [
    "### Posterior Estimates Interpretation (80% Credible Intervals)\n",
    "\n",
    "| Predictor      | Interpretation                                                                                                                                                                                                                                                                               |\n",
    "| -------------- | -------------------------------------------------------------------------------------------------------------------------------------------------------------------------------------------------------------------------------------------------------------------------------------------- |\n",
    "| **Intercept**  | Very large positive value (\\~247) – it anchors the baseline log-odds of death. Likely influenced by small sample size (10 observations). Its wide credible interval suggests **uncertainty** but it's **well above 0**, meaning death is not rare relative to cases in this dataset's scale. |\n",
    "| **GenderMale** | Posterior estimate is **negative** and tightly centered near -0.3. This suggests being **male is associated with a slightly lower log-odds of death** from dengue than female, with high certainty.                                                                                          |\n",
    "| **Year**       | Small but **negative** effect, meaning that in more recent years, the **probability of death decreased slightly**. Credible interval excludes zero.                                                                                                                                          |\n",
    "| **log(Cases)** | Also **negative** — higher case counts (on log scale) are associated with **lower odds of death**, which may suggest **better detection or milder outbreaks** in years with high case volumes.                                                                                               |\n",
    "\n",
    "---\n",
    "\n",
    "### Implications\n",
    "\n",
    "* **Sex appears to have a modest but clear effect**, with **males less likely to die** from dengue in this dataset.\n",
    "* **Temporal trend** (Year) and **case volume** are both associated with **lower death probability**, possibly reflecting improved health responses over time.\n",
    "* **Intercept is large**, which might seem odd, but makes sense given that this model estimates **log-odds**, and this component adjusts for the overall death ratio.\n"
   ]
  },
  {
   "cell_type": "markdown",
   "id": "7cf33bc6",
   "metadata": {
    "papermill": {
     "duration": 0.021997,
     "end_time": "2025-07-20T11:48:10.735785",
     "exception": false,
     "start_time": "2025-07-20T11:48:10.713788",
     "status": "completed"
    },
    "tags": []
   },
   "source": [
    "### Bayesian MCMC Modeling Summary (Sex-based Data, 2008–2015)\n",
    "\n",
    "A Bayesian logistic regression model was fitted using MCMC sampling to examine the relationship between dengue deaths and predictors including **gender**, **year**, and **log-transformed case counts**. Posterior estimates with 80% credible intervals revealed several key findings. The intercept exhibited a large positive estimate, anchoring the baseline log-odds of death, though likely influenced by the small number of observations. Notably, the coefficient for **Gender (Male)** was negative, suggesting that males had a modestly **lower probability of dying from dengue** compared to females, with high certainty. Additionally, **Year** was associated with a slight decrease in death probability over time, indicating potential improvements in case management or healthcare response. Higher **log(Cases)** were also associated with **reduced odds of death**, possibly reflecting better surveillance or milder outbreaks in high-incidence years. All predictors, except the intercept, had tightly bounded credible intervals, supporting stable estimates despite limited sample size."
   ]
  },
  {
   "cell_type": "markdown",
   "id": "f334a950",
   "metadata": {
    "papermill": {
     "duration": 0.022979,
     "end_time": "2025-07-20T11:48:10.780701",
     "exception": false,
     "start_time": "2025-07-20T11:48:10.757722",
     "status": "completed"
    },
    "tags": []
   },
   "source": [
    "# OVERALL SUMMARY"
   ]
  },
  {
   "cell_type": "markdown",
   "id": "ba75c3f5",
   "metadata": {
    "papermill": {
     "duration": 0.022346,
     "end_time": "2025-07-20T11:48:10.826192",
     "exception": false,
     "start_time": "2025-07-20T11:48:10.803846",
     "status": "completed"
    },
    "tags": []
   },
   "source": [
    "## Sub-question 4: *Modeling and Predicting Severity*\n",
    "\n",
    "**Research Focus**\n",
    "Can dengue **deaths be predicted** from case counts and demographic variables (age, sex, region)? Which predictors most influence the **probability of death**?\n",
    "\n",
    "### 1. **Classical Logistic Regression (GLM)**\n",
    "\n",
    "Logistic models were fitted separately on datasets disaggregated by **region**, **sex**, and **age group**, using:\n",
    "\n",
    "$$\n",
    "\\texttt{logit(Death Probability)} \\sim \\texttt{Demographic Factors + Year + log(Cases)}\n",
    "$$\n",
    "\n",
    "* **Region-based GLM**\n",
    "\n",
    "  * Regions like *Region XI, X, XII* had **significantly positive coefficients**, indicating higher death probabilities.\n",
    "  * Regions like *III and II* had negative coefficients, suggesting lower mortality odds.\n",
    "  * `log(Cases)` and `Year` had **negative coefficients**, suggesting deaths may decrease in years or contexts with higher case counts or more recent periods.\n",
    "\n",
    "* **Sex-based GLM**\n",
    "\n",
    "  * `Gender (Male)` showed a **negative coefficient**, suggesting **lower odds of death** in males.\n",
    "  * `Year` and `log(Cases)` were again negative predictors of death, consistent with regional trends.\n",
    "\n",
    "* **Age-based GLM**\n",
    "\n",
    "  * The age group **65+** showed a **positive coefficient**, suggesting **increased risk of death** in older adults.\n",
    "  * The `Year` and `log(Cases)` terms remained negative, pointing toward systemic or temporal factors affecting severity.\n",
    "\n",
    "### 2. **Bootstrap Confidence Intervals**\n",
    "\n",
    "To assess the **stability and uncertainty** of the logistic regression estimates, we implemented **non-parametric bootstrapping**:\n",
    "\n",
    "* **95% Percentile Bootstrap CIs** were computed for each predictor across the three datasets.\n",
    "* Visualized with forest plots (see earlier output).\n",
    "* Findings:\n",
    "\n",
    "  * **Some region coefficients (e.g., Region XI)** consistently remained positive and outside zero in the CI.\n",
    "  * **Gender (Male)** showed a negative CI range, reinforcing the sex-related finding.\n",
    "  * For **Age Group 65+**, the interval was wide but predominantly positive.\n",
    "\n",
    "This approach reinforced classical model interpretations while quantifying **resampling variability**.\n",
    "\n",
    "### 3. **Bayesian MCMC Logistic Modeling**\n",
    "\n",
    "Bayesian logistic regression via `stan_glm()` (with default weakly informative priors) was used to estimate **posterior distributions** and **credible intervals**:\n",
    "\n",
    "* **Region model**:\n",
    "\n",
    "  * Several regions (e.g., **XI, X, XII**) had **posterior means** with **positive 80% credible intervals**, confirming elevated risk.\n",
    "  * Negative estimates for Regions III and II echoed GLM findings.\n",
    "* **Sex model**:\n",
    "\n",
    "  * `Gender (Male)` showed a **posterior mean of -0.3**, with narrow credible intervals—further confirming **lower male mortality risk**.\n",
    "  * `log(Cases)` and `Year` again showed **negative posterior means**, consistent across models.\n",
    "* **Credible intervals** were visualized using point-interval forest plots.\n",
    "* **Model diagnostics**: All MCMC chains converged well (Rhat ≈ 1.0), with adequate effective sample sizes (`n_eff`) and low MCSE.\n",
    "\n",
    "### Overall Insights\n",
    "\n",
    "* **Case counts and year** are **consistently associated with lower death probabilities**, possibly due to better detection, milder outbreaks, or healthcare improvements.\n",
    "* **Region** is the **strongest contextual predictor**, with some regions repeatedly emerging as **higher risk zones**.\n",
    "* **Older age (65+)** and **female sex** show associations with **higher death probability**, though limited data size requires caution.\n",
    "* **Bayesian modeling confirmed** classical and bootstrap findings while offering richer probabilistic interpretations."
   ]
  }
 ],
 "metadata": {
  "kaggle": {
   "accelerator": "none",
   "dataSources": [
    {
     "datasetId": 7905552,
     "sourceId": 12523916,
     "sourceType": "datasetVersion"
    }
   ],
   "dockerImageVersionId": 30749,
   "isGpuEnabled": false,
   "isInternetEnabled": true,
   "language": "r",
   "sourceType": "notebook"
  },
  "kernelspec": {
   "display_name": "R",
   "language": "R",
   "name": "ir"
  },
  "language_info": {
   "codemirror_mode": "r",
   "file_extension": ".r",
   "mimetype": "text/x-r-source",
   "name": "R",
   "pygments_lexer": "r",
   "version": "4.4.0"
  },
  "papermill": {
   "default_parameters": {},
   "duration": 26.026763,
   "end_time": "2025-07-20T11:48:10.969231",
   "environment_variables": {},
   "exception": null,
   "input_path": "__notebook__.ipynb",
   "output_path": "__notebook__.ipynb",
   "parameters": {},
   "start_time": "2025-07-20T11:47:44.942468",
   "version": "2.6.0"
  }
 },
 "nbformat": 4,
 "nbformat_minor": 5
}
