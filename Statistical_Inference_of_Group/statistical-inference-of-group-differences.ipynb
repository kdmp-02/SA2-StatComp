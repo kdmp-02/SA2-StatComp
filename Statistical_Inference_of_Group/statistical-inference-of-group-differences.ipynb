{
 "cells": [
  {
   "cell_type": "code",
   "execution_count": 1,
   "id": "b9fb553a",
   "metadata": {
    "execution": {
     "iopub.execute_input": "2025-07-20T10:25:40.277376Z",
     "iopub.status.busy": "2025-07-20T10:25:40.277073Z",
     "iopub.status.idle": "2025-07-20T10:25:43.443632Z",
     "shell.execute_reply": "2025-07-20T10:25:43.442781Z"
    },
    "papermill": {
     "duration": 3.172049,
     "end_time": "2025-07-20T10:25:43.445234",
     "exception": false,
     "start_time": "2025-07-20T10:25:40.273185",
     "status": "completed"
    },
    "tags": []
   },
   "outputs": [],
   "source": [
    "import numpy as np\n",
    "import pandas as pd\n",
    "from scipy import stats"
   ]
  },
  {
   "cell_type": "code",
   "execution_count": 2,
   "id": "4cda05f1",
   "metadata": {
    "execution": {
     "iopub.execute_input": "2025-07-20T10:25:43.451236Z",
     "iopub.status.busy": "2025-07-20T10:25:43.450832Z",
     "iopub.status.idle": "2025-07-20T10:25:43.475447Z",
     "shell.execute_reply": "2025-07-20T10:25:43.474522Z"
    },
    "papermill": {
     "duration": 0.029155,
     "end_time": "2025-07-20T10:25:43.477112",
     "exception": false,
     "start_time": "2025-07-20T10:25:43.447957",
     "status": "completed"
    },
    "tags": []
   },
   "outputs": [],
   "source": [
    "df = pd.read_csv('/kaggle/input/sa2-datasets/reduced_dengue_by_top10region.csv')"
   ]
  },
  {
   "cell_type": "code",
   "execution_count": 3,
   "id": "88d7dbc9",
   "metadata": {
    "_cell_guid": "b1076dfc-b9ad-4769-8c92-a6c4dae69d19",
    "_uuid": "8f2839f25d086af736a60e9eeb907d3b93b6e0e5",
    "execution": {
     "iopub.execute_input": "2025-07-20T10:25:43.482538Z",
     "iopub.status.busy": "2025-07-20T10:25:43.482261Z",
     "iopub.status.idle": "2025-07-20T10:25:43.495323Z",
     "shell.execute_reply": "2025-07-20T10:25:43.494264Z"
    },
    "papermill": {
     "duration": 0.017291,
     "end_time": "2025-07-20T10:25:43.496684",
     "exception": false,
     "start_time": "2025-07-20T10:25:43.479393",
     "status": "completed"
    },
    "tags": []
   },
   "outputs": [],
   "source": [
    "# Extract data for two regions to compare\n",
    "ncr = df[df['Region'] == 'NCR']['Cases'].values\n",
    "region3 = df[df['Region'] == 'III']['Cases'].values"
   ]
  },
  {
   "cell_type": "code",
   "execution_count": 4,
   "id": "398de311",
   "metadata": {
    "execution": {
     "iopub.execute_input": "2025-07-20T10:25:43.502596Z",
     "iopub.status.busy": "2025-07-20T10:25:43.502047Z",
     "iopub.status.idle": "2025-07-20T10:25:43.507119Z",
     "shell.execute_reply": "2025-07-20T10:25:43.506141Z"
    },
    "papermill": {
     "duration": 0.009572,
     "end_time": "2025-07-20T10:25:43.508597",
     "exception": false,
     "start_time": "2025-07-20T10:25:43.499025",
     "status": "completed"
    },
    "tags": []
   },
   "outputs": [
    {
     "name": "stdout",
     "output_type": "stream",
     "text": [
      "Observed difference in mean cases (NCR - III): -873.0\n",
      "\n"
     ]
    }
   ],
   "source": [
    "# Observed difference in means\n",
    "obs_diff = np.mean(ncr) - np.mean(region3)\n",
    "print(f\"Observed difference in mean cases (NCR - III): {obs_diff:.1f}\\n\")"
   ]
  },
  {
   "cell_type": "code",
   "execution_count": 5,
   "id": "c5699bea",
   "metadata": {
    "execution": {
     "iopub.execute_input": "2025-07-20T10:25:43.514490Z",
     "iopub.status.busy": "2025-07-20T10:25:43.513998Z",
     "iopub.status.idle": "2025-07-20T10:25:43.676340Z",
     "shell.execute_reply": "2025-07-20T10:25:43.675371Z"
    },
    "papermill": {
     "duration": 0.167121,
     "end_time": "2025-07-20T10:25:43.678064",
     "exception": false,
     "start_time": "2025-07-20T10:25:43.510943",
     "status": "completed"
    },
    "tags": []
   },
   "outputs": [],
   "source": [
    "# Permutation test\n",
    "combined = np.concatenate([ncr, region3])\n",
    "n_permutations = 10000\n",
    "perm_diffs = np.zeros(n_permutations)\n",
    "\n",
    "for i in range(n_permutations):\n",
    "    np.random.shuffle(combined)\n",
    "    perm_ncr = combined[:len(ncr)]\n",
    "    perm_region3 = combined[len(ncr):]\n",
    "    perm_diffs[i] = np.mean(perm_ncr) - np.mean(perm_region3)"
   ]
  },
  {
   "cell_type": "code",
   "execution_count": 6,
   "id": "43c5e43d",
   "metadata": {
    "execution": {
     "iopub.execute_input": "2025-07-20T10:25:43.684371Z",
     "iopub.status.busy": "2025-07-20T10:25:43.683597Z",
     "iopub.status.idle": "2025-07-20T10:25:43.693895Z",
     "shell.execute_reply": "2025-07-20T10:25:43.692919Z"
    },
    "papermill": {
     "duration": 0.014928,
     "end_time": "2025-07-20T10:25:43.695347",
     "exception": false,
     "start_time": "2025-07-20T10:25:43.680419",
     "status": "completed"
    },
    "tags": []
   },
   "outputs": [
    {
     "name": "stdout",
     "output_type": "stream",
     "text": [
      "Permutation p-value: 0.871\n"
     ]
    }
   ],
   "source": [
    "# Calculate p-value\n",
    "p_value = (np.sum(np.abs(perm_diffs) >= np.abs(obs_diff)) + 1) / (n_permutations + 1)\n",
    "print(f\"Permutation p-value: {p_value:.3f}\")"
   ]
  },
  {
   "cell_type": "code",
   "execution_count": 7,
   "id": "78fc42fb",
   "metadata": {
    "execution": {
     "iopub.execute_input": "2025-07-20T10:25:43.701182Z",
     "iopub.status.busy": "2025-07-20T10:25:43.700894Z",
     "iopub.status.idle": "2025-07-20T10:25:43.709858Z",
     "shell.execute_reply": "2025-07-20T10:25:43.708930Z"
    },
    "papermill": {
     "duration": 0.013507,
     "end_time": "2025-07-20T10:25:43.711216",
     "exception": false,
     "start_time": "2025-07-20T10:25:43.697709",
     "status": "completed"
    },
    "tags": []
   },
   "outputs": [
    {
     "name": "stdout",
     "output_type": "stream",
     "text": [
      "\n",
      "Observed death rates:\n",
      "- NCR: 0.0042\n",
      "- IVA: 0.0033\n",
      "Observed difference (NCR - IVA): 0.0008\n",
      "\n"
     ]
    }
   ],
   "source": [
    "# Calculate observed death rates\n",
    "ncr_deaths = df[df['Region'] == 'NCR']['Deaths'].sum()\n",
    "ncr_cases = df[df['Region'] == 'NCR']['Cases'].sum()\n",
    "iva_deaths = df[df['Region'] == 'IVA']['Deaths'].sum()\n",
    "iva_cases = df[df['Region'] == 'IVA']['Cases'].sum()\n",
    "\n",
    "ncr_rate = ncr_deaths / ncr_cases\n",
    "iva_rate = iva_deaths / iva_cases\n",
    "obs_diff = ncr_rate - iva_rate\n",
    "print(f\"\\nObserved death rates:\\n- NCR: {ncr_rate:.4f}\\n- IVA: {iva_rate:.4f}\")\n",
    "print(f\"Observed difference (NCR - IVA): {obs_diff:.4f}\\n\")"
   ]
  },
  {
   "cell_type": "code",
   "execution_count": 8,
   "id": "f18080bd",
   "metadata": {
    "execution": {
     "iopub.execute_input": "2025-07-20T10:25:43.717352Z",
     "iopub.status.busy": "2025-07-20T10:25:43.716766Z",
     "iopub.status.idle": "2025-07-20T10:25:59.999934Z",
     "shell.execute_reply": "2025-07-20T10:25:59.998944Z"
    },
    "papermill": {
     "duration": 16.288348,
     "end_time": "2025-07-20T10:26:00.001989",
     "exception": false,
     "start_time": "2025-07-20T10:25:43.713641",
     "status": "completed"
    },
    "tags": []
   },
   "outputs": [
    {
     "name": "stdout",
     "output_type": "stream",
     "text": [
      "Bootstrap 95% CI for rate difference: [0.0003, 0.0014]\n"
     ]
    }
   ],
   "source": [
    "# Bootstrap function\n",
    "def bootstrap_rate_diff(data, region1, region2, n_boot=10000):\n",
    "    rate_diffs = []\n",
    "    for _ in range(n_boot):\n",
    "        sampled_years = np.random.choice(data['Year'].unique(), size=len(data['Year'].unique()), replace=True)\n",
    "        boot_data = data[data['Year'].isin(sampled_years)]\n",
    "        rate1 = boot_data[boot_data['Region'] == region1]['Deaths'].sum() / boot_data[boot_data['Region'] == region1]['Cases'].sum()\n",
    "        rate2 = boot_data[boot_data['Region'] == region2]['Deaths'].sum() / boot_data[boot_data['Region'] == region2]['Cases'].sum()\n",
    "        rate_diffs.append(rate1 - rate2)\n",
    "    return np.array(rate_diffs)\n",
    "\n",
    "boot_diffs = bootstrap_rate_diff(df, 'NCR', 'IVA')\n",
    "\n",
    "# 95% CI and significance\n",
    "ci_low, ci_high = np.percentile(boot_diffs, [2.5, 97.5])\n",
    "print(f\"Bootstrap 95% CI for rate difference: [{ci_low:.4f}, {ci_high:.4f}]\")"
   ]
  }
 ],
 "metadata": {
  "kaggle": {
   "accelerator": "none",
   "dataSources": [
    {
     "datasetId": 7904956,
     "sourceId": 12523086,
     "sourceType": "datasetVersion"
    }
   ],
   "dockerImageVersionId": 31089,
   "isGpuEnabled": false,
   "isInternetEnabled": true,
   "language": "python",
   "sourceType": "notebook"
  },
  "kernelspec": {
   "display_name": "Python 3",
   "language": "python",
   "name": "python3"
  },
  "language_info": {
   "codemirror_mode": {
    "name": "ipython",
    "version": 3
   },
   "file_extension": ".py",
   "mimetype": "text/x-python",
   "name": "python",
   "nbconvert_exporter": "python",
   "pygments_lexer": "ipython3",
   "version": "3.11.13"
  },
  "papermill": {
   "default_parameters": {},
   "duration": 26.035386,
   "end_time": "2025-07-20T10:26:00.624082",
   "environment_variables": {},
   "exception": null,
   "input_path": "__notebook__.ipynb",
   "output_path": "__notebook__.ipynb",
   "parameters": {},
   "start_time": "2025-07-20T10:25:34.588696",
   "version": "2.6.0"
  }
 },
 "nbformat": 4,
 "nbformat_minor": 5
}
