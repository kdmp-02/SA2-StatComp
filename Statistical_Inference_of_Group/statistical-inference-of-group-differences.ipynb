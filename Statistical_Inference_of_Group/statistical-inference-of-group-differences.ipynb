{
 "cells": [
  {
   "cell_type": "code",
   "execution_count": 1,
   "id": "4768a003",
   "metadata": {
    "execution": {
     "iopub.execute_input": "2025-07-20T10:22:06.206862Z",
     "iopub.status.busy": "2025-07-20T10:22:06.206513Z",
     "iopub.status.idle": "2025-07-20T10:22:09.726743Z",
     "shell.execute_reply": "2025-07-20T10:22:09.725722Z"
    },
    "papermill": {
     "duration": 3.525524,
     "end_time": "2025-07-20T10:22:09.728394",
     "exception": false,
     "start_time": "2025-07-20T10:22:06.202870",
     "status": "completed"
    },
    "tags": []
   },
   "outputs": [],
   "source": [
    "import numpy as np\n",
    "import pandas as pd\n",
    "from scipy import stats"
   ]
  },
  {
   "cell_type": "code",
   "execution_count": 2,
   "id": "2c21e1c6",
   "metadata": {
    "execution": {
     "iopub.execute_input": "2025-07-20T10:22:09.733913Z",
     "iopub.status.busy": "2025-07-20T10:22:09.733511Z",
     "iopub.status.idle": "2025-07-20T10:22:09.758563Z",
     "shell.execute_reply": "2025-07-20T10:22:09.757681Z"
    },
    "papermill": {
     "duration": 0.029528,
     "end_time": "2025-07-20T10:22:09.760400",
     "exception": false,
     "start_time": "2025-07-20T10:22:09.730872",
     "status": "completed"
    },
    "tags": []
   },
   "outputs": [],
   "source": [
    "df = pd.read_csv('/kaggle/input/sa2-datasets/reduced_dengue_by_top10region.csv')"
   ]
  },
  {
   "cell_type": "code",
   "execution_count": 3,
   "id": "56612fb5",
   "metadata": {
    "_cell_guid": "b1076dfc-b9ad-4769-8c92-a6c4dae69d19",
    "_uuid": "8f2839f25d086af736a60e9eeb907d3b93b6e0e5",
    "execution": {
     "iopub.execute_input": "2025-07-20T10:22:09.765819Z",
     "iopub.status.busy": "2025-07-20T10:22:09.765549Z",
     "iopub.status.idle": "2025-07-20T10:22:09.779915Z",
     "shell.execute_reply": "2025-07-20T10:22:09.778911Z"
    },
    "papermill": {
     "duration": 0.019549,
     "end_time": "2025-07-20T10:22:09.782047",
     "exception": false,
     "start_time": "2025-07-20T10:22:09.762498",
     "status": "completed"
    },
    "tags": []
   },
   "outputs": [],
   "source": [
    "# Extract data for two regions to compare\n",
    "ncr = df[df['Region'] == 'NCR']['Cases'].values\n",
    "region3 = df[df['Region'] == 'III']['Cases'].values"
   ]
  },
  {
   "cell_type": "code",
   "execution_count": 4,
   "id": "a261928c",
   "metadata": {
    "execution": {
     "iopub.execute_input": "2025-07-20T10:22:09.787037Z",
     "iopub.status.busy": "2025-07-20T10:22:09.786774Z",
     "iopub.status.idle": "2025-07-20T10:22:09.791579Z",
     "shell.execute_reply": "2025-07-20T10:22:09.790612Z"
    },
    "papermill": {
     "duration": 0.009019,
     "end_time": "2025-07-20T10:22:09.793145",
     "exception": false,
     "start_time": "2025-07-20T10:22:09.784126",
     "status": "completed"
    },
    "tags": []
   },
   "outputs": [],
   "source": [
    "# Observed difference in means\n",
    "obs_diff = np.mean(ncr) - np.mean(region3)\n",
    "\n",
    "# Combined data\n",
    "combined = np.concatenate([ncr, region3])"
   ]
  },
  {
   "cell_type": "code",
   "execution_count": 5,
   "id": "32ccf2fa",
   "metadata": {
    "execution": {
     "iopub.execute_input": "2025-07-20T10:22:09.798547Z",
     "iopub.status.busy": "2025-07-20T10:22:09.798253Z",
     "iopub.status.idle": "2025-07-20T10:22:09.946846Z",
     "shell.execute_reply": "2025-07-20T10:22:09.945695Z"
    },
    "papermill": {
     "duration": 0.15311,
     "end_time": "2025-07-20T10:22:09.948551",
     "exception": false,
     "start_time": "2025-07-20T10:22:09.795441",
     "status": "completed"
    },
    "tags": []
   },
   "outputs": [],
   "source": [
    "# Permutation test\n",
    "n_permutations = 10000\n",
    "perm_diffs = np.zeros(n_permutations)\n",
    "\n",
    "for i in range(n_permutations):\n",
    "    np.random.shuffle(combined)\n",
    "    perm_ncr = combined[:len(ncr)]\n",
    "    perm_region3 = combined[len(ncr):]\n",
    "    perm_diffs[i] = np.mean(perm_ncr) - np.mean(perm_region3)"
   ]
  },
  {
   "cell_type": "code",
   "execution_count": 6,
   "id": "099d58ec",
   "metadata": {
    "execution": {
     "iopub.execute_input": "2025-07-20T10:22:09.953685Z",
     "iopub.status.busy": "2025-07-20T10:22:09.953402Z",
     "iopub.status.idle": "2025-07-20T10:22:09.964098Z",
     "shell.execute_reply": "2025-07-20T10:22:09.962647Z"
    },
    "papermill": {
     "duration": 0.015399,
     "end_time": "2025-07-20T10:22:09.965937",
     "exception": false,
     "start_time": "2025-07-20T10:22:09.950538",
     "status": "completed"
    },
    "tags": []
   },
   "outputs": [],
   "source": [
    "# Calculate p-value\n",
    "p_value = (np.sum(np.abs(perm_diffs) >= np.abs(obs_diff)) + 1) / (n_permutations + 1)"
   ]
  },
  {
   "cell_type": "code",
   "execution_count": 7,
   "id": "944c75e5",
   "metadata": {
    "execution": {
     "iopub.execute_input": "2025-07-20T10:22:09.971019Z",
     "iopub.status.busy": "2025-07-20T10:22:09.970662Z",
     "iopub.status.idle": "2025-07-20T10:22:23.927187Z",
     "shell.execute_reply": "2025-07-20T10:22:23.926134Z"
    },
    "papermill": {
     "duration": 13.961148,
     "end_time": "2025-07-20T10:22:23.929046",
     "exception": false,
     "start_time": "2025-07-20T10:22:09.967898",
     "status": "completed"
    },
    "tags": []
   },
   "outputs": [],
   "source": [
    "# Bootstrap function\n",
    "def bootstrap_rate_diff(data, region1, region2, n_boot=10000):\n",
    "    rate_diffs = []\n",
    "    for _ in range(n_boot):\n",
    "        # Resample years with replacement\n",
    "        sampled_years = np.random.choice(data['Year'].unique(), size=len(data['Year'].unique()), replace=True)\n",
    "        boot_data = data[data['Year'].isin(sampled_years)]\n",
    "        \n",
    "        # Calculate rates\n",
    "        rate1 = boot_data[boot_data['Region'] == region1]['Deaths'].sum() / boot_data[boot_data['Region'] == region1]['Cases'].sum()\n",
    "        rate2 = boot_data[boot_data['Region'] == region2]['Deaths'].sum() / boot_data[boot_data['Region'] == region2]['Cases'].sum()\n",
    "        rate_diffs.append(rate1 - rate2)\n",
    "    return np.array(rate_diffs)\n",
    "\n",
    "boot_diffs = bootstrap_rate_diff(df, 'NCR', 'IVA')\n",
    "\n",
    "# 95% CI\n",
    "ci_low, ci_high = np.percentile(boot_diffs, [2.5, 97.5])"
   ]
  }
 ],
 "metadata": {
  "kaggle": {
   "accelerator": "none",
   "dataSources": [
    {
     "datasetId": 7904956,
     "sourceId": 12523086,
     "sourceType": "datasetVersion"
    }
   ],
   "dockerImageVersionId": 31089,
   "isGpuEnabled": false,
   "isInternetEnabled": true,
   "language": "python",
   "sourceType": "notebook"
  },
  "kernelspec": {
   "display_name": "Python 3",
   "language": "python",
   "name": "python3"
  },
  "language_info": {
   "codemirror_mode": {
    "name": "ipython",
    "version": 3
   },
   "file_extension": ".py",
   "mimetype": "text/x-python",
   "name": "python",
   "nbconvert_exporter": "python",
   "pygments_lexer": "ipython3",
   "version": "3.11.13"
  },
  "papermill": {
   "default_parameters": {},
   "duration": 23.238484,
   "end_time": "2025-07-20T10:22:24.551131",
   "environment_variables": {},
   "exception": null,
   "input_path": "__notebook__.ipynb",
   "output_path": "__notebook__.ipynb",
   "parameters": {},
   "start_time": "2025-07-20T10:22:01.312647",
   "version": "2.6.0"
  }
 },
 "nbformat": 4,
 "nbformat_minor": 5
}
