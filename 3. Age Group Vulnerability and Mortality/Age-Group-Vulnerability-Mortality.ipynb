{
 "cells": [
  {
   "cell_type": "markdown",
   "id": "bd988bd8",
   "metadata": {
    "papermill": {
     "duration": 0.006577,
     "end_time": "2025-07-20T09:44:03.801321",
     "exception": false,
     "start_time": "2025-07-20T09:44:03.794744",
     "status": "completed"
    },
    "tags": []
   },
   "source": [
    "# NUMBER 3: Age Group Vulnerability and Mortality from Dengue in the Philippines (2011-2015)"
   ]
  },
  {
   "cell_type": "markdown",
   "id": "471149b4",
   "metadata": {
    "papermill": {
     "duration": 0.005718,
     "end_time": "2025-07-20T09:44:03.812921",
     "exception": false,
     "start_time": "2025-07-20T09:44:03.807203",
     "status": "completed"
    },
    "tags": []
   },
   "source": [
    "## 3.1 Data Loading and Exploration"
   ]
  },
  {
   "cell_type": "code",
   "execution_count": 1,
   "id": "df3e6386",
   "metadata": {
    "_execution_state": "idle",
    "_uuid": "051d70d956493feee0c6d64651c6a088724dca2a",
    "execution": {
     "iopub.execute_input": "2025-07-20T09:44:03.830912Z",
     "iopub.status.busy": "2025-07-20T09:44:03.828471Z",
     "iopub.status.idle": "2025-07-20T09:44:05.188900Z",
     "shell.execute_reply": "2025-07-20T09:44:05.186489Z"
    },
    "papermill": {
     "duration": 1.372373,
     "end_time": "2025-07-20T09:44:05.191998",
     "exception": false,
     "start_time": "2025-07-20T09:44:03.819625",
     "status": "completed"
    },
    "tags": []
   },
   "outputs": [
    {
     "name": "stderr",
     "output_type": "stream",
     "text": [
      "── \u001b[1mAttaching core tidyverse packages\u001b[22m ──────────────────────── tidyverse 2.0.0 ──\n",
      "\u001b[32m✔\u001b[39m \u001b[34mdplyr    \u001b[39m 1.1.4     \u001b[32m✔\u001b[39m \u001b[34mreadr    \u001b[39m 2.1.5\n",
      "\u001b[32m✔\u001b[39m \u001b[34mforcats  \u001b[39m 1.0.0     \u001b[32m✔\u001b[39m \u001b[34mstringr  \u001b[39m 1.5.1\n",
      "\u001b[32m✔\u001b[39m \u001b[34mggplot2  \u001b[39m 3.5.1     \u001b[32m✔\u001b[39m \u001b[34mtibble   \u001b[39m 3.2.1\n",
      "\u001b[32m✔\u001b[39m \u001b[34mlubridate\u001b[39m 1.9.3     \u001b[32m✔\u001b[39m \u001b[34mtidyr    \u001b[39m 1.3.1\n",
      "\u001b[32m✔\u001b[39m \u001b[34mpurrr    \u001b[39m 1.0.2     \n"
     ]
    },
    {
     "name": "stderr",
     "output_type": "stream",
     "text": [
      "── \u001b[1mConflicts\u001b[22m ────────────────────────────────────────── tidyverse_conflicts() ──\n",
      "\u001b[31m✖\u001b[39m \u001b[34mdplyr\u001b[39m::\u001b[32mfilter()\u001b[39m masks \u001b[34mstats\u001b[39m::filter()\n",
      "\u001b[31m✖\u001b[39m \u001b[34mdplyr\u001b[39m::\u001b[32mlag()\u001b[39m    masks \u001b[34mstats\u001b[39m::lag()\n",
      "\u001b[36mℹ\u001b[39m Use the conflicted package (\u001b[3m\u001b[34m<http://conflicted.r-lib.org/>\u001b[39m\u001b[23m) to force all conflicts to become errors\n"
     ]
    },
    {
     "data": {
      "text/html": [
       "'dengue-age'"
      ],
      "text/latex": [
       "'dengue-age'"
      ],
      "text/markdown": [
       "'dengue-age'"
      ],
      "text/plain": [
       "[1] \"dengue-age\""
      ]
     },
     "metadata": {},
     "output_type": "display_data"
    }
   ],
   "source": [
    "library(tidyverse)\n",
    "\n",
    "list.files(path = \"../input\")"
   ]
  },
  {
   "cell_type": "code",
   "execution_count": 2,
   "id": "7b5fb7fe",
   "metadata": {
    "execution": {
     "iopub.execute_input": "2025-07-20T09:44:05.239248Z",
     "iopub.status.busy": "2025-07-20T09:44:05.207692Z",
     "iopub.status.idle": "2025-07-20T09:44:05.445868Z",
     "shell.execute_reply": "2025-07-20T09:44:05.443897Z"
    },
    "papermill": {
     "duration": 0.249944,
     "end_time": "2025-07-20T09:44:05.448628",
     "exception": false,
     "start_time": "2025-07-20T09:44:05.198684",
     "status": "completed"
    },
    "tags": []
   },
   "outputs": [],
   "source": [
    "dengue_age_df <- read_csv(\"/kaggle/input/dengue-age/dengue_by_AgeGroup.csv\", show_col_types = FALSE)"
   ]
  },
  {
   "cell_type": "code",
   "execution_count": 3,
   "id": "df025b35",
   "metadata": {
    "execution": {
     "iopub.execute_input": "2025-07-20T09:44:05.465488Z",
     "iopub.status.busy": "2025-07-20T09:44:05.463889Z",
     "iopub.status.idle": "2025-07-20T09:44:05.498707Z",
     "shell.execute_reply": "2025-07-20T09:44:05.496888Z"
    },
    "papermill": {
     "duration": 0.045759,
     "end_time": "2025-07-20T09:44:05.501444",
     "exception": false,
     "start_time": "2025-07-20T09:44:05.455685",
     "status": "completed"
    },
    "tags": []
   },
   "outputs": [
    {
     "data": {
      "text/html": [
       "<table class=\"dataframe\">\n",
       "<caption>A tibble: 6 × 4</caption>\n",
       "<thead>\n",
       "\t<tr><th scope=col>Year</th><th scope=col>NewAgeGroup</th><th scope=col>Cases</th><th scope=col>Deaths</th></tr>\n",
       "\t<tr><th scope=col>&lt;dbl&gt;</th><th scope=col>&lt;chr&gt;</th><th scope=col>&lt;dbl&gt;</th><th scope=col>&lt;dbl&gt;</th></tr>\n",
       "</thead>\n",
       "<tbody>\n",
       "\t<tr><td>2008</td><td>0–14 </td><td> 7439</td><td>130</td></tr>\n",
       "\t<tr><td>2008</td><td>15–24</td><td>21406</td><td>225</td></tr>\n",
       "\t<tr><td>2008</td><td>25–64</td><td>15936</td><td> 51</td></tr>\n",
       "\t<tr><td>2008</td><td>65+  </td><td> 1393</td><td>  7</td></tr>\n",
       "\t<tr><td>2009</td><td>0–14 </td><td> 9949</td><td>182</td></tr>\n",
       "\t<tr><td>2009</td><td>15–24</td><td>25697</td><td>270</td></tr>\n",
       "</tbody>\n",
       "</table>\n"
      ],
      "text/latex": [
       "A tibble: 6 × 4\n",
       "\\begin{tabular}{llll}\n",
       " Year & NewAgeGroup & Cases & Deaths\\\\\n",
       " <dbl> & <chr> & <dbl> & <dbl>\\\\\n",
       "\\hline\n",
       "\t 2008 & 0–14  &  7439 & 130\\\\\n",
       "\t 2008 & 15–24 & 21406 & 225\\\\\n",
       "\t 2008 & 25–64 & 15936 &  51\\\\\n",
       "\t 2008 & 65+   &  1393 &   7\\\\\n",
       "\t 2009 & 0–14  &  9949 & 182\\\\\n",
       "\t 2009 & 15–24 & 25697 & 270\\\\\n",
       "\\end{tabular}\n"
      ],
      "text/markdown": [
       "\n",
       "A tibble: 6 × 4\n",
       "\n",
       "| Year &lt;dbl&gt; | NewAgeGroup &lt;chr&gt; | Cases &lt;dbl&gt; | Deaths &lt;dbl&gt; |\n",
       "|---|---|---|---|\n",
       "| 2008 | 0–14  |  7439 | 130 |\n",
       "| 2008 | 15–24 | 21406 | 225 |\n",
       "| 2008 | 25–64 | 15936 |  51 |\n",
       "| 2008 | 65+   |  1393 |   7 |\n",
       "| 2009 | 0–14  |  9949 | 182 |\n",
       "| 2009 | 15–24 | 25697 | 270 |\n",
       "\n"
      ],
      "text/plain": [
       "  Year NewAgeGroup Cases Deaths\n",
       "1 2008 0–14         7439 130   \n",
       "2 2008 15–24       21406 225   \n",
       "3 2008 25–64       15936  51   \n",
       "4 2008 65+          1393   7   \n",
       "5 2009 0–14         9949 182   \n",
       "6 2009 15–24       25697 270   "
      ]
     },
     "metadata": {},
     "output_type": "display_data"
    }
   ],
   "source": [
    "head(dengue_age_df)"
   ]
  },
  {
   "cell_type": "code",
   "execution_count": 4,
   "id": "7e0e8d41",
   "metadata": {
    "execution": {
     "iopub.execute_input": "2025-07-20T09:44:05.518921Z",
     "iopub.status.busy": "2025-07-20T09:44:05.516570Z",
     "iopub.status.idle": "2025-07-20T09:44:05.554149Z",
     "shell.execute_reply": "2025-07-20T09:44:05.551833Z"
    },
    "papermill": {
     "duration": 0.049142,
     "end_time": "2025-07-20T09:44:05.557184",
     "exception": false,
     "start_time": "2025-07-20T09:44:05.508042",
     "status": "completed"
    },
    "tags": []
   },
   "outputs": [],
   "source": [
    "df <- dengue_age_df[dengue_age_df$Year >= 2011 & dengue_age_df$Year <= 2015, ]\n",
    "\n",
    "library(dplyr)\n",
    "\n",
    "df <- dengue_age_df %>%\n",
    "  filter(Year >= 2011, Year <= 2015)"
   ]
  },
  {
   "cell_type": "code",
   "execution_count": 5,
   "id": "e0a883a9",
   "metadata": {
    "execution": {
     "iopub.execute_input": "2025-07-20T09:44:05.575613Z",
     "iopub.status.busy": "2025-07-20T09:44:05.573678Z",
     "iopub.status.idle": "2025-07-20T09:44:05.605945Z",
     "shell.execute_reply": "2025-07-20T09:44:05.603785Z"
    },
    "papermill": {
     "duration": 0.044809,
     "end_time": "2025-07-20T09:44:05.609505",
     "exception": false,
     "start_time": "2025-07-20T09:44:05.564696",
     "status": "completed"
    },
    "tags": []
   },
   "outputs": [
    {
     "data": {
      "text/html": [
       "<table class=\"dataframe\">\n",
       "<caption>A tibble: 6 × 4</caption>\n",
       "<thead>\n",
       "\t<tr><th scope=col>Year</th><th scope=col>NewAgeGroup</th><th scope=col>Cases</th><th scope=col>Deaths</th></tr>\n",
       "\t<tr><th scope=col>&lt;dbl&gt;</th><th scope=col>&lt;chr&gt;</th><th scope=col>&lt;dbl&gt;</th><th scope=col>&lt;dbl&gt;</th></tr>\n",
       "</thead>\n",
       "<tbody>\n",
       "\t<tr><td>2011</td><td>0–14 </td><td> 20501</td><td>189</td></tr>\n",
       "\t<tr><td>2011</td><td>15–24</td><td> 54585</td><td>310</td></tr>\n",
       "\t<tr><td>2011</td><td>25–64</td><td> 45347</td><td>112</td></tr>\n",
       "\t<tr><td>2011</td><td>65+  </td><td>  4638</td><td> 34</td></tr>\n",
       "\t<tr><td>2012</td><td>0–14 </td><td>109406</td><td>752</td></tr>\n",
       "\t<tr><td>2012</td><td>15–24</td><td> 49557</td><td> 95</td></tr>\n",
       "</tbody>\n",
       "</table>\n"
      ],
      "text/latex": [
       "A tibble: 6 × 4\n",
       "\\begin{tabular}{llll}\n",
       " Year & NewAgeGroup & Cases & Deaths\\\\\n",
       " <dbl> & <chr> & <dbl> & <dbl>\\\\\n",
       "\\hline\n",
       "\t 2011 & 0–14  &  20501 & 189\\\\\n",
       "\t 2011 & 15–24 &  54585 & 310\\\\\n",
       "\t 2011 & 25–64 &  45347 & 112\\\\\n",
       "\t 2011 & 65+   &   4638 &  34\\\\\n",
       "\t 2012 & 0–14  & 109406 & 752\\\\\n",
       "\t 2012 & 15–24 &  49557 &  95\\\\\n",
       "\\end{tabular}\n"
      ],
      "text/markdown": [
       "\n",
       "A tibble: 6 × 4\n",
       "\n",
       "| Year &lt;dbl&gt; | NewAgeGroup &lt;chr&gt; | Cases &lt;dbl&gt; | Deaths &lt;dbl&gt; |\n",
       "|---|---|---|---|\n",
       "| 2011 | 0–14  |  20501 | 189 |\n",
       "| 2011 | 15–24 |  54585 | 310 |\n",
       "| 2011 | 25–64 |  45347 | 112 |\n",
       "| 2011 | 65+   |   4638 |  34 |\n",
       "| 2012 | 0–14  | 109406 | 752 |\n",
       "| 2012 | 15–24 |  49557 |  95 |\n",
       "\n"
      ],
      "text/plain": [
       "  Year NewAgeGroup Cases  Deaths\n",
       "1 2011 0–14         20501 189   \n",
       "2 2011 15–24        54585 310   \n",
       "3 2011 25–64        45347 112   \n",
       "4 2011 65+           4638  34   \n",
       "5 2012 0–14        109406 752   \n",
       "6 2012 15–24        49557  95   "
      ]
     },
     "metadata": {},
     "output_type": "display_data"
    }
   ],
   "source": [
    "head(df)"
   ]
  },
  {
   "cell_type": "code",
   "execution_count": 6,
   "id": "8b1afaf4",
   "metadata": {
    "execution": {
     "iopub.execute_input": "2025-07-20T09:44:05.628801Z",
     "iopub.status.busy": "2025-07-20T09:44:05.626704Z",
     "iopub.status.idle": "2025-07-20T09:44:05.658221Z",
     "shell.execute_reply": "2025-07-20T09:44:05.656396Z"
    },
    "papermill": {
     "duration": 0.043757,
     "end_time": "2025-07-20T09:44:05.660719",
     "exception": false,
     "start_time": "2025-07-20T09:44:05.616962",
     "status": "completed"
    },
    "tags": []
   },
   "outputs": [
    {
     "data": {
      "text/html": [
       "<table class=\"dataframe\">\n",
       "<caption>A tibble: 6 × 4</caption>\n",
       "<thead>\n",
       "\t<tr><th scope=col>Year</th><th scope=col>NewAgeGroup</th><th scope=col>Cases</th><th scope=col>Deaths</th></tr>\n",
       "\t<tr><th scope=col>&lt;dbl&gt;</th><th scope=col>&lt;chr&gt;</th><th scope=col>&lt;dbl&gt;</th><th scope=col>&lt;dbl&gt;</th></tr>\n",
       "</thead>\n",
       "<tbody>\n",
       "\t<tr><td>2014</td><td>25–64</td><td> 21774</td><td> 74</td></tr>\n",
       "\t<tr><td>2014</td><td>65+  </td><td>  1670</td><td> 11</td></tr>\n",
       "\t<tr><td>2015</td><td>0–14 </td><td>109535</td><td>501</td></tr>\n",
       "\t<tr><td>2015</td><td>15–24</td><td> 59890</td><td> 60</td></tr>\n",
       "\t<tr><td>2015</td><td>25–64</td><td> 41140</td><td> 74</td></tr>\n",
       "\t<tr><td>2015</td><td>65+  </td><td>  2967</td><td> 12</td></tr>\n",
       "</tbody>\n",
       "</table>\n"
      ],
      "text/latex": [
       "A tibble: 6 × 4\n",
       "\\begin{tabular}{llll}\n",
       " Year & NewAgeGroup & Cases & Deaths\\\\\n",
       " <dbl> & <chr> & <dbl> & <dbl>\\\\\n",
       "\\hline\n",
       "\t 2014 & 25–64 &  21774 &  74\\\\\n",
       "\t 2014 & 65+   &   1670 &  11\\\\\n",
       "\t 2015 & 0–14  & 109535 & 501\\\\\n",
       "\t 2015 & 15–24 &  59890 &  60\\\\\n",
       "\t 2015 & 25–64 &  41140 &  74\\\\\n",
       "\t 2015 & 65+   &   2967 &  12\\\\\n",
       "\\end{tabular}\n"
      ],
      "text/markdown": [
       "\n",
       "A tibble: 6 × 4\n",
       "\n",
       "| Year &lt;dbl&gt; | NewAgeGroup &lt;chr&gt; | Cases &lt;dbl&gt; | Deaths &lt;dbl&gt; |\n",
       "|---|---|---|---|\n",
       "| 2014 | 25–64 |  21774 |  74 |\n",
       "| 2014 | 65+   |   1670 |  11 |\n",
       "| 2015 | 0–14  | 109535 | 501 |\n",
       "| 2015 | 15–24 |  59890 |  60 |\n",
       "| 2015 | 25–64 |  41140 |  74 |\n",
       "| 2015 | 65+   |   2967 |  12 |\n",
       "\n"
      ],
      "text/plain": [
       "  Year NewAgeGroup Cases  Deaths\n",
       "1 2014 25–64        21774  74   \n",
       "2 2014 65+           1670  11   \n",
       "3 2015 0–14        109535 501   \n",
       "4 2015 15–24        59890  60   \n",
       "5 2015 25–64        41140  74   \n",
       "6 2015 65+           2967  12   "
      ]
     },
     "metadata": {},
     "output_type": "display_data"
    }
   ],
   "source": [
    "tail(df)"
   ]
  },
  {
   "cell_type": "markdown",
   "id": "300e3726",
   "metadata": {
    "papermill": {
     "duration": 0.006762,
     "end_time": "2025-07-20T09:44:05.674285",
     "exception": false,
     "start_time": "2025-07-20T09:44:05.667523",
     "status": "completed"
    },
    "tags": []
   },
   "source": [
    "## 3.2 Case Fatality Rate (CFR) by Age Group"
   ]
  },
  {
   "cell_type": "code",
   "execution_count": 7,
   "id": "ed54d10b",
   "metadata": {
    "execution": {
     "iopub.execute_input": "2025-07-20T09:44:05.692183Z",
     "iopub.status.busy": "2025-07-20T09:44:05.690610Z",
     "iopub.status.idle": "2025-07-20T09:44:05.736012Z",
     "shell.execute_reply": "2025-07-20T09:44:05.734070Z"
    },
    "papermill": {
     "duration": 0.057434,
     "end_time": "2025-07-20T09:44:05.738967",
     "exception": false,
     "start_time": "2025-07-20T09:44:05.681533",
     "status": "completed"
    },
    "tags": []
   },
   "outputs": [
    {
     "data": {
      "text/html": [
       "<table class=\"dataframe\">\n",
       "<caption>A tibble: 20 × 5</caption>\n",
       "<thead>\n",
       "\t<tr><th scope=col>Year</th><th scope=col>NewAgeGroup</th><th scope=col>Cases</th><th scope=col>Deaths</th><th scope=col>CFR</th></tr>\n",
       "\t<tr><th scope=col>&lt;dbl&gt;</th><th scope=col>&lt;chr&gt;</th><th scope=col>&lt;dbl&gt;</th><th scope=col>&lt;dbl&gt;</th><th scope=col>&lt;dbl&gt;</th></tr>\n",
       "</thead>\n",
       "<tbody>\n",
       "\t<tr><td>2011</td><td>0–14 </td><td> 20501</td><td>189</td><td>0.009219062</td></tr>\n",
       "\t<tr><td>2011</td><td>15–24</td><td> 54585</td><td>310</td><td>0.005679216</td></tr>\n",
       "\t<tr><td>2011</td><td>25–64</td><td> 45347</td><td>112</td><td>0.002469844</td></tr>\n",
       "\t<tr><td>2011</td><td>65+  </td><td>  4638</td><td> 34</td><td>0.007330746</td></tr>\n",
       "\t<tr><td>2012</td><td>0–14 </td><td>109406</td><td>752</td><td>0.006873480</td></tr>\n",
       "\t<tr><td>2012</td><td>15–24</td><td> 49557</td><td> 95</td><td>0.001916984</td></tr>\n",
       "\t<tr><td>2012</td><td>25–64</td><td> 26274</td><td> 61</td><td>0.002321687</td></tr>\n",
       "\t<tr><td>2012</td><td>65+  </td><td>  1320</td><td>  5</td><td>0.003787879</td></tr>\n",
       "\t<tr><td>2013</td><td>0–14 </td><td>113874</td><td>512</td><td>0.004496198</td></tr>\n",
       "\t<tr><td>2013</td><td>15–24</td><td> 54442</td><td> 77</td><td>0.001414349</td></tr>\n",
       "\t<tr><td>2013</td><td>25–64</td><td> 34287</td><td> 53</td><td>0.001545775</td></tr>\n",
       "\t<tr><td>2013</td><td>65+  </td><td>  2076</td><td> 17</td><td>0.008188825</td></tr>\n",
       "\t<tr><td>2014</td><td>0–14 </td><td> 65339</td><td>325</td><td>0.004974058</td></tr>\n",
       "\t<tr><td>2014</td><td>15–24</td><td> 32559</td><td> 55</td><td>0.001689241</td></tr>\n",
       "\t<tr><td>2014</td><td>25–64</td><td> 21774</td><td> 74</td><td>0.003398549</td></tr>\n",
       "\t<tr><td>2014</td><td>65+  </td><td>  1670</td><td> 11</td><td>0.006586826</td></tr>\n",
       "\t<tr><td>2015</td><td>0–14 </td><td>109535</td><td>501</td><td>0.004573880</td></tr>\n",
       "\t<tr><td>2015</td><td>15–24</td><td> 59890</td><td> 60</td><td>0.001001837</td></tr>\n",
       "\t<tr><td>2015</td><td>25–64</td><td> 41140</td><td> 74</td><td>0.001798736</td></tr>\n",
       "\t<tr><td>2015</td><td>65+  </td><td>  2967</td><td> 12</td><td>0.004044489</td></tr>\n",
       "</tbody>\n",
       "</table>\n"
      ],
      "text/latex": [
       "A tibble: 20 × 5\n",
       "\\begin{tabular}{lllll}\n",
       " Year & NewAgeGroup & Cases & Deaths & CFR\\\\\n",
       " <dbl> & <chr> & <dbl> & <dbl> & <dbl>\\\\\n",
       "\\hline\n",
       "\t 2011 & 0–14  &  20501 & 189 & 0.009219062\\\\\n",
       "\t 2011 & 15–24 &  54585 & 310 & 0.005679216\\\\\n",
       "\t 2011 & 25–64 &  45347 & 112 & 0.002469844\\\\\n",
       "\t 2011 & 65+   &   4638 &  34 & 0.007330746\\\\\n",
       "\t 2012 & 0–14  & 109406 & 752 & 0.006873480\\\\\n",
       "\t 2012 & 15–24 &  49557 &  95 & 0.001916984\\\\\n",
       "\t 2012 & 25–64 &  26274 &  61 & 0.002321687\\\\\n",
       "\t 2012 & 65+   &   1320 &   5 & 0.003787879\\\\\n",
       "\t 2013 & 0–14  & 113874 & 512 & 0.004496198\\\\\n",
       "\t 2013 & 15–24 &  54442 &  77 & 0.001414349\\\\\n",
       "\t 2013 & 25–64 &  34287 &  53 & 0.001545775\\\\\n",
       "\t 2013 & 65+   &   2076 &  17 & 0.008188825\\\\\n",
       "\t 2014 & 0–14  &  65339 & 325 & 0.004974058\\\\\n",
       "\t 2014 & 15–24 &  32559 &  55 & 0.001689241\\\\\n",
       "\t 2014 & 25–64 &  21774 &  74 & 0.003398549\\\\\n",
       "\t 2014 & 65+   &   1670 &  11 & 0.006586826\\\\\n",
       "\t 2015 & 0–14  & 109535 & 501 & 0.004573880\\\\\n",
       "\t 2015 & 15–24 &  59890 &  60 & 0.001001837\\\\\n",
       "\t 2015 & 25–64 &  41140 &  74 & 0.001798736\\\\\n",
       "\t 2015 & 65+   &   2967 &  12 & 0.004044489\\\\\n",
       "\\end{tabular}\n"
      ],
      "text/markdown": [
       "\n",
       "A tibble: 20 × 5\n",
       "\n",
       "| Year &lt;dbl&gt; | NewAgeGroup &lt;chr&gt; | Cases &lt;dbl&gt; | Deaths &lt;dbl&gt; | CFR &lt;dbl&gt; |\n",
       "|---|---|---|---|---|\n",
       "| 2011 | 0–14  |  20501 | 189 | 0.009219062 |\n",
       "| 2011 | 15–24 |  54585 | 310 | 0.005679216 |\n",
       "| 2011 | 25–64 |  45347 | 112 | 0.002469844 |\n",
       "| 2011 | 65+   |   4638 |  34 | 0.007330746 |\n",
       "| 2012 | 0–14  | 109406 | 752 | 0.006873480 |\n",
       "| 2012 | 15–24 |  49557 |  95 | 0.001916984 |\n",
       "| 2012 | 25–64 |  26274 |  61 | 0.002321687 |\n",
       "| 2012 | 65+   |   1320 |   5 | 0.003787879 |\n",
       "| 2013 | 0–14  | 113874 | 512 | 0.004496198 |\n",
       "| 2013 | 15–24 |  54442 |  77 | 0.001414349 |\n",
       "| 2013 | 25–64 |  34287 |  53 | 0.001545775 |\n",
       "| 2013 | 65+   |   2076 |  17 | 0.008188825 |\n",
       "| 2014 | 0–14  |  65339 | 325 | 0.004974058 |\n",
       "| 2014 | 15–24 |  32559 |  55 | 0.001689241 |\n",
       "| 2014 | 25–64 |  21774 |  74 | 0.003398549 |\n",
       "| 2014 | 65+   |   1670 |  11 | 0.006586826 |\n",
       "| 2015 | 0–14  | 109535 | 501 | 0.004573880 |\n",
       "| 2015 | 15–24 |  59890 |  60 | 0.001001837 |\n",
       "| 2015 | 25–64 |  41140 |  74 | 0.001798736 |\n",
       "| 2015 | 65+   |   2967 |  12 | 0.004044489 |\n",
       "\n"
      ],
      "text/plain": [
       "   Year NewAgeGroup Cases  Deaths CFR        \n",
       "1  2011 0–14         20501 189    0.009219062\n",
       "2  2011 15–24        54585 310    0.005679216\n",
       "3  2011 25–64        45347 112    0.002469844\n",
       "4  2011 65+           4638  34    0.007330746\n",
       "5  2012 0–14        109406 752    0.006873480\n",
       "6  2012 15–24        49557  95    0.001916984\n",
       "7  2012 25–64        26274  61    0.002321687\n",
       "8  2012 65+           1320   5    0.003787879\n",
       "9  2013 0–14        113874 512    0.004496198\n",
       "10 2013 15–24        54442  77    0.001414349\n",
       "11 2013 25–64        34287  53    0.001545775\n",
       "12 2013 65+           2076  17    0.008188825\n",
       "13 2014 0–14         65339 325    0.004974058\n",
       "14 2014 15–24        32559  55    0.001689241\n",
       "15 2014 25–64        21774  74    0.003398549\n",
       "16 2014 65+           1670  11    0.006586826\n",
       "17 2015 0–14        109535 501    0.004573880\n",
       "18 2015 15–24        59890  60    0.001001837\n",
       "19 2015 25–64        41140  74    0.001798736\n",
       "20 2015 65+           2967  12    0.004044489"
      ]
     },
     "metadata": {},
     "output_type": "display_data"
    }
   ],
   "source": [
    "library(ggplot2)\n",
    "\n",
    "cfr_data <- df %>%\n",
    "  mutate(CFR = Deaths / Cases)\n",
    "\n",
    "cfr_data"
   ]
  },
  {
   "cell_type": "code",
   "execution_count": 8,
   "id": "14c2fe85",
   "metadata": {
    "execution": {
     "iopub.execute_input": "2025-07-20T09:44:05.757039Z",
     "iopub.status.busy": "2025-07-20T09:44:05.755523Z",
     "iopub.status.idle": "2025-07-20T09:44:06.505913Z",
     "shell.execute_reply": "2025-07-20T09:44:06.504012Z"
    },
    "papermill": {
     "duration": 0.762993,
     "end_time": "2025-07-20T09:44:06.509179",
     "exception": false,
     "start_time": "2025-07-20T09:44:05.746186",
     "status": "completed"
    },
    "tags": []
   },
   "outputs": [
    {
     "name": "stderr",
     "output_type": "stream",
     "text": [
      "Warning message:\n",
      "“\u001b[1m\u001b[22mUsing `size` aesthetic for lines was deprecated in ggplot2 3.4.0.\n",
      "\u001b[36mℹ\u001b[39m Please use `linewidth` instead.”\n"
     ]
    },
    {
     "data": {
      "image/png": "[encoded data removed]"
     },
     "metadata": {
      "image/png": {
       "height": 420,
       "width": 420
      }
     },
     "output_type": "display_data"
    }
   ],
   "source": [
    "ggplot(cfr_data, aes(x = Year, y = CFR, color = NewAgeGroup)) +\n",
    "  geom_line(size = 1.2) +\n",
    "  geom_point(size = 2) +\n",
    "  scale_y_continuous(labels = scales::percent_format(accuracy = 0.01)) +\n",
    "  labs(\n",
    "    title = \"Dengue Case Fatality Rate (CFR) by Age Group (2011–2015)\",\n",
    "    x = \"Year\",\n",
    "    y = \"Case Fatality Rate\",\n",
    "    color = \"Age Group\"\n",
    "  ) +\n",
    "  theme_minimal(base_size = 13)"
   ]
  },
  {
   "cell_type": "markdown",
   "id": "44b62b2e",
   "metadata": {
    "papermill": {
     "duration": 0.00913,
     "end_time": "2025-07-20T09:44:06.527727",
     "exception": false,
     "start_time": "2025-07-20T09:44:06.518597",
     "status": "completed"
    },
    "tags": []
   },
   "source": [
    "### Key Observations from the Plot\n",
    "\n",
    "#### 1. Higher CFR in Vulnerable Extremes:\n",
    "   * **Age 65+** and **0–14** consistently have the **highest CFRs**, suggesting greater vulnerability among the elderly and young children.\n",
    "   * For example, CFR for 0–14 in 2011 was near **0.90%**, and 65+ also remained above **0.50%** in most years.\n",
    "\n",
    "#### 2. Decreasing Trends Over Time:\n",
    "\n",
    "   * CFRs appear to **decline** across most age groups from 2011 to 2015, especially in the 0–14 and 15–24 brackets. This might indicate **improvements in case management or early detection**.\n",
    "\n",
    "#### 3. Middle Age Groups (25–64):\n",
    "\n",
    "   * These age groups show the **lowest CFRs**, generally hovering below **0.30%**, with slight fluctuation."
   ]
  },
  {
   "cell_type": "markdown",
   "id": "cbcbb522",
   "metadata": {
    "papermill": {
     "duration": 0.009193,
     "end_time": "2025-07-20T09:44:06.546100",
     "exception": false,
     "start_time": "2025-07-20T09:44:06.536907",
     "status": "completed"
    },
    "tags": []
   },
   "source": [
    "## 3.3 Bootstrap Estimation of CFR by Age Group"
   ]
  },
  {
   "cell_type": "markdown",
   "id": "5c52f1f9",
   "metadata": {
    "papermill": {
     "duration": 0.009278,
     "end_time": "2025-07-20T09:44:06.564875",
     "exception": false,
     "start_time": "2025-07-20T09:44:06.555597",
     "status": "completed"
    },
    "tags": []
   },
   "source": [
    "### Objectives\n",
    "\n",
    "Now, on the next part, the main objective is to quantify the **uncertainty** in the observed **CFRs** among different age groups in the Philippines from 2011-2015 using **boostrap resampling**. In this case, we will estimate the **sampling distribution** of CFR per age group, compute **95% bootstrap confidence intervals** for CFR, and assess the **stability** fatality estimates across age groups.\n",
    "\n",
    "### Methodology\n",
    "\n",
    "As per the code above, the **CFR** is defined as:\n",
    "\n",
    "$$\n",
    "CFR = \\frac{Deaths}{Cases}\n",
    "$$\n",
    "\n",
    "Because actual population-level uncertainty is hard to derive from point counts, we apply the **bootstrap** method:\n",
    "* Resample each age group's data **with replacement**, assuming each reported **case is an individual**.\n",
    "* For each bootstrap sample, compute the CFR\n",
    "* Repeat this **R = 1000** times to generate an empirical distribution.\n",
    "* Calculate **95% confidence intervals** using percentile or BCa method."
   ]
  },
  {
   "cell_type": "code",
   "execution_count": 9,
   "id": "1a8887a5",
   "metadata": {
    "execution": {
     "iopub.execute_input": "2025-07-20T09:44:06.586701Z",
     "iopub.status.busy": "2025-07-20T09:44:06.585108Z",
     "iopub.status.idle": "2025-07-20T09:45:45.983772Z",
     "shell.execute_reply": "2025-07-20T09:45:45.981953Z"
    },
    "papermill": {
     "duration": 99.412889,
     "end_time": "2025-07-20T09:45:45.986841",
     "exception": false,
     "start_time": "2025-07-20T09:44:06.573952",
     "status": "completed"
    },
    "tags": []
   },
   "outputs": [],
   "source": [
    "library(boot)\n",
    "\n",
    "age_totals <- cfr_data %>%\n",
    "  group_by(NewAgeGroup) %>%\n",
    "  summarise(\n",
    "    total_cases = sum(Cases),\n",
    "    total_deaths = sum(Deaths),\n",
    "    .groups = \"drop\"\n",
    "  )\n",
    "\n",
    "bootstrap_cfr <- function(data, indices) {\n",
    "  sampled_data <- data[indices]\n",
    "  deaths <- sum(sampled_data == 1)\n",
    "  return(deaths / length(sampled_data))\n",
    "}\n",
    "\n",
    "bootstrap_results <- list()\n",
    "\n",
    "set.seed(123)\n",
    "for (group in unique(age_totals$NewAgeGroup)) {\n",
    "  \n",
    "  total_cases <- age_totals$total_cases[age_totals$NewAgeGroup == group]\n",
    "  total_deaths <- age_totals$total_deaths[age_totals$NewAgeGroup == group]\n",
    "  \n",
    "  sample_vector <- c(rep(1, total_deaths), rep(0, total_cases - total_deaths))\n",
    "  \n",
    "  boot_obj <- boot(sample_vector, statistic = bootstrap_cfr, R = 1000)\n",
    "  \n",
    "  bootstrap_results[[group]] <- list(\n",
    "    boot_obj = boot_obj,\n",
    "    ci = boot.ci(boot_obj, type = \"perc\")$percent[4:5]  # 95% CI\n",
    "  )\n",
    "}"
   ]
  },
  {
   "cell_type": "code",
   "execution_count": 10,
   "id": "be8913c0",
   "metadata": {
    "execution": {
     "iopub.execute_input": "2025-07-20T09:45:46.015646Z",
     "iopub.status.busy": "2025-07-20T09:45:46.013695Z",
     "iopub.status.idle": "2025-07-20T09:45:46.039007Z",
     "shell.execute_reply": "2025-07-20T09:45:46.036622Z"
    },
    "papermill": {
     "duration": 0.040611,
     "end_time": "2025-07-20T09:45:46.042154",
     "exception": false,
     "start_time": "2025-07-20T09:45:46.001543",
     "status": "completed"
    },
    "tags": []
   },
   "outputs": [
    {
     "data": {
      "text/plain": [
       "$`0–14`\n",
       "$`0–14`$boot_obj\n",
       "\n",
       "ORDINARY NONPARAMETRIC BOOTSTRAP\n",
       "\n",
       "\n",
       "Call:\n",
       "boot(data = sample_vector, statistic = bootstrap_cfr, R = 1000)\n",
       "\n",
       "\n",
       "Bootstrap Statistics :\n",
       "       original        bias     std. error\n",
       "t1* 0.005443623 -5.522447e-06 0.0001130754\n",
       "\n",
       "$`0–14`$ci\n",
       "[1] 0.005216767 0.005660925\n",
       "\n",
       "\n",
       "$`15–24`\n",
       "$`15–24`$boot_obj\n",
       "\n",
       "ORDINARY NONPARAMETRIC BOOTSTRAP\n",
       "\n",
       "\n",
       "Call:\n",
       "boot(data = sample_vector, statistic = bootstrap_cfr, R = 1000)\n",
       "\n",
       "\n",
       "Bootstrap Statistics :\n",
       "       original      bias     std. error\n",
       "t1* 0.002378173 -3.5334e-06 9.401283e-05\n",
       "\n",
       "$`15–24`$ci\n",
       "[1] 0.002194931 0.002573367\n",
       "\n",
       "\n",
       "$`25–64`\n",
       "$`25–64`$boot_obj\n",
       "\n",
       "ORDINARY NONPARAMETRIC BOOTSTRAP\n",
       "\n",
       "\n",
       "Call:\n",
       "boot(data = sample_vector, statistic = bootstrap_cfr, R = 1000)\n",
       "\n",
       "\n",
       "Bootstrap Statistics :\n",
       "       original       bias     std. error\n",
       "t1* 0.002215351 4.821646e-06 0.0001139536\n",
       "\n",
       "$`25–64`$ci\n",
       "[1] 0.001996185 0.002446364\n",
       "\n",
       "\n",
       "$`65+`\n",
       "$`65+`$boot_obj\n",
       "\n",
       "ORDINARY NONPARAMETRIC BOOTSTRAP\n",
       "\n",
       "\n",
       "Call:\n",
       "boot(data = sample_vector, statistic = bootstrap_cfr, R = 1000)\n",
       "\n",
       "\n",
       "Bootstrap Statistics :\n",
       "       original       bias     std. error\n",
       "t1* 0.006234709 2.312367e-05 0.0007225632\n",
       "\n",
       "$`65+`$ci\n",
       "[1] 0.004814143 0.007734196\n",
       "\n"
      ]
     },
     "metadata": {},
     "output_type": "display_data"
    }
   ],
   "source": [
    "bootstrap_results"
   ]
  },
  {
   "cell_type": "markdown",
   "id": "8a26b993",
   "metadata": {
    "papermill": {
     "duration": 0.008894,
     "end_time": "2025-07-20T09:45:46.060114",
     "exception": false,
     "start_time": "2025-07-20T09:45:46.051220",
     "status": "completed"
    },
    "tags": []
   },
   "source": [
    "#### Histogram of bootsrapped CFR estimates for Age Group 0-14"
   ]
  },
  {
   "cell_type": "code",
   "execution_count": 11,
   "id": "53ff3921",
   "metadata": {
    "execution": {
     "iopub.execute_input": "2025-07-20T09:45:46.081654Z",
     "iopub.status.busy": "2025-07-20T09:45:46.080101Z",
     "iopub.status.idle": "2025-07-20T09:45:46.175534Z",
     "shell.execute_reply": "2025-07-20T09:45:46.172744Z"
    },
    "papermill": {
     "duration": 0.109487,
     "end_time": "2025-07-20T09:45:46.178585",
     "exception": false,
     "start_time": "2025-07-20T09:45:46.069098",
     "status": "completed"
    },
    "tags": []
   },
   "outputs": [
    {
     "data": {
      "image/png": "[encoded data removed]"
     },
     "metadata": {
      "image/png": {
       "height": 420,
       "width": 420
      }
     },
     "output_type": "display_data"
    }
   ],
   "source": [
    "hist(boot_obj$t)"
   ]
  },
  {
   "cell_type": "markdown",
   "id": "1bb7db98",
   "metadata": {
    "papermill": {
     "duration": 0.009662,
     "end_time": "2025-07-20T09:45:46.197926",
     "exception": false,
     "start_time": "2025-07-20T09:45:46.188264",
     "status": "completed"
    },
    "tags": []
   },
   "source": [
    "Distribution appears approximately normal."
   ]
  },
  {
   "cell_type": "markdown",
   "id": "d9af049c",
   "metadata": {
    "papermill": {
     "duration": 0.009551,
     "end_time": "2025-07-20T09:45:46.217143",
     "exception": false,
     "start_time": "2025-07-20T09:45:46.207592",
     "status": "completed"
    },
    "tags": []
   },
   "source": [
    "### Results Summary\n",
    "\n",
    "From the reults above, we can have a table:\n",
    "\n",
    "| Age Group | CFR Estimate | 95% CI Lower | 95% CI Upper | Std. Error | Bias     |\n",
    "| --------- | ------------ | ------------ | ------------ | ---------- | -------- |\n",
    "| 0–14      | 0.00544      | 0.00522      | 0.00566      | 0.000113   | -5.5e-06 |\n",
    "| 15–24     | 0.00238      | 0.00219      | 0.00257      | 0.000094   | -3.5e-06 |\n",
    "| 25–64     | 0.00222      | 0.00199      | 0.00245      | 0.000114   | 4.8e-06  |\n",
    "| 65+       | 0.00623      | 0.00481      | 0.00773      | 0.000723   | 2.3e-05  |\n"
   ]
  },
  {
   "cell_type": "markdown",
   "id": "80492f91",
   "metadata": {
    "papermill": {
     "duration": 0.009491,
     "end_time": "2025-07-20T09:45:46.236231",
     "exception": false,
     "start_time": "2025-07-20T09:45:46.226740",
     "status": "completed"
    },
    "tags": []
   },
   "source": [
    "### Interpretation\n",
    "\n",
    "* The **65+ age group** has the **highest mean CFR (0.623%)**, with the **widest confidenc interval**, suggesting both increased risk and variability in outcome.\n",
    "* The **0-14 group** also has a relatively high CFR (0.544%) with a tighter CI, indicating more stable estimates.\n",
    "* **Working-age groups (15-64)** show lower CFRs (~02-0.25%) and more compact confidence intervals.\n",
    "* The CFR distribution for all groups appears to be **approximately normal**, supporting use of percentile intervals."
   ]
  },
  {
   "cell_type": "markdown",
   "id": "a5c8996b",
   "metadata": {
    "papermill": {
     "duration": 0.009444,
     "end_time": "2025-07-20T09:45:46.255103",
     "exception": false,
     "start_time": "2025-07-20T09:45:46.245659",
     "status": "completed"
    },
    "tags": []
   },
   "source": [
    "## 3.4 Permutation Test for Age-Based CFR Differences"
   ]
  },
  {
   "cell_type": "markdown",
   "id": "a0346a26",
   "metadata": {
    "papermill": {
     "duration": 0.009849,
     "end_time": "2025-07-20T09:45:46.274495",
     "exception": false,
     "start_time": "2025-07-20T09:45:46.264646",
     "status": "completed"
    },
    "tags": []
   },
   "source": [
    "### Objectives\n",
    "\n",
    "To test where the **observed differnces in dengue CFRs** across age groups are **statistically significant**, or if they could be due to random variabtion, using a **nonparametric permutation test**.\n",
    "\n",
    "### Methodology\n",
    "\n",
    "* **Null Hypothesis ($H_0$)**: The distribution of CFR is the same across all age groups (no group effect).\n",
    "*  **Alternative Hypothesis ($H_1$)**: At least one age group has a different CFR.\n",
    "\n",
    "**ANOVA F-statistic** on CFRs by group will be used to sumulate the **F-statistic** under permutations."
   ]
  },
  {
   "cell_type": "code",
   "execution_count": 12,
   "id": "9acdc4ed",
   "metadata": {
    "execution": {
     "iopub.execute_input": "2025-07-20T09:45:46.297338Z",
     "iopub.status.busy": "2025-07-20T09:45:46.295804Z",
     "iopub.status.idle": "2025-07-20T09:53:51.079593Z",
     "shell.execute_reply": "2025-07-20T09:53:51.076763Z"
    },
    "papermill": {
     "duration": 484.810607,
     "end_time": "2025-07-20T09:53:51.094845",
     "exception": false,
     "start_time": "2025-07-20T09:45:46.284238",
     "status": "completed"
    },
    "tags": []
   },
   "outputs": [
    {
     "name": "stdout",
     "output_type": "stream",
     "text": [
      "Observed F-statistic: 182.1121 \n"
     ]
    },
    {
     "name": "stdout",
     "output_type": "stream",
     "text": [
      "Permutation p-value: 0 \n"
     ]
    }
   ],
   "source": [
    "set.seed(123)\n",
    "\n",
    "binary_data <- data.frame()\n",
    "\n",
    "for (i in 1:nrow(age_totals)) {\n",
    "  group <- age_totals$NewAgeGroup[i]\n",
    "  deaths <- age_totals$total_deaths[i]\n",
    "  cases <- age_totals$total_cases[i]\n",
    "  bin_vec <- c(rep(1, deaths), rep(0, cases - deaths))\n",
    "  \n",
    "  binary_data <- rbind(binary_data,\n",
    "                       data.frame(outcome = bin_vec,\n",
    "                                  group = group))\n",
    "}\n",
    "\n",
    "obs_model <- aov(outcome ~ group, data = binary_data)\n",
    "obs_F <- summary(obs_model)[[1]][[\"F value\"]][1]\n",
    "\n",
    "n_perm <- 1000\n",
    "perm_Fs <- numeric(n_perm)\n",
    "\n",
    "for (i in 1:n_perm) {\n",
    "  shuffled <- data.frame(\n",
    "    outcome = binary_data$outcome,\n",
    "    group = sample(binary_data$group)\n",
    "  )\n",
    "  \n",
    "  model <- aov(outcome ~ group, data = shuffled)\n",
    "  perm_Fs[i] <- summary(model)[[1]][[\"F value\"]][1]\n",
    "}\n",
    "\n",
    "p_value <- mean(perm_Fs >= obs_F)\n",
    "\n",
    "cat(\"Observed F-statistic:\", obs_F, \"\\n\")\n",
    "cat(\"Permutation p-value:\", p_value, \"\\n\")"
   ]
  },
  {
   "cell_type": "markdown",
   "id": "9ed77097",
   "metadata": {
    "papermill": {
     "duration": 0.017296,
     "end_time": "2025-07-20T09:53:51.129449",
     "exception": false,
     "start_time": "2025-07-20T09:53:51.112153",
     "status": "completed"
    },
    "tags": []
   },
   "source": [
    "### Results\n",
    "\n",
    "* **Observed F-statistic: `182.11`\n",
    "* **Permutation p-value**: `<0.001` (Reported as 0 due to none of 1000 permutations exceeding the observed F)"
   ]
  },
  {
   "cell_type": "code",
   "execution_count": 13,
   "id": "e2237ae8",
   "metadata": {
    "execution": {
     "iopub.execute_input": "2025-07-20T09:53:51.159639Z",
     "iopub.status.busy": "2025-07-20T09:53:51.158065Z",
     "iopub.status.idle": "2025-07-20T09:53:51.240300Z",
     "shell.execute_reply": "2025-07-20T09:53:51.237613Z"
    },
    "papermill": {
     "duration": 0.09763,
     "end_time": "2025-07-20T09:53:51.243286",
     "exception": false,
     "start_time": "2025-07-20T09:53:51.145656",
     "status": "completed"
    },
    "tags": []
   },
   "outputs": [
    {
     "data": {
      "image/png": "[encoded data removed]"
     },
     "metadata": {
      "image/png": {
       "height": 420,
       "width": 420
      }
     },
     "output_type": "display_data"
    }
   ],
   "source": [
    "hist(perm_Fs, breaks = 40, col = \"skyblue\",\n",
    "     main = \"Permutation Test: Null Distribution of F-statistic\",\n",
    "     xlab = \"F-statistic\")\n",
    "abline(v = obs_F, col = \"red\", lwd = 2)"
   ]
  },
  {
   "cell_type": "markdown",
   "id": "aa1f54ce",
   "metadata": {
    "papermill": {
     "duration": 0.010643,
     "end_time": "2025-07-20T09:53:51.264989",
     "exception": false,
     "start_time": "2025-07-20T09:53:51.254346",
     "status": "completed"
    },
    "tags": []
   },
   "source": [
    "### Interpretation of the Plot\n",
    "* The histogram shows the null distribution of F-statistics\n",
    "* THe observed F(`182.11`) lies **far beyond the right tail** of this distribution\n",
    "\n",
    "The permutation test strongly rejects the null hypothesis that age group has no effect on CFR. This supports the conclustion that **CFR differences across age groups are staistically significant**, with older and younger populations showing higher risk.\n",
    "\n",
    "### Implications\n",
    "\n",
    "* The **age group** is a **significant predictor** of mortality risk in dengue cases.\n",
    "* **Health interventions** and **risk communication** should prioritize the vulnerable extremes (0-14 and 65+ groups), aligning with CFR patterns and statistical evidence."
   ]
  },
  {
   "cell_type": "markdown",
   "id": "ca2325d6",
   "metadata": {
    "papermill": {
     "duration": 0.010617,
     "end_time": "2025-07-20T09:53:51.286344",
     "exception": false,
     "start_time": "2025-07-20T09:53:51.275727",
     "status": "completed"
    },
    "tags": []
   },
   "source": [
    "## 3.5 Effect Size Estimation and Post-hoc Analysis"
   ]
  },
  {
   "cell_type": "markdown",
   "id": "6abfd5f4",
   "metadata": {
    "papermill": {
     "duration": 0.01073,
     "end_time": "2025-07-20T09:53:51.307631",
     "exception": false,
     "start_time": "2025-07-20T09:53:51.296901",
     "status": "completed"
    },
    "tags": []
   },
   "source": [
    "### Objectives\n",
    "\n",
    "Quantify **how large the CFR differences** are between age groups and **which specific age groups differ significantly** from each other. With that, we aim to:\n",
    "\n",
    "* Estimate **effect size** using **eta-squared (η²)** to assess the magnitude of group differences.\n",
    "* Perform **pairwise permutation tests** between age groups to localize significant contrasts in CFR.\n",
    "\n",
    "### Methodology\n",
    "\n",
    "#### A. Effect Size (η²)\n",
    "\n",
    "Eta-squared gives the proportion of variance in CFR explained by age group. Calculated as:\n"
   ]
  },
  {
   "cell_type": "code",
   "execution_count": 14,
   "id": "68ef59fb",
   "metadata": {
    "execution": {
     "iopub.execute_input": "2025-07-20T09:53:51.332458Z",
     "iopub.status.busy": "2025-07-20T09:53:51.330900Z",
     "iopub.status.idle": "2025-07-20T09:53:51.358727Z",
     "shell.execute_reply": "2025-07-20T09:53:51.356407Z"
    },
    "papermill": {
     "duration": 0.04325,
     "end_time": "2025-07-20T09:53:51.361586",
     "exception": false,
     "start_time": "2025-07-20T09:53:51.318336",
     "status": "completed"
    },
    "tags": []
   },
   "outputs": [
    {
     "data": {
      "text/html": [
       "0.582957585925687"
      ],
      "text/latex": [
       "0.582957585925687"
      ],
      "text/markdown": [
       "0.582957585925687"
      ],
      "text/plain": [
       "[1] 0.5829576"
      ]
     },
     "metadata": {},
     "output_type": "display_data"
    }
   ],
   "source": [
    "aov_model <- aov(CFR ~ NewAgeGroup, data = cfr_data)\n",
    "summary_aov <- summary(aov_model)\n",
    "ss_total <- sum(aov_model$residuals^2) + sum((fitted(aov_model) - mean(cfr_data$CFR))^2)\n",
    "ss_between <- summary_aov[[1]][[\"Sum Sq\"]][1]\n",
    "eta_squared <- ss_between / ss_total\n",
    "eta_squared"
   ]
  },
  {
   "cell_type": "markdown",
   "id": "1e4f9744",
   "metadata": {
    "papermill": {
     "duration": 0.011127,
     "end_time": "2025-07-20T09:53:51.383392",
     "exception": false,
     "start_time": "2025-07-20T09:53:51.372265",
     "status": "completed"
    },
    "tags": []
   },
   "source": [
    "#### Effect Size\n",
    "\n",
    "* **Eta-squared (η²)** = `0.583`\n",
    "* **Interpretation**: About **58.3%** of the variance in CFR can be explained by age group — a **large effect size**, indicating strong practical importance.\n"
   ]
  },
  {
   "cell_type": "markdown",
   "id": "7185a9b6",
   "metadata": {
    "papermill": {
     "duration": 0.010998,
     "end_time": "2025-07-20T09:53:51.405134",
     "exception": false,
     "start_time": "2025-07-20T09:53:51.394136",
     "status": "completed"
    },
    "tags": []
   },
   "source": [
    "#### Pairwise Permutation Test\n",
    "\n",
    "Comparing CFRs between **each pair of age groups** using permutation tests."
   ]
  },
  {
   "cell_type": "code",
   "execution_count": 15,
   "id": "b43ef749",
   "metadata": {
    "execution": {
     "iopub.execute_input": "2025-07-20T09:53:51.430221Z",
     "iopub.status.busy": "2025-07-20T09:53:51.428567Z",
     "iopub.status.idle": "2025-07-20T09:53:51.651466Z",
     "shell.execute_reply": "2025-07-20T09:53:51.649138Z"
    },
    "papermill": {
     "duration": 0.238505,
     "end_time": "2025-07-20T09:53:51.654306",
     "exception": false,
     "start_time": "2025-07-20T09:53:51.415801",
     "status": "completed"
    },
    "tags": []
   },
   "outputs": [
    {
     "data": {
      "text/html": [
       "<table class=\"dataframe\">\n",
       "<caption>A tibble: 6 × 4</caption>\n",
       "<thead>\n",
       "\t<tr><th scope=col>Group1</th><th scope=col>Group2</th><th scope=col>Observed_Diff</th><th scope=col>P_value</th></tr>\n",
       "\t<tr><th scope=col>&lt;chr&gt;</th><th scope=col>&lt;chr&gt;</th><th scope=col>&lt;dbl&gt;</th><th scope=col>&lt;dbl&gt;</th></tr>\n",
       "</thead>\n",
       "<tbody>\n",
       "\t<tr><td>0–14 </td><td>15–24</td><td>3.687010e-03</td><td>0.034</td></tr>\n",
       "\t<tr><td>0–14 </td><td>25–64</td><td>3.720418e-03</td><td>0.010</td></tr>\n",
       "\t<tr><td>0–14 </td><td>65+  </td><td>3.958283e-05</td><td>0.988</td></tr>\n",
       "\t<tr><td>15–24</td><td>25–64</td><td>3.340735e-05</td><td>0.986</td></tr>\n",
       "\t<tr><td>15–24</td><td>65+  </td><td>3.647428e-03</td><td>0.036</td></tr>\n",
       "\t<tr><td>25–64</td><td>65+  </td><td>3.680835e-03</td><td>0.008</td></tr>\n",
       "</tbody>\n",
       "</table>\n"
      ],
      "text/latex": [
       "A tibble: 6 × 4\n",
       "\\begin{tabular}{llll}\n",
       " Group1 & Group2 & Observed\\_Diff & P\\_value\\\\\n",
       " <chr> & <chr> & <dbl> & <dbl>\\\\\n",
       "\\hline\n",
       "\t 0–14  & 15–24 & 3.687010e-03 & 0.034\\\\\n",
       "\t 0–14  & 25–64 & 3.720418e-03 & 0.010\\\\\n",
       "\t 0–14  & 65+   & 3.958283e-05 & 0.988\\\\\n",
       "\t 15–24 & 25–64 & 3.340735e-05 & 0.986\\\\\n",
       "\t 15–24 & 65+   & 3.647428e-03 & 0.036\\\\\n",
       "\t 25–64 & 65+   & 3.680835e-03 & 0.008\\\\\n",
       "\\end{tabular}\n"
      ],
      "text/markdown": [
       "\n",
       "A tibble: 6 × 4\n",
       "\n",
       "| Group1 &lt;chr&gt; | Group2 &lt;chr&gt; | Observed_Diff &lt;dbl&gt; | P_value &lt;dbl&gt; |\n",
       "|---|---|---|---|\n",
       "| 0–14  | 15–24 | 3.687010e-03 | 0.034 |\n",
       "| 0–14  | 25–64 | 3.720418e-03 | 0.010 |\n",
       "| 0–14  | 65+   | 3.958283e-05 | 0.988 |\n",
       "| 15–24 | 25–64 | 3.340735e-05 | 0.986 |\n",
       "| 15–24 | 65+   | 3.647428e-03 | 0.036 |\n",
       "| 25–64 | 65+   | 3.680835e-03 | 0.008 |\n",
       "\n"
      ],
      "text/plain": [
       "  Group1 Group2 Observed_Diff P_value\n",
       "1 0–14   15–24  3.687010e-03  0.034  \n",
       "2 0–14   25–64  3.720418e-03  0.010  \n",
       "3 0–14   65+    3.958283e-05  0.988  \n",
       "4 15–24  25–64  3.340735e-05  0.986  \n",
       "5 15–24  65+    3.647428e-03  0.036  \n",
       "6 25–64  65+    3.680835e-03  0.008  "
      ]
     },
     "metadata": {},
     "output_type": "display_data"
    }
   ],
   "source": [
    "library(dplyr)\n",
    "\n",
    "pairwise_permutation <- function(group1, group2, n_perm = 1000) {\n",
    "  combined <- c(group1$CFR, group2$CFR)\n",
    "  group_labels <- c(rep(\"G1\", nrow(group1)), rep(\"G2\", nrow(group2)))\n",
    "  \n",
    "  obs_diff <- abs(mean(group1$CFR) - mean(group2$CFR))\n",
    "  \n",
    "  perm_diffs <- replicate(n_perm, {\n",
    "    shuffled_labels <- sample(group_labels)\n",
    "    mean(combined[shuffled_labels == \"G1\"]) - mean(combined[shuffled_labels == \"G2\"])\n",
    "  })\n",
    "  \n",
    "  p_value <- mean(abs(perm_diffs) >= obs_diff)\n",
    "  \n",
    "  return(list(obs_diff = obs_diff, p_value = p_value))\n",
    "}\n",
    "\n",
    "\n",
    "age_groups <- unique(cfr_data$NewAgeGroup)\n",
    "\n",
    "pairwise_results <- combn(age_groups, 2, simplify = FALSE, FUN = function(pair) {\n",
    "  g1 <- cfr_data %>% filter(NewAgeGroup == pair[1])\n",
    "  g2 <- cfr_data %>% filter(NewAgeGroup == pair[2])\n",
    "  test <- pairwise_permutation(g1, g2)\n",
    "  tibble(\n",
    "    Group1 = pair[1],\n",
    "    Group2 = pair[2],\n",
    "    Observed_Diff = test$obs_diff,\n",
    "    P_value = test$p_value\n",
    "  )\n",
    "})\n",
    "\n",
    "pairwise_results_df <- bind_rows(pairwise_results)\n",
    "\n",
    "pairwise_results_df"
   ]
  },
  {
   "cell_type": "code",
   "execution_count": 16,
   "id": "a501f95b",
   "metadata": {
    "execution": {
     "iopub.execute_input": "2025-07-20T09:53:51.679515Z",
     "iopub.status.busy": "2025-07-20T09:53:51.677899Z",
     "iopub.status.idle": "2025-07-20T09:53:52.136168Z",
     "shell.execute_reply": "2025-07-20T09:53:52.134317Z"
    },
    "papermill": {
     "duration": 0.473493,
     "end_time": "2025-07-20T09:53:52.138620",
     "exception": false,
     "start_time": "2025-07-20T09:53:51.665127",
     "status": "completed"
    },
    "tags": []
   },
   "outputs": [
    {
     "data": {
      "image/png": "[encoded data removed]"
     },
     "metadata": {
      "image/png": {
       "height": 420,
       "width": 420
      }
     },
     "output_type": "display_data"
    }
   ],
   "source": [
    "library(ggplot2)\n",
    "library(dplyr)\n",
    "library(tidyr)\n",
    "\n",
    "pairwise_results_df <- as.data.frame(pairwise_results_df)\n",
    "\n",
    "pairwise_results_df <- pairwise_results_df %>%\n",
    "  mutate(Significant = ifelse(P_value < 0.05, \"Yes\", \"No\"))\n",
    "\n",
    "heatmap_data <- pairwise_results_df %>%\n",
    "  rename(Age1 = Group1, Age2 = Group2, Diff = Observed_Diff, P = P_value) %>%\n",
    "  bind_rows(\n",
    "    pairwise_results_df %>%\n",
    "      rename(Age2 = Group1, Age1 = Group2, Diff = Observed_Diff, P = P_value)\n",
    "  )\n",
    "\n",
    "ggplot(heatmap_data, aes(x = Age1, y = Age2, fill = Diff)) +\n",
    "  geom_tile(color = \"white\") +\n",
    "  geom_text(aes(label = ifelse(P < 0.05, sprintf(\"%.3f*\", Diff), sprintf(\"%.3f\", Diff))), size = 4) +\n",
    "  scale_fill_gradient2(low = \"blue\", high = \"red\", mid = \"white\", midpoint = 0,\n",
    "                       name = \"CFR Diff\") +\n",
    "  labs(title = \"Pairwise CFR Differences by Age Group (2011–2015)\",\n",
    "       subtitle = \"* indicates p < 0.05\",\n",
    "       x = \"Age Group\", y = \"Age Group\") +\n",
    "  theme_minimal() +\n",
    "  theme(axis.text.x = element_text(angle = 45, hjust = 1))"
   ]
  },
  {
   "cell_type": "markdown",
   "id": "bd5dd7b0",
   "metadata": {
    "papermill": {
     "duration": 0.011982,
     "end_time": "2025-07-20T09:53:52.163943",
     "exception": false,
     "start_time": "2025-07-20T09:53:52.151961",
     "status": "completed"
    },
    "tags": []
   },
   "source": [
    "### Interpretation\n",
    "\n",
    "* The **0–14 age group** shows significantly higher CFRs than both the **15–24** and **25–64** groups.\n",
    "* No significant difference was observed between **0–14** and **65+**, suggesting similar vulnerability in CFR despite age disparity.\n",
    "* **Elderly (65+)** had higher CFRs than **15–24** and **25–64**, aligning with clinical expectations.\n",
    "* **Younger adults (15–64)** showed no statistically significant difference in CFRs, suggesting similar resilience or clinical outcomes.\n",
    "\n",
    "### Insights\n",
    "\n",
    "* Both **young children** (0–14) and **elderly** (65+) emerge as the **most vulnerable** in terms of fatality risk, confirming a **U-shaped vulnerability curve**.\n",
    "* This warrants **targeted interventions** for early diagnosis and improved care for both extremes of age.\n",
    "* High η² reinforces that **age is a major determinant** of dengue mortality risk."
   ]
  }
 ],
 "metadata": {
  "kaggle": {
   "accelerator": "none",
   "dataSources": [
    {
     "datasetId": 7904441,
     "sourceId": 12522372,
     "sourceType": "datasetVersion"
    }
   ],
   "dockerImageVersionId": 30749,
   "isGpuEnabled": false,
   "isInternetEnabled": true,
   "language": "r",
   "sourceType": "notebook"
  },
  "kernelspec": {
   "display_name": "R",
   "language": "R",
   "name": "ir"
  },
  "language_info": {
   "codemirror_mode": "r",
   "file_extension": ".r",
   "mimetype": "text/x-r-source",
   "name": "R",
   "pygments_lexer": "r",
   "version": "4.4.0"
  },
  "papermill": {
   "default_parameters": {},
   "duration": 592.214072,
   "end_time": "2025-07-20T09:53:52.398365",
   "environment_variables": {},
   "exception": null,
   "input_path": "__notebook__.ipynb",
   "output_path": "__notebook__.ipynb",
   "parameters": {},
   "start_time": "2025-07-20T09:44:00.184293",
   "version": "2.6.0"
  }
 },
 "nbformat": 4,
 "nbformat_minor": 5
}
